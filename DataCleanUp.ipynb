{
  "nbformat": 4,
  "nbformat_minor": 0,
  "metadata": {
    "colab": {
      "name": "DataCleanUp.ipynb",
      "version": "0.3.2",
      "provenance": [],
      "include_colab_link": true
    },
    "kernelspec": {
      "name": "python3",
      "display_name": "Python 3"
    }
  },
  "cells": [
    {
      "cell_type": "markdown",
      "metadata": {
        "id": "view-in-github",
        "colab_type": "text"
      },
      "source": [
        "<a href=\"https://colab.research.google.com/github/ps24/parkingCitationsMLAnalysis/blob/master/DataCleanUp.ipynb\" target=\"_parent\"><img src=\"https://colab.research.google.com/assets/colab-badge.svg\" alt=\"Open In Colab\"/></a>"
      ]
    },
    {
      "metadata": {
        "id": "JuNdN9sMIJza",
        "colab_type": "text"
      },
      "cell_type": "markdown",
      "source": [
        "#  About Data Clean Up\n",
        "Data clean up will consist of the following operations:\n",
        "\n",
        "1: Remove series with 6 mil+ missing data --> these series will be removed from the dataframe:\n",
        "* Meter Id\n",
        "* Marked Time\n",
        "* Plate Expiry Date\n",
        "* VIN\n",
        "\n",
        "2: Keep the following data:\n",
        "* Issue Date\n",
        "* Issue time\n",
        "* RP State Plate\n",
        "* Location\n",
        "* Violation Description\n",
        "\n",
        "3: Clean up 'Location' series\n",
        "\n",
        "* Remove rows with NaN (765 rows)\n",
        "* Clean up 'Location' fomat (remove nonalpha numeric characters such as '! ? *')\n",
        "\n",
        "4: Add series: create 'Issue_hour' column from 'Issue time' column to list only hour\n",
        "\n",
        "5: Add series: create 'Issue_Month', 'Issue_Year', 'Issue_Weekday' column from 'Issue Date' column\n",
        "\n",
        "6: Create new dataframe\n",
        "\n",
        "7: Run Geocode API\n",
        "* Add series: create 'Zip_Code' column from 'Location'\n",
        "* Add series: create 'Latitude', 'Longitude' columns from 'Location'\n",
        "\n",
        "8: Create new dataframe --> Save this dataframe as a csv in gDrive"
      ]
    },
    {
      "metadata": {
        "id": "jx2n7NodHsE0",
        "colab_type": "text"
      },
      "cell_type": "markdown",
      "source": [
        "# Package Imports\n"
      ]
    },
    {
      "metadata": {
        "id": "l1Cu9yyIInFv",
        "colab_type": "code",
        "colab": {}
      },
      "cell_type": "code",
      "source": [
        "!pip install -U -q PyDrive\n",
        "from pydrive.auth import GoogleAuth\n",
        "from pydrive.drive import GoogleDrive\n",
        "from google.colab import auth\n",
        "from oauth2client.client import GoogleCredentials\n",
        "\n",
        "#  Data dependencies\n",
        "import pandas as pd\n",
        "import numpy as np\n",
        "import matplotlib.pyplot as plt\n",
        "plt.rcParams['figure.figsize'] = [16, 10]\n",
        "import seaborn as sns\n",
        "import xgboost\n",
        "from sklearn.model_selection import train_test_split\n",
        "#import xgboost as xgb\n",
        "\n",
        "%matplotlib inline\n",
        "plt.rcParams['axes.unicode_minus'] = False"
      ],
      "execution_count": 0,
      "outputs": []
    },
    {
      "metadata": {
        "id": "tF4_2l8LIu1g",
        "colab_type": "text"
      },
      "cell_type": "markdown",
      "source": [
        "#  Get Data from GDrive"
      ]
    },
    {
      "metadata": {
        "id": "STEPIV7WIxgX",
        "colab_type": "code",
        "colab": {}
      },
      "cell_type": "code",
      "source": [
        "#  Authenticate Google Account for GDrive access (raw data is saved in GDrive)\n",
        "auth.authenticate_user()\n",
        "gauth = GoogleAuth()\n",
        "gauth.credentials = GoogleCredentials.get_application_default()\n",
        "drive = GoogleDrive(gauth)"
      ],
      "execution_count": 0,
      "outputs": []
    },
    {
      "metadata": {
        "id": "3I1zBv4tIyyi",
        "colab_type": "code",
        "colab": {}
      },
      "cell_type": "code",
      "source": [
        "#  Raw data file gdrive location:  1YnHtW1HVeAaRM2jx1cwWn_Dl5b_NB57k\n",
        "\n",
        "all_data_downloaded = drive.CreateFile({'id': '1YnHtW1HVeAaRM2jx1cwWn_Dl5b_NB57k'})\n",
        "all_data_downloaded.GetContentFile('allData.csv')\n",
        "\n",
        "df_allData = pd.read_csv('allData.csv', dtype={'Ticket number': str, 'VIN': str})\n"
      ],
      "execution_count": 0,
      "outputs": []
    },
    {
      "metadata": {
        "id": "DSkuw2wYI7Pj",
        "colab_type": "code",
        "colab": {}
      },
      "cell_type": "code",
      "source": [
        ""
      ],
      "execution_count": 0,
      "outputs": []
    }
  ]
}