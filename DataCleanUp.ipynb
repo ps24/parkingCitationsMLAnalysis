{
  "nbformat": 4,
  "nbformat_minor": 0,
  "metadata": {
    "colab": {
      "name": "DataCleanUp.ipynb",
      "version": "0.3.2",
      "provenance": [],
      "include_colab_link": true
    },
    "kernelspec": {
      "name": "python3",
      "display_name": "Python 3"
    }
  },
  "cells": [
    {
      "cell_type": "markdown",
      "metadata": {
        "id": "view-in-github",
        "colab_type": "text"
      },
      "source": [
        "<a href=\"https://colab.research.google.com/github/ps24/parkingCitationsMLAnalysis/blob/master/DataCleanUp.ipynb\" target=\"_parent\"><img src=\"https://colab.research.google.com/assets/colab-badge.svg\" alt=\"Open In Colab\"/></a>"
      ]
    },
    {
      "metadata": {
        "id": "JuNdN9sMIJza",
        "colab_type": "text"
      },
      "cell_type": "markdown",
      "source": [
        "#  About Data Clean Up\n",
        "Data clean up will consist of the following operations:\n",
        "\n",
        "1: Remove series with 6 mil+ missing data --> these series will be removed from the dataframe:\n",
        "* Meter Id\n",
        "* Marked Time\n",
        "* Plate Expiry Date\n",
        "* VIN\n",
        "\n",
        "2: Keep the following data:\n",
        "* Issue Date\n",
        "* Issue time\n",
        "* RP State Plate\n",
        "* Location\n",
        "* Violation Description\n",
        "\n",
        "3: Clean up 'Location' series\n",
        "\n",
        "* Remove rows with NaN (765 rows)\n",
        "* Clean up 'Location' fomat (remove nonalpha numeric characters such as '! ? *')\n",
        "\n",
        "4: Add series: create 'Issue_hour' column from 'Issue time' column to list only hour\n",
        "\n",
        "5: Add series: create 'Issue_Month', 'Issue_Year', 'Issue_Weekday' column from 'Issue Date' column\n",
        "\n",
        "6: Remove 'Latitude', 'Longitude' columns\n",
        "\n",
        "7:  Create new dataframe --> save this dataframe as a csv in gDrive\n",
        "\n",
        "8: Run Geocode API\n",
        "* Add series: create 'Zip_Code' column from 'Location'\n",
        "* Add series: create 'Latitude', 'Longitude' columns from 'Location'\n",
        "\n",
        "9: Create new dataframe --> Save this dataframe as a csv in gDrive"
      ]
    },
    {
      "metadata": {
        "id": "jx2n7NodHsE0",
        "colab_type": "text"
      },
      "cell_type": "markdown",
      "source": [
        "# Package Imports\n"
      ]
    },
    {
      "metadata": {
        "id": "l1Cu9yyIInFv",
        "colab_type": "code",
        "colab": {}
      },
      "cell_type": "code",
      "source": [
        "!pip install -U -q PyDrive\n",
        "from pydrive.auth import GoogleAuth\n",
        "from pydrive.drive import GoogleDrive\n",
        "from google.colab import auth\n",
        "from oauth2client.client import GoogleCredentials\n",
        "\n",
        "#  Data dependencies\n",
        "import pandas as pd\n",
        "import numpy as np\n",
        "import matplotlib.pyplot as plt\n",
        "plt.rcParams['figure.figsize'] = [16, 10]\n",
        "import seaborn as sns\n",
        "import xgboost\n",
        "from sklearn.model_selection import train_test_split\n",
        "#import xgboost as xgb\n",
        "\n",
        "%matplotlib inline\n",
        "plt.rcParams['axes.unicode_minus'] = False"
      ],
      "execution_count": 0,
      "outputs": []
    },
    {
      "metadata": {
        "id": "tF4_2l8LIu1g",
        "colab_type": "text"
      },
      "cell_type": "markdown",
      "source": [
        "#  Get Data from GDrive"
      ]
    },
    {
      "metadata": {
        "id": "STEPIV7WIxgX",
        "colab_type": "code",
        "colab": {}
      },
      "cell_type": "code",
      "source": [
        "#  Authenticate Google Account for GDrive access (raw data is saved in GDrive)\n",
        "auth.authenticate_user()\n",
        "gauth = GoogleAuth()\n",
        "gauth.credentials = GoogleCredentials.get_application_default()\n",
        "drive = GoogleDrive(gauth)"
      ],
      "execution_count": 0,
      "outputs": []
    },
    {
      "metadata": {
        "id": "3I1zBv4tIyyi",
        "colab_type": "code",
        "colab": {}
      },
      "cell_type": "code",
      "source": [
        "#  Raw data file gdrive location:  1YnHtW1HVeAaRM2jx1cwWn_Dl5b_NB57k\n",
        "\n",
        "all_data_downloaded = drive.CreateFile({'id': '1YnHtW1HVeAaRM2jx1cwWn_Dl5b_NB57k'})\n",
        "all_data_downloaded.GetContentFile('allData.csv')\n",
        "\n",
        "df_allData = pd.read_csv('allData.csv', dtype={'Ticket number': str, 'VIN': str})\n"
      ],
      "execution_count": 0,
      "outputs": []
    },
    {
      "metadata": {
        "id": "DSkuw2wYI7Pj",
        "colab_type": "text"
      },
      "cell_type": "markdown",
      "source": [
        "#  Data Assessment"
      ]
    },
    {
      "metadata": {
        "id": "eOi-s1K0J0w6",
        "colab_type": "code",
        "colab": {
          "base_uri": "https://localhost:8080/",
          "height": 343
        },
        "outputId": "7cd4935e-fa6a-4f03-d852-b00ae59765f3"
      },
      "cell_type": "code",
      "source": [
        "df_allData.head(5)"
      ],
      "execution_count": 5,
      "outputs": [
        {
          "output_type": "execute_result",
          "data": {
            "text/html": [
              "<div>\n",
              "<style scoped>\n",
              "    .dataframe tbody tr th:only-of-type {\n",
              "        vertical-align: middle;\n",
              "    }\n",
              "\n",
              "    .dataframe tbody tr th {\n",
              "        vertical-align: top;\n",
              "    }\n",
              "\n",
              "    .dataframe thead th {\n",
              "        text-align: right;\n",
              "    }\n",
              "</style>\n",
              "<table border=\"1\" class=\"dataframe\">\n",
              "  <thead>\n",
              "    <tr style=\"text-align: right;\">\n",
              "      <th></th>\n",
              "      <th>Ticket number</th>\n",
              "      <th>Issue Date</th>\n",
              "      <th>Issue time</th>\n",
              "      <th>Meter Id</th>\n",
              "      <th>Marked Time</th>\n",
              "      <th>RP State Plate</th>\n",
              "      <th>Plate Expiry Date</th>\n",
              "      <th>VIN</th>\n",
              "      <th>Make</th>\n",
              "      <th>Body Style</th>\n",
              "      <th>Color</th>\n",
              "      <th>Location</th>\n",
              "      <th>Route</th>\n",
              "      <th>Agency</th>\n",
              "      <th>Violation code</th>\n",
              "      <th>Violation Description</th>\n",
              "      <th>Fine amount</th>\n",
              "      <th>Latitude</th>\n",
              "      <th>Longitude</th>\n",
              "    </tr>\n",
              "  </thead>\n",
              "  <tbody>\n",
              "    <tr>\n",
              "      <th>0</th>\n",
              "      <td>1103341116</td>\n",
              "      <td>2015-12-21T00:00:00</td>\n",
              "      <td>1251.0</td>\n",
              "      <td>NaN</td>\n",
              "      <td>NaN</td>\n",
              "      <td>CA</td>\n",
              "      <td>200304.0</td>\n",
              "      <td>NaN</td>\n",
              "      <td>HOND</td>\n",
              "      <td>PA</td>\n",
              "      <td>GY</td>\n",
              "      <td>13147 WELBY WAY</td>\n",
              "      <td>01521</td>\n",
              "      <td>1.0</td>\n",
              "      <td>4000A1</td>\n",
              "      <td>NO EVIDENCE OF REG</td>\n",
              "      <td>50.0</td>\n",
              "      <td>99999.0</td>\n",
              "      <td>99999.0</td>\n",
              "    </tr>\n",
              "    <tr>\n",
              "      <th>1</th>\n",
              "      <td>1103700150</td>\n",
              "      <td>2015-12-21T00:00:00</td>\n",
              "      <td>1435.0</td>\n",
              "      <td>NaN</td>\n",
              "      <td>NaN</td>\n",
              "      <td>CA</td>\n",
              "      <td>201512.0</td>\n",
              "      <td>NaN</td>\n",
              "      <td>GMC</td>\n",
              "      <td>VN</td>\n",
              "      <td>WH</td>\n",
              "      <td>525 S MAIN ST</td>\n",
              "      <td>1C51</td>\n",
              "      <td>1.0</td>\n",
              "      <td>4000A1</td>\n",
              "      <td>NO EVIDENCE OF REG</td>\n",
              "      <td>50.0</td>\n",
              "      <td>99999.0</td>\n",
              "      <td>99999.0</td>\n",
              "    </tr>\n",
              "    <tr>\n",
              "      <th>2</th>\n",
              "      <td>1104803000</td>\n",
              "      <td>2015-12-21T00:00:00</td>\n",
              "      <td>2055.0</td>\n",
              "      <td>NaN</td>\n",
              "      <td>NaN</td>\n",
              "      <td>CA</td>\n",
              "      <td>201503.0</td>\n",
              "      <td>NaN</td>\n",
              "      <td>NISS</td>\n",
              "      <td>PA</td>\n",
              "      <td>BK</td>\n",
              "      <td>200 WORLD WAY</td>\n",
              "      <td>2R2</td>\n",
              "      <td>2.0</td>\n",
              "      <td>8939</td>\n",
              "      <td>WHITE CURB</td>\n",
              "      <td>58.0</td>\n",
              "      <td>6439997.9</td>\n",
              "      <td>1802686.4</td>\n",
              "    </tr>\n",
              "    <tr>\n",
              "      <th>3</th>\n",
              "      <td>1104820732</td>\n",
              "      <td>2015-12-26T00:00:00</td>\n",
              "      <td>1515.0</td>\n",
              "      <td>NaN</td>\n",
              "      <td>NaN</td>\n",
              "      <td>CA</td>\n",
              "      <td>NaN</td>\n",
              "      <td>NaN</td>\n",
              "      <td>ACUR</td>\n",
              "      <td>PA</td>\n",
              "      <td>WH</td>\n",
              "      <td>100 WORLD WAY</td>\n",
              "      <td>2F11</td>\n",
              "      <td>2.0</td>\n",
              "      <td>000</td>\n",
              "      <td>17104h</td>\n",
              "      <td>NaN</td>\n",
              "      <td>6440041.1</td>\n",
              "      <td>1802686.2</td>\n",
              "    </tr>\n",
              "    <tr>\n",
              "      <th>4</th>\n",
              "      <td>1105461453</td>\n",
              "      <td>2015-09-15T00:00:00</td>\n",
              "      <td>115.0</td>\n",
              "      <td>NaN</td>\n",
              "      <td>NaN</td>\n",
              "      <td>CA</td>\n",
              "      <td>200316.0</td>\n",
              "      <td>NaN</td>\n",
              "      <td>CHEV</td>\n",
              "      <td>PA</td>\n",
              "      <td>BK</td>\n",
              "      <td>GEORGIA ST/OLYMPIC</td>\n",
              "      <td>1FB70</td>\n",
              "      <td>1.0</td>\n",
              "      <td>8069A</td>\n",
              "      <td>NO STOPPING/STANDING</td>\n",
              "      <td>93.0</td>\n",
              "      <td>99999.0</td>\n",
              "      <td>99999.0</td>\n",
              "    </tr>\n",
              "  </tbody>\n",
              "</table>\n",
              "</div>"
            ],
            "text/plain": [
              "  Ticket number           Issue Date  Issue time Meter Id  Marked Time  \\\n",
              "0    1103341116  2015-12-21T00:00:00      1251.0      NaN          NaN   \n",
              "1    1103700150  2015-12-21T00:00:00      1435.0      NaN          NaN   \n",
              "2    1104803000  2015-12-21T00:00:00      2055.0      NaN          NaN   \n",
              "3    1104820732  2015-12-26T00:00:00      1515.0      NaN          NaN   \n",
              "4    1105461453  2015-09-15T00:00:00       115.0      NaN          NaN   \n",
              "\n",
              "  RP State Plate  Plate Expiry Date  VIN  Make Body Style Color  \\\n",
              "0             CA           200304.0  NaN  HOND         PA    GY   \n",
              "1             CA           201512.0  NaN   GMC         VN    WH   \n",
              "2             CA           201503.0  NaN  NISS         PA    BK   \n",
              "3             CA                NaN  NaN  ACUR         PA    WH   \n",
              "4             CA           200316.0  NaN  CHEV         PA    BK   \n",
              "\n",
              "             Location  Route  Agency Violation code Violation Description  \\\n",
              "0     13147 WELBY WAY  01521     1.0         4000A1    NO EVIDENCE OF REG   \n",
              "1       525 S MAIN ST   1C51     1.0         4000A1    NO EVIDENCE OF REG   \n",
              "2       200 WORLD WAY    2R2     2.0           8939            WHITE CURB   \n",
              "3       100 WORLD WAY   2F11     2.0            000                17104h   \n",
              "4  GEORGIA ST/OLYMPIC  1FB70     1.0          8069A  NO STOPPING/STANDING   \n",
              "\n",
              "   Fine amount   Latitude  Longitude  \n",
              "0         50.0    99999.0    99999.0  \n",
              "1         50.0    99999.0    99999.0  \n",
              "2         58.0  6439997.9  1802686.4  \n",
              "3          NaN  6440041.1  1802686.2  \n",
              "4         93.0    99999.0    99999.0  "
            ]
          },
          "metadata": {
            "tags": []
          },
          "execution_count": 5
        }
      ]
    },
    {
      "metadata": {
        "id": "ZOYkbHcpJ3Qp",
        "colab_type": "code",
        "colab": {
          "base_uri": "https://localhost:8080/",
          "height": 479
        },
        "outputId": "96504955-3ae3-4b5b-93e1-2d9c5d06d477"
      },
      "cell_type": "code",
      "source": [
        "df_allData.tail(5)"
      ],
      "execution_count": 6,
      "outputs": [
        {
          "output_type": "execute_result",
          "data": {
            "text/html": [
              "<div>\n",
              "<style scoped>\n",
              "    .dataframe tbody tr th:only-of-type {\n",
              "        vertical-align: middle;\n",
              "    }\n",
              "\n",
              "    .dataframe tbody tr th {\n",
              "        vertical-align: top;\n",
              "    }\n",
              "\n",
              "    .dataframe thead th {\n",
              "        text-align: right;\n",
              "    }\n",
              "</style>\n",
              "<table border=\"1\" class=\"dataframe\">\n",
              "  <thead>\n",
              "    <tr style=\"text-align: right;\">\n",
              "      <th></th>\n",
              "      <th>Ticket number</th>\n",
              "      <th>Issue Date</th>\n",
              "      <th>Issue time</th>\n",
              "      <th>Meter Id</th>\n",
              "      <th>Marked Time</th>\n",
              "      <th>RP State Plate</th>\n",
              "      <th>Plate Expiry Date</th>\n",
              "      <th>VIN</th>\n",
              "      <th>Make</th>\n",
              "      <th>Body Style</th>\n",
              "      <th>Color</th>\n",
              "      <th>Location</th>\n",
              "      <th>Route</th>\n",
              "      <th>Agency</th>\n",
              "      <th>Violation code</th>\n",
              "      <th>Violation Description</th>\n",
              "      <th>Fine amount</th>\n",
              "      <th>Latitude</th>\n",
              "      <th>Longitude</th>\n",
              "    </tr>\n",
              "  </thead>\n",
              "  <tbody>\n",
              "    <tr>\n",
              "      <th>8490845</th>\n",
              "      <td>4345072852</td>\n",
              "      <td>2018-11-23T00:00:00</td>\n",
              "      <td>1030.0</td>\n",
              "      <td>7</td>\n",
              "      <td>NaN</td>\n",
              "      <td>CA</td>\n",
              "      <td>NaN</td>\n",
              "      <td>NaN</td>\n",
              "      <td>MERZ</td>\n",
              "      <td>PA</td>\n",
              "      <td>WT</td>\n",
              "      <td>6283 COMMODORE SLOAT DR</td>\n",
              "      <td>00315</td>\n",
              "      <td>51.0</td>\n",
              "      <td>80.58L</td>\n",
              "      <td>PREFERENTIAL PARKING</td>\n",
              "      <td>68.0</td>\n",
              "      <td>6.450392e+06</td>\n",
              "      <td>1.844310e+06</td>\n",
              "    </tr>\n",
              "    <tr>\n",
              "      <th>8490846</th>\n",
              "      <td>4345072863</td>\n",
              "      <td>2018-11-23T00:00:00</td>\n",
              "      <td>1039.0</td>\n",
              "      <td>131</td>\n",
              "      <td>NaN</td>\n",
              "      <td>CA</td>\n",
              "      <td>201909.0</td>\n",
              "      <td>NaN</td>\n",
              "      <td>HOND</td>\n",
              "      <td>PA</td>\n",
              "      <td>BK</td>\n",
              "      <td>1942 CRESCENT HEIGHTS BLVD</td>\n",
              "      <td>00315</td>\n",
              "      <td>51.0</td>\n",
              "      <td>80.58L</td>\n",
              "      <td>PREFERENTIAL PARKING</td>\n",
              "      <td>68.0</td>\n",
              "      <td>6.447931e+06</td>\n",
              "      <td>1.837655e+06</td>\n",
              "    </tr>\n",
              "    <tr>\n",
              "      <th>8490847</th>\n",
              "      <td>4345072874</td>\n",
              "      <td>2018-11-23T00:00:00</td>\n",
              "      <td>1041.0</td>\n",
              "      <td>131</td>\n",
              "      <td>NaN</td>\n",
              "      <td>IN</td>\n",
              "      <td>201905.0</td>\n",
              "      <td>NaN</td>\n",
              "      <td>FORD</td>\n",
              "      <td>PA</td>\n",
              "      <td>GY</td>\n",
              "      <td>1942 CRESCENT HEIGHTS BLVD</td>\n",
              "      <td>00315</td>\n",
              "      <td>51.0</td>\n",
              "      <td>80.58L</td>\n",
              "      <td>PREFERENTIAL PARKING</td>\n",
              "      <td>68.0</td>\n",
              "      <td>6.447931e+06</td>\n",
              "      <td>1.837655e+06</td>\n",
              "    </tr>\n",
              "    <tr>\n",
              "      <th>8490848</th>\n",
              "      <td>4345072885</td>\n",
              "      <td>2018-11-23T00:00:00</td>\n",
              "      <td>1218.0</td>\n",
              "      <td>NaN</td>\n",
              "      <td>NaN</td>\n",
              "      <td>CA</td>\n",
              "      <td>201901.0</td>\n",
              "      <td>NaN</td>\n",
              "      <td>CHEV</td>\n",
              "      <td>TK</td>\n",
              "      <td>BK</td>\n",
              "      <td>1711 CRESCENT HEIGHTS BLVD</td>\n",
              "      <td>00315</td>\n",
              "      <td>51.0</td>\n",
              "      <td>80.69.2</td>\n",
              "      <td>COMM VEH OVER TIME LIMIT</td>\n",
              "      <td>103.0</td>\n",
              "      <td>6.448424e+06</td>\n",
              "      <td>1.839476e+06</td>\n",
              "    </tr>\n",
              "    <tr>\n",
              "      <th>8490849</th>\n",
              "      <td>4345072896</td>\n",
              "      <td>2018-11-23T00:00:00</td>\n",
              "      <td>1411.0</td>\n",
              "      <td>NaN</td>\n",
              "      <td>1000.0</td>\n",
              "      <td>CA</td>\n",
              "      <td>201911.0</td>\n",
              "      <td>NaN</td>\n",
              "      <td>HOND</td>\n",
              "      <td>PA</td>\n",
              "      <td>GN</td>\n",
              "      <td>11101 EXPOSITION BLVD</td>\n",
              "      <td>00315</td>\n",
              "      <td>51.0</td>\n",
              "      <td>80.69C</td>\n",
              "      <td>PARKED OVER TIME LIMIT</td>\n",
              "      <td>58.0</td>\n",
              "      <td>6.430737e+06</td>\n",
              "      <td>1.835574e+06</td>\n",
              "    </tr>\n",
              "  </tbody>\n",
              "</table>\n",
              "</div>"
            ],
            "text/plain": [
              "        Ticket number           Issue Date  Issue time Meter Id  Marked Time  \\\n",
              "8490845    4345072852  2018-11-23T00:00:00      1030.0        7          NaN   \n",
              "8490846    4345072863  2018-11-23T00:00:00      1039.0      131          NaN   \n",
              "8490847    4345072874  2018-11-23T00:00:00      1041.0      131          NaN   \n",
              "8490848    4345072885  2018-11-23T00:00:00      1218.0      NaN          NaN   \n",
              "8490849    4345072896  2018-11-23T00:00:00      1411.0      NaN       1000.0   \n",
              "\n",
              "        RP State Plate  Plate Expiry Date  VIN  Make Body Style Color  \\\n",
              "8490845             CA                NaN  NaN  MERZ         PA    WT   \n",
              "8490846             CA           201909.0  NaN  HOND         PA    BK   \n",
              "8490847             IN           201905.0  NaN  FORD         PA    GY   \n",
              "8490848             CA           201901.0  NaN  CHEV         TK    BK   \n",
              "8490849             CA           201911.0  NaN  HOND         PA    GN   \n",
              "\n",
              "                           Location  Route  Agency Violation code  \\\n",
              "8490845     6283 COMMODORE SLOAT DR  00315    51.0         80.58L   \n",
              "8490846  1942 CRESCENT HEIGHTS BLVD  00315    51.0         80.58L   \n",
              "8490847  1942 CRESCENT HEIGHTS BLVD  00315    51.0         80.58L   \n",
              "8490848  1711 CRESCENT HEIGHTS BLVD  00315    51.0        80.69.2   \n",
              "8490849       11101 EXPOSITION BLVD  00315    51.0         80.69C   \n",
              "\n",
              "            Violation Description  Fine amount      Latitude     Longitude  \n",
              "8490845      PREFERENTIAL PARKING         68.0  6.450392e+06  1.844310e+06  \n",
              "8490846      PREFERENTIAL PARKING         68.0  6.447931e+06  1.837655e+06  \n",
              "8490847      PREFERENTIAL PARKING         68.0  6.447931e+06  1.837655e+06  \n",
              "8490848  COMM VEH OVER TIME LIMIT        103.0  6.448424e+06  1.839476e+06  \n",
              "8490849    PARKED OVER TIME LIMIT         58.0  6.430737e+06  1.835574e+06  "
            ]
          },
          "metadata": {
            "tags": []
          },
          "execution_count": 6
        }
      ]
    },
    {
      "metadata": {
        "id": "NEuogVnZJ5Tp",
        "colab_type": "code",
        "colab": {
          "base_uri": "https://localhost:8080/",
          "height": 357
        },
        "outputId": "e385b8c5-ef97-4733-eaa3-a79582956cdb"
      },
      "cell_type": "code",
      "source": [
        "df_allData.dtypes"
      ],
      "execution_count": 7,
      "outputs": [
        {
          "output_type": "execute_result",
          "data": {
            "text/plain": [
              "Ticket number             object\n",
              "Issue Date                object\n",
              "Issue time               float64\n",
              "Meter Id                  object\n",
              "Marked Time              float64\n",
              "RP State Plate            object\n",
              "Plate Expiry Date        float64\n",
              "VIN                       object\n",
              "Make                      object\n",
              "Body Style                object\n",
              "Color                     object\n",
              "Location                  object\n",
              "Route                     object\n",
              "Agency                   float64\n",
              "Violation code            object\n",
              "Violation Description     object\n",
              "Fine amount              float64\n",
              "Latitude                 float64\n",
              "Longitude                float64\n",
              "dtype: object"
            ]
          },
          "metadata": {
            "tags": []
          },
          "execution_count": 7
        }
      ]
    },
    {
      "metadata": {
        "id": "J7-lkPMmJ75h",
        "colab_type": "code",
        "colab": {
          "base_uri": "https://localhost:8080/",
          "height": 357
        },
        "outputId": "75c582c4-7364-44b0-c258-f63132c3959f"
      },
      "cell_type": "code",
      "source": [
        "#  Show NaN values\n",
        "df_allData.isnull().sum()"
      ],
      "execution_count": 8,
      "outputs": [
        {
          "output_type": "execute_result",
          "data": {
            "text/plain": [
              "Ticket number                  0\n",
              "Issue Date                   458\n",
              "Issue time                  2433\n",
              "Meter Id                 6272543\n",
              "Marked Time              8205539\n",
              "RP State Plate               765\n",
              "Plate Expiry Date         771669\n",
              "VIN                      8474541\n",
              "Make                        8487\n",
              "Body Style                  8510\n",
              "Color                       3916\n",
              "Location                     765\n",
              "Route                      63569\n",
              "Agency                       467\n",
              "Violation code                 0\n",
              "Violation Description        839\n",
              "Fine amount                 6252\n",
              "Latitude                       3\n",
              "Longitude                      3\n",
              "dtype: int64"
            ]
          },
          "metadata": {
            "tags": []
          },
          "execution_count": 8
        }
      ]
    },
    {
      "metadata": {
        "id": "AINtctwpJ-TQ",
        "colab_type": "code",
        "colab": {
          "base_uri": "https://localhost:8080/",
          "height": 34
        },
        "outputId": "df7bc960-5c2e-4003-e6a4-740645c9baee"
      },
      "cell_type": "code",
      "source": [
        "#  Issue time:  Look at which rows are missing this information\n",
        "df_allData.shape"
      ],
      "execution_count": 9,
      "outputs": [
        {
          "output_type": "execute_result",
          "data": {
            "text/plain": [
              "(8490850, 19)"
            ]
          },
          "metadata": {
            "tags": []
          },
          "execution_count": 9
        }
      ]
    },
    {
      "metadata": {
        "id": "o3tt7qGWKTZ_",
        "colab_type": "code",
        "colab": {}
      },
      "cell_type": "code",
      "source": [
        ""
      ],
      "execution_count": 0,
      "outputs": []
    },
    {
      "metadata": {
        "id": "0e-Eh-UKKXLt",
        "colab_type": "text"
      },
      "cell_type": "markdown",
      "source": [
        "# Step 1: Remove series with 6 mil+ missing data fields.  \n",
        "\n",
        "The following series will be removed from the dataframe:\n",
        "\n",
        "* Meter Id\n",
        "* Marked Time\n",
        "* Plate Expiry Date\n",
        "* VIN"
      ]
    },
    {
      "metadata": {
        "id": "Y0kxChZ5KtQE",
        "colab_type": "code",
        "colab": {}
      },
      "cell_type": "code",
      "source": [
        "df_cleanData = df_allData.drop(['Meter Id', 'Marked Time', 'Plate Expiry Date', 'VIN'], axis='columns')"
      ],
      "execution_count": 0,
      "outputs": []
    },
    {
      "metadata": {
        "id": "QGUZmvkpP670",
        "colab_type": "code",
        "colab": {
          "base_uri": "https://localhost:8080/",
          "height": 289
        },
        "outputId": "b8478d14-bbc2-4e51-b768-8af6e46b1af0"
      },
      "cell_type": "code",
      "source": [
        "df_cleanData.dtypes"
      ],
      "execution_count": 11,
      "outputs": [
        {
          "output_type": "execute_result",
          "data": {
            "text/plain": [
              "Ticket number             object\n",
              "Issue Date                object\n",
              "Issue time               float64\n",
              "RP State Plate            object\n",
              "Make                      object\n",
              "Body Style                object\n",
              "Color                     object\n",
              "Location                  object\n",
              "Route                     object\n",
              "Agency                   float64\n",
              "Violation code            object\n",
              "Violation Description     object\n",
              "Fine amount              float64\n",
              "Latitude                 float64\n",
              "Longitude                float64\n",
              "dtype: object"
            ]
          },
          "metadata": {
            "tags": []
          },
          "execution_count": 11
        }
      ]
    },
    {
      "metadata": {
        "id": "uKHlAcspQcmO",
        "colab_type": "code",
        "colab": {
          "base_uri": "https://localhost:8080/",
          "height": 34
        },
        "outputId": "1cb26a75-4451-4d8b-f5e9-033037798a71"
      },
      "cell_type": "code",
      "source": [
        "df_cleanData.shape"
      ],
      "execution_count": 12,
      "outputs": [
        {
          "output_type": "execute_result",
          "data": {
            "text/plain": [
              "(8490850, 15)"
            ]
          },
          "metadata": {
            "tags": []
          },
          "execution_count": 12
        }
      ]
    },
    {
      "metadata": {
        "id": "T9biICIWQQiQ",
        "colab_type": "text"
      },
      "cell_type": "markdown",
      "source": [
        "#  Step 2: Keep the following data and remove null values:\n",
        "\n",
        "* Issue Date\n",
        "* Issue time\n",
        "* RP State Plate\n",
        "* Location\n",
        "* Violation Description"
      ]
    },
    {
      "metadata": {
        "id": "kI-lzJ35QjGO",
        "colab_type": "code",
        "colab": {
          "base_uri": "https://localhost:8080/",
          "height": 34
        },
        "outputId": "0a86ae6f-954b-4006-eb37-26e7e02e0632"
      },
      "cell_type": "code",
      "source": [
        "#  Assess how much impact it would be to remove NULL rows in 'Issue Date', 'Issue time', 'RP State Plate', Location', 'Violation'\n",
        "df_cleanData.dropna(subset=['Issue Date', 'Issue time', 'RP State Plate', 'Location', 'Violation Description'], how='any').shape\n"
      ],
      "execution_count": 13,
      "outputs": [
        {
          "output_type": "execute_result",
          "data": {
            "text/plain": [
              "(8486532, 15)"
            ]
          },
          "metadata": {
            "tags": []
          },
          "execution_count": 13
        }
      ]
    },
    {
      "metadata": {
        "id": "K6rvfjogQqC8",
        "colab_type": "code",
        "colab": {
          "base_uri": "https://localhost:8080/",
          "height": 34
        },
        "outputId": "ec4b79f7-d042-4770-c8d3-61447abeb7ab"
      },
      "cell_type": "code",
      "source": [
        "df_cleanData.shape"
      ],
      "execution_count": 14,
      "outputs": [
        {
          "output_type": "execute_result",
          "data": {
            "text/plain": [
              "(8490850, 15)"
            ]
          },
          "metadata": {
            "tags": []
          },
          "execution_count": 14
        }
      ]
    },
    {
      "metadata": {
        "id": "5zjKJaxiQxCD",
        "colab_type": "code",
        "colab": {}
      },
      "cell_type": "code",
      "source": [
        "# Conclusion:  Removing the NaN entries in 'Issue Date', 'Issue time', 'RP State Plate', 'Location', 'Violation Description' only \n",
        "# removes 4,318 entries.  Hence,  Remove these NaN rows "
      ],
      "execution_count": 0,
      "outputs": []
    },
    {
      "metadata": {
        "id": "9XZvJVkOQmrl",
        "colab_type": "code",
        "colab": {}
      },
      "cell_type": "code",
      "source": [
        "df_cleanData = df_cleanData.dropna(subset=['Issue Date', 'Issue time', 'RP State Plate', 'Location', 'Violation Description'], how='any')"
      ],
      "execution_count": 0,
      "outputs": []
    },
    {
      "metadata": {
        "id": "MIaadt30TnNa",
        "colab_type": "code",
        "colab": {
          "base_uri": "https://localhost:8080/",
          "height": 34
        },
        "outputId": "9e0c5d7d-5437-4871-9358-1f49bbef51cc"
      },
      "cell_type": "code",
      "source": [
        "df_cleanData.shape"
      ],
      "execution_count": 17,
      "outputs": [
        {
          "output_type": "execute_result",
          "data": {
            "text/plain": [
              "(8486532, 15)"
            ]
          },
          "metadata": {
            "tags": []
          },
          "execution_count": 17
        }
      ]
    },
    {
      "metadata": {
        "id": "mrBsbPK4TqW4",
        "colab_type": "code",
        "colab": {}
      },
      "cell_type": "code",
      "source": [
        "#  Check that 'Issue Date', 'Issue time', 'RP State Plate', 'Location', 'Violation Description' null rows are dropped"
      ],
      "execution_count": 0,
      "outputs": []
    },
    {
      "metadata": {
        "id": "8zeLscN-P-Qs",
        "colab_type": "code",
        "colab": {
          "base_uri": "https://localhost:8080/",
          "height": 289
        },
        "outputId": "6ab3fe85-9655-4375-e52a-6f84b31b403e"
      },
      "cell_type": "code",
      "source": [
        "df_cleanData.isnull().sum()"
      ],
      "execution_count": 19,
      "outputs": [
        {
          "output_type": "execute_result",
          "data": {
            "text/plain": [
              "Ticket number                0\n",
              "Issue Date                   0\n",
              "Issue time                   0\n",
              "RP State Plate               0\n",
              "Make                      7966\n",
              "Body Style                7942\n",
              "Color                     3401\n",
              "Location                     0\n",
              "Route                    62658\n",
              "Agency                       9\n",
              "Violation code               0\n",
              "Violation Description        0\n",
              "Fine amount               5410\n",
              "Latitude                     2\n",
              "Longitude                    2\n",
              "dtype: int64"
            ]
          },
          "metadata": {
            "tags": []
          },
          "execution_count": 19
        }
      ]
    },
    {
      "metadata": {
        "id": "xN2RDzjWT8tm",
        "colab_type": "text"
      },
      "cell_type": "markdown",
      "source": [
        "# 3:  Clean up 'Location' series\n",
        "*  Clean up 'Location' fomat (remove nonalpha numeric characters such as '! ? *')\n"
      ]
    },
    {
      "metadata": {
        "id": "eAWMlgxjUfhI",
        "colab_type": "code",
        "colab": {
          "base_uri": "https://localhost:8080/",
          "height": 1071
        },
        "outputId": "3926e15b-fa7e-4ee8-8698-5db8320a0e96"
      },
      "cell_type": "code",
      "source": [
        "#  Figure out how many street names start with or contain nonalpha characters\n",
        "df_cleanData.Location.sort_values()"
      ],
      "execution_count": 20,
      "outputs": [
        {
          "output_type": "execute_result",
          "data": {
            "text/plain": [
              "3490240            ! $ $ HALSEY ST\n",
              "7543384            ! % CULVER BLVD\n",
              "3614653          !! * BERENDO ST N\n",
              "612679          !000 VAN BUREN AVE\n",
              "3450914               !001 3RD AVE\n",
              "3450913               !001 3RD AVE\n",
              "6887925            !015 GAYLEY AVE\n",
              "6328525        !027 MANCHESTER AVE\n",
              "5116215        !027 MANCHESTER AVE\n",
              "6328526        !027 MANCHESTER AVE\n",
              "6328524        !027 MANCHESTER AVE\n",
              "6328523        !027 MANCHESTER AVE\n",
              "5116214        !027 MANCHESTER AVE\n",
              "5456256        !027 MANCHESTER AVE\n",
              "6835673       !0341 LOU-DILLON AVE\n",
              "4670182        !036 HYPERION AVE N\n",
              "5514490       !0400 LOU-DILLON AVE\n",
              "6625519           !042 KINGSLEY DR\n",
              "1401363           !0500 ASHTON AVE\n",
              "491343          !0801 MISSOURI AVE\n",
              "6252516           !0818 JUNIPER ST\n",
              "2602918             !0850 ACAMA ST\n",
              "2349472         !09 WESTLAKE AVE N\n",
              "1713092         !0900 MISSOURI AVE\n",
              "6319629    !0901 MASSACHUSETTS AVE\n",
              "1495038          !0924 WEYBURN AVE\n",
              "1993409          !0937 WEYBURN AVE\n",
              "1809976         !0965 FRUITLAND DR\n",
              "1809977         !0965 FRUITLAND DR\n",
              "3970020            !0965 SPRING ST\n",
              "                    ...           \n",
              "3176267       ZOO DR E/O FOREST LA\n",
              "3176268       ZOO DR E/O FOREST LA\n",
              "1854515       ZOO DR E/O RIVERSIDE\n",
              "3044004       ZOO DR E/O RIVERSIDE\n",
              "3280705       ZOO DR E/O RIVERSIDE\n",
              "3044006       ZOO DR E/O RIVERSIDE\n",
              "3044007       ZOO DR E/O RIVERSIDE\n",
              "3044008       ZOO DR E/O RIVERSIDE\n",
              "8403906       ZOO DR E/O RIVERSIDE\n",
              "1861838       ZOO DR E/O RIVERSIDE\n",
              "8297544         ZOO DR EAST OF G P\n",
              "8297545       ZOO DR EAST OF RIVER\n",
              "1752391       ZOO DR W/O RIVERSIDE\n",
              "3087130       ZOO DR W/O RIVERSIDE\n",
              "2247466       ZOO DR W/O RIVERSIDE\n",
              "8050041       ZOO DR W/OF RIVERSID\n",
              "7957878        ZOO DR-FORREST LAWN\n",
              "5027651             ZOO DR/134 FWY\n",
              "5027652             ZOO DR/134 FWY\n",
              "2532370             ZOO DR/134 FWY\n",
              "8268533       ZOO DR/EAST OF RIVER\n",
              "1949697            ZOO DR/GRIFFITH\n",
              "1959903       ZOO DR/GRIFFITH PARK\n",
              "1960206       ZOO DR/GRIFFITH PARK\n",
              "1949696         ZOO DR/GRIFFITH PK\n",
              "8082272        ZOO DR/RIVERSIDE DR\n",
              "8010417        ZOO DR/VICTORY BLVD\n",
              "1828769        ZOO DR/VICTORY BLVD\n",
              "8127612          ZOO WORLD WAY U/L\n",
              "8010888          ]1616 W ISABEL ST\n",
              "Name: Location, Length: 8486532, dtype: object"
            ]
          },
          "metadata": {
            "tags": []
          },
          "execution_count": 20
        }
      ]
    },
    {
      "metadata": {
        "id": "6Tg_Dk3WUsns",
        "colab_type": "code",
        "colab": {}
      },
      "cell_type": "code",
      "source": [
        "#  Observation:  There are 'Location' rows with nonalphanumeric characters (!, $ $ %)\n",
        "#  Solution:  Remove these nonalphanumeric characters"
      ],
      "execution_count": 0,
      "outputs": []
    },
    {
      "metadata": {
        "id": "eczhvL2Lj5hd",
        "colab_type": "code",
        "colab": {}
      },
      "cell_type": "code",
      "source": [
        "df_cleanData.Location = df_cleanData.Location.str.replace('\\W', ' ')"
      ],
      "execution_count": 0,
      "outputs": []
    },
    {
      "metadata": {
        "id": "GkOVQ8-anhrB",
        "colab_type": "code",
        "colab": {
          "base_uri": "https://localhost:8080/",
          "height": 1071
        },
        "outputId": "fee6d8a4-c440-4abd-b47c-750288cb897b"
      },
      "cell_type": "code",
      "source": [
        "#  Confirm nonalphanumeric characters are deleted\n",
        "df_cleanData.Location.sort_values()"
      ],
      "execution_count": 39,
      "outputs": [
        {
          "output_type": "execute_result",
          "data": {
            "text/plain": [
              "3490240               HALSEY ST\n",
              "694562           SCHOOLCRAFT ST\n",
              "7664904              101ST ST W\n",
              "3614653            BERENDO ST N\n",
              "2492195           WABASH AVENUE\n",
              "4732510         WHITSETT AVENUE\n",
              "6938468                4TH ST E\n",
              "7543384             CULVER BLVD\n",
              "2594067                 HILL PL\n",
              "3534543               MAIN ST S\n",
              "763339              STANLEY AVE\n",
              "5581122              WINSTON ST\n",
              "293834          NORTH VENICE BL\n",
              "293833          NORTH VENICE BL\n",
              "293835          NORTH VENICE BL\n",
              "7251038           LEXINGTON AVE\n",
              "612679        000 VAN BUREN AVE\n",
              "3450914             001 3RD AVE\n",
              "3450913             001 3RD AVE\n",
              "6887925          015 GAYLEY AVE\n",
              "6328524      027 MANCHESTER AVE\n",
              "5116215      027 MANCHESTER AVE\n",
              "6328525      027 MANCHESTER AVE\n",
              "6328526      027 MANCHESTER AVE\n",
              "5116214      027 MANCHESTER AVE\n",
              "5456256      027 MANCHESTER AVE\n",
              "6328523      027 MANCHESTER AVE\n",
              "6835673     0341 LOU DILLON AVE\n",
              "4670182      036 HYPERION AVE N\n",
              "5514490     0400 LOU DILLON AVE\n",
              "                   ...         \n",
              "5027651          ZOO DR 134 FWY\n",
              "2532370          ZOO DR 134 FWY\n",
              "5212772      ZOO DR 5333 FN LOT\n",
              "5026072    ZOO DR AND RIVERSIDE\n",
              "3176267    ZOO DR E O FOREST LA\n",
              "3176268    ZOO DR E O FOREST LA\n",
              "3044004    ZOO DR E O RIVERSIDE\n",
              "3044006    ZOO DR E O RIVERSIDE\n",
              "3280705    ZOO DR E O RIVERSIDE\n",
              "1854515    ZOO DR E O RIVERSIDE\n",
              "8403906    ZOO DR E O RIVERSIDE\n",
              "3044008    ZOO DR E O RIVERSIDE\n",
              "3044007    ZOO DR E O RIVERSIDE\n",
              "1861838    ZOO DR E O RIVERSIDE\n",
              "8297544      ZOO DR EAST OF G P\n",
              "8268533    ZOO DR EAST OF RIVER\n",
              "8297545    ZOO DR EAST OF RIVER\n",
              "7957878     ZOO DR FORREST LAWN\n",
              "1949697         ZOO DR GRIFFITH\n",
              "1959903    ZOO DR GRIFFITH PARK\n",
              "1960206    ZOO DR GRIFFITH PARK\n",
              "1949696      ZOO DR GRIFFITH PK\n",
              "8082272     ZOO DR RIVERSIDE DR\n",
              "1828769     ZOO DR VICTORY BLVD\n",
              "8010417     ZOO DR VICTORY BLVD\n",
              "3087130    ZOO DR W O RIVERSIDE\n",
              "1752391    ZOO DR W O RIVERSIDE\n",
              "2247466    ZOO DR W O RIVERSIDE\n",
              "8050041    ZOO DR W OF RIVERSID\n",
              "8127612       ZOO WORLD WAY U L\n",
              "Name: Location, Length: 8486532, dtype: object"
            ]
          },
          "metadata": {
            "tags": []
          },
          "execution_count": 39
        }
      ]
    },
    {
      "metadata": {
        "id": "uLskpU_Pnnfq",
        "colab_type": "code",
        "colab": {
          "base_uri": "https://localhost:8080/",
          "height": 34
        },
        "outputId": "75e51ad5-7699-4cb7-b862-3e96813386c8"
      },
      "cell_type": "code",
      "source": [
        "#  Confirm dataFrame has same the number of values\n",
        "df_cleanData.shape"
      ],
      "execution_count": 40,
      "outputs": [
        {
          "output_type": "execute_result",
          "data": {
            "text/plain": [
              "(8486532, 15)"
            ]
          },
          "metadata": {
            "tags": []
          },
          "execution_count": 40
        }
      ]
    },
    {
      "metadata": {
        "id": "K6i3bdh6oHgX",
        "colab_type": "code",
        "colab": {
          "base_uri": "https://localhost:8080/",
          "height": 289
        },
        "outputId": "2f38f8f7-7b1e-45e6-ec31-1a48bb5fbeb8"
      },
      "cell_type": "code",
      "source": [
        "df_cleanData.dtypes"
      ],
      "execution_count": 41,
      "outputs": [
        {
          "output_type": "execute_result",
          "data": {
            "text/plain": [
              "Ticket number             object\n",
              "Issue Date                object\n",
              "Issue time               float64\n",
              "RP State Plate            object\n",
              "Make                      object\n",
              "Body Style                object\n",
              "Color                     object\n",
              "Location                  object\n",
              "Route                     object\n",
              "Agency                   float64\n",
              "Violation code            object\n",
              "Violation Description     object\n",
              "Fine amount              float64\n",
              "Latitude                 float64\n",
              "Longitude                float64\n",
              "dtype: object"
            ]
          },
          "metadata": {
            "tags": []
          },
          "execution_count": 41
        }
      ]
    },
    {
      "metadata": {
        "id": "FexQYjLzVOMa",
        "colab_type": "code",
        "colab": {
          "base_uri": "https://localhost:8080/",
          "height": 102
        },
        "outputId": "e6e4f40c-94b4-4f26-c9c9-4c4d5bb81243"
      },
      "cell_type": "code",
      "source": [
        "df_cleanData.Location.describe()"
      ],
      "execution_count": 42,
      "outputs": [
        {
          "output_type": "execute_result",
          "data": {
            "text/plain": [
              "count               8486532\n",
              "unique              1482550\n",
              "top       1301 ELECTRIC AVE\n",
              "freq                   9021\n",
              "Name: Location, dtype: object"
            ]
          },
          "metadata": {
            "tags": []
          },
          "execution_count": 42
        }
      ]
    },
    {
      "metadata": {
        "id": "YoC1kVGxol_K",
        "colab_type": "code",
        "colab": {
          "base_uri": "https://localhost:8080/",
          "height": 1071
        },
        "outputId": "15fefd7c-5274-47f9-ff79-86baea63dd63"
      },
      "cell_type": "code",
      "source": [
        "df_cleanData.Location.value_counts()"
      ],
      "execution_count": 43,
      "outputs": [
        {
          "output_type": "execute_result",
          "data": {
            "text/plain": [
              "1301 ELECTRIC AVE                  9021\n",
              "11600 SAN VICENTE BL               6964\n",
              "101 LARCHMONT BL N                 5918\n",
              "2377 MIDVALE AVE                   5763\n",
              "4301 TUJUNGA AV                    5062\n",
              "1600 IRVING TABOR CT               5061\n",
              "5901 98TH ST W                     4927\n",
              "1235 FIGUEROA PL                   4829\n",
              "12100 VENTURA BL                   4776\n",
              "4300 TUJUNGA AV                    4704\n",
              "2800 E OBSERVATORY                 4689\n",
              "7000 HAWTHORN AVE                  4687\n",
              "3101 GLENDALE BL                   4360\n",
              "11100 WEDDINGTON ST                4360\n",
              "11601 SAN VICENTE BL               4226\n",
              "100 LARCHMONT BL N                 4101\n",
              "11001 MCCORMICK ST                 4077\n",
              "12300 VENTURA BL                   3748\n",
              "200 LARCHMONT BL N                 3709\n",
              "1400 HOPE ST S                     3677\n",
              "12101 VENTURA BL                   3676\n",
              "11900 SAN VICENTE BL               3650\n",
              "11700 SAN VICENTE BL               3633\n",
              "2110 CORINTH AVE                   3629\n",
              "6041 CADILLAC AVE                  3476\n",
              "1152 LEMOYNE ST                    3317\n",
              "2200 CORINTH AV                    3151\n",
              "1665 SYCAMORE AVE N                3143\n",
              "10800 WEYBURN AV                   3047\n",
              "1600 SCHRADER BL                   3023\n",
              "                                   ... \n",
              "6408 BONNER AVENUE                    1\n",
              "15051 NORDHOFF ST                     1\n",
              "5201 ATOLL AVE                        1\n",
              "901 MICHELTORENA STREET               1\n",
              "4514 HOMER ST                         1\n",
              "1501 NORTH AVENUE 49                  1\n",
              "AF 5438 FERNWOOD AV                   1\n",
              "455 APROX SOUTH LAKE STREET           1\n",
              "9050 AIRDROME ST                      1\n",
              "A F 500 S MATEO ST                    1\n",
              "1154 NORMANDIE AVENUE                 1\n",
              "2841 4TH ST E                         1\n",
              "4315 W PROSPECT                       1\n",
              "205 PARK VIEW ST S                    1\n",
              "2422 VENICE BLVD S                    1\n",
              "1166 YOUNG ST                         1\n",
              "623 N SEWARD ST                       1\n",
              "2012 MARIPOSA AVE S                   1\n",
              "11640 VERMONT AVE S                   1\n",
              "801 WEST 42ND STREET                  1\n",
              "15864 LARKSPUR STREET                 1\n",
              "236 5TH ST E                          1\n",
              "2475 GLENCOE AVE                      1\n",
              "240 43RD ST E                         1\n",
              "2223 EAST CESAR E CHAVEZ AVENUE       1\n",
              "11956 MARTHA ST                       1\n",
              "VARIEL AVE N O KITTR                  1\n",
              "4166 HOBART BLVD                      1\n",
              "5055 FIGUEROA ST                      1\n",
              "17733 MIRANDA ST                      1\n",
              "Name: Location, Length: 1482550, dtype: int64"
            ]
          },
          "metadata": {
            "tags": []
          },
          "execution_count": 43
        }
      ]
    },
    {
      "metadata": {
        "id": "GjWfm9Z0o6QK",
        "colab_type": "text"
      },
      "cell_type": "markdown",
      "source": [
        "#  Step 4: Add series: create 'Issue_hour' column \n",
        "\n",
        "Create 'Issue_hour' column from 'Issue time' column to list only hour (in Military time format)"
      ]
    },
    {
      "metadata": {
        "id": "sMoI0v_8pWVP",
        "colab_type": "code",
        "colab": {
          "base_uri": "https://localhost:8080/",
          "height": 119
        },
        "outputId": "52f5101d-539f-46a1-c2b8-36b806d0ea4a"
      },
      "cell_type": "code",
      "source": [
        "df_cleanData['Issue time'].head()"
      ],
      "execution_count": 47,
      "outputs": [
        {
          "output_type": "execute_result",
          "data": {
            "text/plain": [
              "0    1251.0\n",
              "1    1435.0\n",
              "2    2055.0\n",
              "3    1515.0\n",
              "4     115.0\n",
              "Name: Issue time, dtype: float64"
            ]
          },
          "metadata": {
            "tags": []
          },
          "execution_count": 47
        }
      ]
    },
    {
      "metadata": {
        "id": "6SSdTpIDpGN2",
        "colab_type": "code",
        "colab": {
          "base_uri": "https://localhost:8080/",
          "height": 411
        },
        "outputId": "de599380-f94e-4cec-984d-cf5c5b7b0fec"
      },
      "cell_type": "code",
      "source": [
        "#  Break out 'Issue Time' series to military time (keep hours only)\n",
        "df_cleanData['Issue_Hour'] = df_cleanData['Issue time'].floordiv(100)\n",
        "df_cleanData.head()"
      ],
      "execution_count": 48,
      "outputs": [
        {
          "output_type": "execute_result",
          "data": {
            "text/html": [
              "<div>\n",
              "<style scoped>\n",
              "    .dataframe tbody tr th:only-of-type {\n",
              "        vertical-align: middle;\n",
              "    }\n",
              "\n",
              "    .dataframe tbody tr th {\n",
              "        vertical-align: top;\n",
              "    }\n",
              "\n",
              "    .dataframe thead th {\n",
              "        text-align: right;\n",
              "    }\n",
              "</style>\n",
              "<table border=\"1\" class=\"dataframe\">\n",
              "  <thead>\n",
              "    <tr style=\"text-align: right;\">\n",
              "      <th></th>\n",
              "      <th>Ticket number</th>\n",
              "      <th>Issue Date</th>\n",
              "      <th>Issue time</th>\n",
              "      <th>RP State Plate</th>\n",
              "      <th>Make</th>\n",
              "      <th>Body Style</th>\n",
              "      <th>Color</th>\n",
              "      <th>Location</th>\n",
              "      <th>Route</th>\n",
              "      <th>Agency</th>\n",
              "      <th>Violation code</th>\n",
              "      <th>Violation Description</th>\n",
              "      <th>Fine amount</th>\n",
              "      <th>Latitude</th>\n",
              "      <th>Longitude</th>\n",
              "      <th>Issue_Hour</th>\n",
              "    </tr>\n",
              "  </thead>\n",
              "  <tbody>\n",
              "    <tr>\n",
              "      <th>0</th>\n",
              "      <td>1103341116</td>\n",
              "      <td>2015-12-21T00:00:00</td>\n",
              "      <td>1251.0</td>\n",
              "      <td>CA</td>\n",
              "      <td>HOND</td>\n",
              "      <td>PA</td>\n",
              "      <td>GY</td>\n",
              "      <td>13147 WELBY WAY</td>\n",
              "      <td>01521</td>\n",
              "      <td>1.0</td>\n",
              "      <td>4000A1</td>\n",
              "      <td>NO EVIDENCE OF REG</td>\n",
              "      <td>50.0</td>\n",
              "      <td>99999.0</td>\n",
              "      <td>99999.0</td>\n",
              "      <td>12.0</td>\n",
              "    </tr>\n",
              "    <tr>\n",
              "      <th>1</th>\n",
              "      <td>1103700150</td>\n",
              "      <td>2015-12-21T00:00:00</td>\n",
              "      <td>1435.0</td>\n",
              "      <td>CA</td>\n",
              "      <td>GMC</td>\n",
              "      <td>VN</td>\n",
              "      <td>WH</td>\n",
              "      <td>525 S MAIN ST</td>\n",
              "      <td>1C51</td>\n",
              "      <td>1.0</td>\n",
              "      <td>4000A1</td>\n",
              "      <td>NO EVIDENCE OF REG</td>\n",
              "      <td>50.0</td>\n",
              "      <td>99999.0</td>\n",
              "      <td>99999.0</td>\n",
              "      <td>14.0</td>\n",
              "    </tr>\n",
              "    <tr>\n",
              "      <th>2</th>\n",
              "      <td>1104803000</td>\n",
              "      <td>2015-12-21T00:00:00</td>\n",
              "      <td>2055.0</td>\n",
              "      <td>CA</td>\n",
              "      <td>NISS</td>\n",
              "      <td>PA</td>\n",
              "      <td>BK</td>\n",
              "      <td>200 WORLD WAY</td>\n",
              "      <td>2R2</td>\n",
              "      <td>2.0</td>\n",
              "      <td>8939</td>\n",
              "      <td>WHITE CURB</td>\n",
              "      <td>58.0</td>\n",
              "      <td>6439997.9</td>\n",
              "      <td>1802686.4</td>\n",
              "      <td>20.0</td>\n",
              "    </tr>\n",
              "    <tr>\n",
              "      <th>3</th>\n",
              "      <td>1104820732</td>\n",
              "      <td>2015-12-26T00:00:00</td>\n",
              "      <td>1515.0</td>\n",
              "      <td>CA</td>\n",
              "      <td>ACUR</td>\n",
              "      <td>PA</td>\n",
              "      <td>WH</td>\n",
              "      <td>100 WORLD WAY</td>\n",
              "      <td>2F11</td>\n",
              "      <td>2.0</td>\n",
              "      <td>000</td>\n",
              "      <td>17104h</td>\n",
              "      <td>NaN</td>\n",
              "      <td>6440041.1</td>\n",
              "      <td>1802686.2</td>\n",
              "      <td>15.0</td>\n",
              "    </tr>\n",
              "    <tr>\n",
              "      <th>4</th>\n",
              "      <td>1105461453</td>\n",
              "      <td>2015-09-15T00:00:00</td>\n",
              "      <td>115.0</td>\n",
              "      <td>CA</td>\n",
              "      <td>CHEV</td>\n",
              "      <td>PA</td>\n",
              "      <td>BK</td>\n",
              "      <td>GEORGIA ST OLYMPIC</td>\n",
              "      <td>1FB70</td>\n",
              "      <td>1.0</td>\n",
              "      <td>8069A</td>\n",
              "      <td>NO STOPPING/STANDING</td>\n",
              "      <td>93.0</td>\n",
              "      <td>99999.0</td>\n",
              "      <td>99999.0</td>\n",
              "      <td>1.0</td>\n",
              "    </tr>\n",
              "  </tbody>\n",
              "</table>\n",
              "</div>"
            ],
            "text/plain": [
              "  Ticket number           Issue Date  Issue time RP State Plate  Make  \\\n",
              "0    1103341116  2015-12-21T00:00:00      1251.0             CA  HOND   \n",
              "1    1103700150  2015-12-21T00:00:00      1435.0             CA   GMC   \n",
              "2    1104803000  2015-12-21T00:00:00      2055.0             CA  NISS   \n",
              "3    1104820732  2015-12-26T00:00:00      1515.0             CA  ACUR   \n",
              "4    1105461453  2015-09-15T00:00:00       115.0             CA  CHEV   \n",
              "\n",
              "  Body Style Color            Location  Route  Agency Violation code  \\\n",
              "0         PA    GY     13147 WELBY WAY  01521     1.0         4000A1   \n",
              "1         VN    WH       525 S MAIN ST   1C51     1.0         4000A1   \n",
              "2         PA    BK       200 WORLD WAY    2R2     2.0           8939   \n",
              "3         PA    WH       100 WORLD WAY   2F11     2.0            000   \n",
              "4         PA    BK  GEORGIA ST OLYMPIC  1FB70     1.0          8069A   \n",
              "\n",
              "  Violation Description  Fine amount   Latitude  Longitude  Issue_Hour  \n",
              "0    NO EVIDENCE OF REG         50.0    99999.0    99999.0        12.0  \n",
              "1    NO EVIDENCE OF REG         50.0    99999.0    99999.0        14.0  \n",
              "2            WHITE CURB         58.0  6439997.9  1802686.4        20.0  \n",
              "3                17104h          NaN  6440041.1  1802686.2        15.0  \n",
              "4  NO STOPPING/STANDING         93.0    99999.0    99999.0         1.0  "
            ]
          },
          "metadata": {
            "tags": []
          },
          "execution_count": 48
        }
      ]
    },
    {
      "metadata": {
        "id": "eajHWjRlpx2T",
        "colab_type": "code",
        "colab": {
          "base_uri": "https://localhost:8080/",
          "height": 442
        },
        "outputId": "5dcc6538-0de0-435f-f04f-87db426fb594"
      },
      "cell_type": "code",
      "source": [
        "#  Assess \"Issue_Hour\" is as expected\n",
        "df_cleanData['Issue_Hour'].value_counts()"
      ],
      "execution_count": 49,
      "outputs": [
        {
          "output_type": "execute_result",
          "data": {
            "text/plain": [
              "12.0    1082114\n",
              "8.0     1058151\n",
              "10.0    1026404\n",
              "11.0     730913\n",
              "13.0     530245\n",
              "9.0      529342\n",
              "16.0     447163\n",
              "14.0     405274\n",
              "18.0     323847\n",
              "17.0     316788\n",
              "15.0     295285\n",
              "19.0     287068\n",
              "7.0      188698\n",
              "1.0      169093\n",
              "20.0     160983\n",
              "2.0      151387\n",
              "22.0     146802\n",
              "21.0     130306\n",
              "6.0      108424\n",
              "23.0      91986\n",
              "3.0       87698\n",
              "4.0       84245\n",
              "0.0       78465\n",
              "5.0       55851\n",
              "Name: Issue_Hour, dtype: int64"
            ]
          },
          "metadata": {
            "tags": []
          },
          "execution_count": 49
        }
      ]
    },
    {
      "metadata": {
        "id": "wzhGSp-tqL9d",
        "colab_type": "text"
      },
      "cell_type": "markdown",
      "source": [
        "# Step 5: Add series: create 'Issue_Month', 'Issue_Year', 'Issue_Weekday' columns\n",
        "\n",
        "Create 'Issue_Month', 'Issue_Year', 'Issue_Weekday' columns from 'Issue Date' column"
      ]
    },
    {
      "metadata": {
        "id": "y6lshD0Eqa6T",
        "colab_type": "code",
        "colab": {
          "base_uri": "https://localhost:8080/",
          "height": 306
        },
        "outputId": "a6a611b0-094e-46ec-ec4f-c2d0ea6961b4"
      },
      "cell_type": "code",
      "source": [
        "df_cleanData.dtypes"
      ],
      "execution_count": 50,
      "outputs": [
        {
          "output_type": "execute_result",
          "data": {
            "text/plain": [
              "Ticket number             object\n",
              "Issue Date                object\n",
              "Issue time               float64\n",
              "RP State Plate            object\n",
              "Make                      object\n",
              "Body Style                object\n",
              "Color                     object\n",
              "Location                  object\n",
              "Route                     object\n",
              "Agency                   float64\n",
              "Violation code            object\n",
              "Violation Description     object\n",
              "Fine amount              float64\n",
              "Latitude                 float64\n",
              "Longitude                float64\n",
              "Issue_Hour               float64\n",
              "dtype: object"
            ]
          },
          "metadata": {
            "tags": []
          },
          "execution_count": 50
        }
      ]
    },
    {
      "metadata": {
        "id": "FLHvvgUeqeck",
        "colab_type": "code",
        "colab": {
          "base_uri": "https://localhost:8080/",
          "height": 411
        },
        "outputId": "874cfac2-d776-4bb1-f41a-9d90be5c7f25"
      },
      "cell_type": "code",
      "source": [
        "df_cleanData.head()"
      ],
      "execution_count": 51,
      "outputs": [
        {
          "output_type": "execute_result",
          "data": {
            "text/html": [
              "<div>\n",
              "<style scoped>\n",
              "    .dataframe tbody tr th:only-of-type {\n",
              "        vertical-align: middle;\n",
              "    }\n",
              "\n",
              "    .dataframe tbody tr th {\n",
              "        vertical-align: top;\n",
              "    }\n",
              "\n",
              "    .dataframe thead th {\n",
              "        text-align: right;\n",
              "    }\n",
              "</style>\n",
              "<table border=\"1\" class=\"dataframe\">\n",
              "  <thead>\n",
              "    <tr style=\"text-align: right;\">\n",
              "      <th></th>\n",
              "      <th>Ticket number</th>\n",
              "      <th>Issue Date</th>\n",
              "      <th>Issue time</th>\n",
              "      <th>RP State Plate</th>\n",
              "      <th>Make</th>\n",
              "      <th>Body Style</th>\n",
              "      <th>Color</th>\n",
              "      <th>Location</th>\n",
              "      <th>Route</th>\n",
              "      <th>Agency</th>\n",
              "      <th>Violation code</th>\n",
              "      <th>Violation Description</th>\n",
              "      <th>Fine amount</th>\n",
              "      <th>Latitude</th>\n",
              "      <th>Longitude</th>\n",
              "      <th>Issue_Hour</th>\n",
              "    </tr>\n",
              "  </thead>\n",
              "  <tbody>\n",
              "    <tr>\n",
              "      <th>0</th>\n",
              "      <td>1103341116</td>\n",
              "      <td>2015-12-21T00:00:00</td>\n",
              "      <td>1251.0</td>\n",
              "      <td>CA</td>\n",
              "      <td>HOND</td>\n",
              "      <td>PA</td>\n",
              "      <td>GY</td>\n",
              "      <td>13147 WELBY WAY</td>\n",
              "      <td>01521</td>\n",
              "      <td>1.0</td>\n",
              "      <td>4000A1</td>\n",
              "      <td>NO EVIDENCE OF REG</td>\n",
              "      <td>50.0</td>\n",
              "      <td>99999.0</td>\n",
              "      <td>99999.0</td>\n",
              "      <td>12.0</td>\n",
              "    </tr>\n",
              "    <tr>\n",
              "      <th>1</th>\n",
              "      <td>1103700150</td>\n",
              "      <td>2015-12-21T00:00:00</td>\n",
              "      <td>1435.0</td>\n",
              "      <td>CA</td>\n",
              "      <td>GMC</td>\n",
              "      <td>VN</td>\n",
              "      <td>WH</td>\n",
              "      <td>525 S MAIN ST</td>\n",
              "      <td>1C51</td>\n",
              "      <td>1.0</td>\n",
              "      <td>4000A1</td>\n",
              "      <td>NO EVIDENCE OF REG</td>\n",
              "      <td>50.0</td>\n",
              "      <td>99999.0</td>\n",
              "      <td>99999.0</td>\n",
              "      <td>14.0</td>\n",
              "    </tr>\n",
              "    <tr>\n",
              "      <th>2</th>\n",
              "      <td>1104803000</td>\n",
              "      <td>2015-12-21T00:00:00</td>\n",
              "      <td>2055.0</td>\n",
              "      <td>CA</td>\n",
              "      <td>NISS</td>\n",
              "      <td>PA</td>\n",
              "      <td>BK</td>\n",
              "      <td>200 WORLD WAY</td>\n",
              "      <td>2R2</td>\n",
              "      <td>2.0</td>\n",
              "      <td>8939</td>\n",
              "      <td>WHITE CURB</td>\n",
              "      <td>58.0</td>\n",
              "      <td>6439997.9</td>\n",
              "      <td>1802686.4</td>\n",
              "      <td>20.0</td>\n",
              "    </tr>\n",
              "    <tr>\n",
              "      <th>3</th>\n",
              "      <td>1104820732</td>\n",
              "      <td>2015-12-26T00:00:00</td>\n",
              "      <td>1515.0</td>\n",
              "      <td>CA</td>\n",
              "      <td>ACUR</td>\n",
              "      <td>PA</td>\n",
              "      <td>WH</td>\n",
              "      <td>100 WORLD WAY</td>\n",
              "      <td>2F11</td>\n",
              "      <td>2.0</td>\n",
              "      <td>000</td>\n",
              "      <td>17104h</td>\n",
              "      <td>NaN</td>\n",
              "      <td>6440041.1</td>\n",
              "      <td>1802686.2</td>\n",
              "      <td>15.0</td>\n",
              "    </tr>\n",
              "    <tr>\n",
              "      <th>4</th>\n",
              "      <td>1105461453</td>\n",
              "      <td>2015-09-15T00:00:00</td>\n",
              "      <td>115.0</td>\n",
              "      <td>CA</td>\n",
              "      <td>CHEV</td>\n",
              "      <td>PA</td>\n",
              "      <td>BK</td>\n",
              "      <td>GEORGIA ST OLYMPIC</td>\n",
              "      <td>1FB70</td>\n",
              "      <td>1.0</td>\n",
              "      <td>8069A</td>\n",
              "      <td>NO STOPPING/STANDING</td>\n",
              "      <td>93.0</td>\n",
              "      <td>99999.0</td>\n",
              "      <td>99999.0</td>\n",
              "      <td>1.0</td>\n",
              "    </tr>\n",
              "  </tbody>\n",
              "</table>\n",
              "</div>"
            ],
            "text/plain": [
              "  Ticket number           Issue Date  Issue time RP State Plate  Make  \\\n",
              "0    1103341116  2015-12-21T00:00:00      1251.0             CA  HOND   \n",
              "1    1103700150  2015-12-21T00:00:00      1435.0             CA   GMC   \n",
              "2    1104803000  2015-12-21T00:00:00      2055.0             CA  NISS   \n",
              "3    1104820732  2015-12-26T00:00:00      1515.0             CA  ACUR   \n",
              "4    1105461453  2015-09-15T00:00:00       115.0             CA  CHEV   \n",
              "\n",
              "  Body Style Color            Location  Route  Agency Violation code  \\\n",
              "0         PA    GY     13147 WELBY WAY  01521     1.0         4000A1   \n",
              "1         VN    WH       525 S MAIN ST   1C51     1.0         4000A1   \n",
              "2         PA    BK       200 WORLD WAY    2R2     2.0           8939   \n",
              "3         PA    WH       100 WORLD WAY   2F11     2.0            000   \n",
              "4         PA    BK  GEORGIA ST OLYMPIC  1FB70     1.0          8069A   \n",
              "\n",
              "  Violation Description  Fine amount   Latitude  Longitude  Issue_Hour  \n",
              "0    NO EVIDENCE OF REG         50.0    99999.0    99999.0        12.0  \n",
              "1    NO EVIDENCE OF REG         50.0    99999.0    99999.0        14.0  \n",
              "2            WHITE CURB         58.0  6439997.9  1802686.4        20.0  \n",
              "3                17104h          NaN  6440041.1  1802686.2        15.0  \n",
              "4  NO STOPPING/STANDING         93.0    99999.0    99999.0         1.0  "
            ]
          },
          "metadata": {
            "tags": []
          },
          "execution_count": 51
        }
      ]
    },
    {
      "metadata": {
        "id": "JXHq3Xf2qLhW",
        "colab_type": "code",
        "colab": {}
      },
      "cell_type": "code",
      "source": [
        "#  Add series within the dataframe to break out 'Issue Date' into additional seroes:\n",
        "#  'Issue_Year', 'Issue_Month', 'Issue_Month_Year'\n",
        "df_cleanData['Issue_Year'] = pd.DatetimeIndex(df_cleanData['Issue Date']).year\n",
        "df_cleanData['Issue_Month'] = pd.DatetimeIndex(df_cleanData['Issue Date']).month\n",
        "df_cleanData['Issue_Month_Year'] = pd.to_datetime(df_cleanData['Issue Date']).dt.to_period('M')\n",
        "df_cleanData['Issue_Weekday'] = pd.to_datetime(df_cleanData['Issue Date']).dt.weekday_name\n"
      ],
      "execution_count": 0,
      "outputs": []
    },
    {
      "metadata": {
        "id": "WTDPe6BTrutj",
        "colab_type": "code",
        "colab": {
          "base_uri": "https://localhost:8080/",
          "height": 411
        },
        "outputId": "ff4b9457-e68e-4da1-fc09-c8f5b9f20af3"
      },
      "cell_type": "code",
      "source": [
        "df_cleanData.head()"
      ],
      "execution_count": 54,
      "outputs": [
        {
          "output_type": "execute_result",
          "data": {
            "text/html": [
              "<div>\n",
              "<style scoped>\n",
              "    .dataframe tbody tr th:only-of-type {\n",
              "        vertical-align: middle;\n",
              "    }\n",
              "\n",
              "    .dataframe tbody tr th {\n",
              "        vertical-align: top;\n",
              "    }\n",
              "\n",
              "    .dataframe thead th {\n",
              "        text-align: right;\n",
              "    }\n",
              "</style>\n",
              "<table border=\"1\" class=\"dataframe\">\n",
              "  <thead>\n",
              "    <tr style=\"text-align: right;\">\n",
              "      <th></th>\n",
              "      <th>Ticket number</th>\n",
              "      <th>Issue Date</th>\n",
              "      <th>Issue time</th>\n",
              "      <th>RP State Plate</th>\n",
              "      <th>Make</th>\n",
              "      <th>Body Style</th>\n",
              "      <th>Color</th>\n",
              "      <th>Location</th>\n",
              "      <th>Route</th>\n",
              "      <th>Agency</th>\n",
              "      <th>Violation code</th>\n",
              "      <th>Violation Description</th>\n",
              "      <th>Fine amount</th>\n",
              "      <th>Latitude</th>\n",
              "      <th>Longitude</th>\n",
              "      <th>Issue_Hour</th>\n",
              "      <th>Issue_Year</th>\n",
              "      <th>Issue_Month</th>\n",
              "      <th>Issue_Month_Year</th>\n",
              "      <th>Issue_Weekday</th>\n",
              "    </tr>\n",
              "  </thead>\n",
              "  <tbody>\n",
              "    <tr>\n",
              "      <th>0</th>\n",
              "      <td>1103341116</td>\n",
              "      <td>2015-12-21T00:00:00</td>\n",
              "      <td>1251.0</td>\n",
              "      <td>CA</td>\n",
              "      <td>HOND</td>\n",
              "      <td>PA</td>\n",
              "      <td>GY</td>\n",
              "      <td>13147 WELBY WAY</td>\n",
              "      <td>01521</td>\n",
              "      <td>1.0</td>\n",
              "      <td>4000A1</td>\n",
              "      <td>NO EVIDENCE OF REG</td>\n",
              "      <td>50.0</td>\n",
              "      <td>99999.0</td>\n",
              "      <td>99999.0</td>\n",
              "      <td>12.0</td>\n",
              "      <td>2015</td>\n",
              "      <td>12</td>\n",
              "      <td>2015-12</td>\n",
              "      <td>Monday</td>\n",
              "    </tr>\n",
              "    <tr>\n",
              "      <th>1</th>\n",
              "      <td>1103700150</td>\n",
              "      <td>2015-12-21T00:00:00</td>\n",
              "      <td>1435.0</td>\n",
              "      <td>CA</td>\n",
              "      <td>GMC</td>\n",
              "      <td>VN</td>\n",
              "      <td>WH</td>\n",
              "      <td>525 S MAIN ST</td>\n",
              "      <td>1C51</td>\n",
              "      <td>1.0</td>\n",
              "      <td>4000A1</td>\n",
              "      <td>NO EVIDENCE OF REG</td>\n",
              "      <td>50.0</td>\n",
              "      <td>99999.0</td>\n",
              "      <td>99999.0</td>\n",
              "      <td>14.0</td>\n",
              "      <td>2015</td>\n",
              "      <td>12</td>\n",
              "      <td>2015-12</td>\n",
              "      <td>Monday</td>\n",
              "    </tr>\n",
              "    <tr>\n",
              "      <th>2</th>\n",
              "      <td>1104803000</td>\n",
              "      <td>2015-12-21T00:00:00</td>\n",
              "      <td>2055.0</td>\n",
              "      <td>CA</td>\n",
              "      <td>NISS</td>\n",
              "      <td>PA</td>\n",
              "      <td>BK</td>\n",
              "      <td>200 WORLD WAY</td>\n",
              "      <td>2R2</td>\n",
              "      <td>2.0</td>\n",
              "      <td>8939</td>\n",
              "      <td>WHITE CURB</td>\n",
              "      <td>58.0</td>\n",
              "      <td>6439997.9</td>\n",
              "      <td>1802686.4</td>\n",
              "      <td>20.0</td>\n",
              "      <td>2015</td>\n",
              "      <td>12</td>\n",
              "      <td>2015-12</td>\n",
              "      <td>Monday</td>\n",
              "    </tr>\n",
              "    <tr>\n",
              "      <th>3</th>\n",
              "      <td>1104820732</td>\n",
              "      <td>2015-12-26T00:00:00</td>\n",
              "      <td>1515.0</td>\n",
              "      <td>CA</td>\n",
              "      <td>ACUR</td>\n",
              "      <td>PA</td>\n",
              "      <td>WH</td>\n",
              "      <td>100 WORLD WAY</td>\n",
              "      <td>2F11</td>\n",
              "      <td>2.0</td>\n",
              "      <td>000</td>\n",
              "      <td>17104h</td>\n",
              "      <td>NaN</td>\n",
              "      <td>6440041.1</td>\n",
              "      <td>1802686.2</td>\n",
              "      <td>15.0</td>\n",
              "      <td>2015</td>\n",
              "      <td>12</td>\n",
              "      <td>2015-12</td>\n",
              "      <td>Saturday</td>\n",
              "    </tr>\n",
              "    <tr>\n",
              "      <th>4</th>\n",
              "      <td>1105461453</td>\n",
              "      <td>2015-09-15T00:00:00</td>\n",
              "      <td>115.0</td>\n",
              "      <td>CA</td>\n",
              "      <td>CHEV</td>\n",
              "      <td>PA</td>\n",
              "      <td>BK</td>\n",
              "      <td>GEORGIA ST OLYMPIC</td>\n",
              "      <td>1FB70</td>\n",
              "      <td>1.0</td>\n",
              "      <td>8069A</td>\n",
              "      <td>NO STOPPING/STANDING</td>\n",
              "      <td>93.0</td>\n",
              "      <td>99999.0</td>\n",
              "      <td>99999.0</td>\n",
              "      <td>1.0</td>\n",
              "      <td>2015</td>\n",
              "      <td>9</td>\n",
              "      <td>2015-09</td>\n",
              "      <td>Tuesday</td>\n",
              "    </tr>\n",
              "  </tbody>\n",
              "</table>\n",
              "</div>"
            ],
            "text/plain": [
              "  Ticket number           Issue Date  Issue time RP State Plate  Make  \\\n",
              "0    1103341116  2015-12-21T00:00:00      1251.0             CA  HOND   \n",
              "1    1103700150  2015-12-21T00:00:00      1435.0             CA   GMC   \n",
              "2    1104803000  2015-12-21T00:00:00      2055.0             CA  NISS   \n",
              "3    1104820732  2015-12-26T00:00:00      1515.0             CA  ACUR   \n",
              "4    1105461453  2015-09-15T00:00:00       115.0             CA  CHEV   \n",
              "\n",
              "  Body Style Color            Location  Route  Agency Violation code  \\\n",
              "0         PA    GY     13147 WELBY WAY  01521     1.0         4000A1   \n",
              "1         VN    WH       525 S MAIN ST   1C51     1.0         4000A1   \n",
              "2         PA    BK       200 WORLD WAY    2R2     2.0           8939   \n",
              "3         PA    WH       100 WORLD WAY   2F11     2.0            000   \n",
              "4         PA    BK  GEORGIA ST OLYMPIC  1FB70     1.0          8069A   \n",
              "\n",
              "  Violation Description  Fine amount   Latitude  Longitude  Issue_Hour  \\\n",
              "0    NO EVIDENCE OF REG         50.0    99999.0    99999.0        12.0   \n",
              "1    NO EVIDENCE OF REG         50.0    99999.0    99999.0        14.0   \n",
              "2            WHITE CURB         58.0  6439997.9  1802686.4        20.0   \n",
              "3                17104h          NaN  6440041.1  1802686.2        15.0   \n",
              "4  NO STOPPING/STANDING         93.0    99999.0    99999.0         1.0   \n",
              "\n",
              "   Issue_Year  Issue_Month Issue_Month_Year Issue_Weekday  \n",
              "0        2015           12          2015-12        Monday  \n",
              "1        2015           12          2015-12        Monday  \n",
              "2        2015           12          2015-12        Monday  \n",
              "3        2015           12          2015-12      Saturday  \n",
              "4        2015            9          2015-09       Tuesday  "
            ]
          },
          "metadata": {
            "tags": []
          },
          "execution_count": 54
        }
      ]
    },
    {
      "metadata": {
        "id": "OubaDse1sSoS",
        "colab_type": "text"
      },
      "cell_type": "markdown",
      "source": [
        "# Step 6: Remove 'Latitude', 'Longitude' columns\n",
        "\n",
        "'Latitude' and 'Longitude' columns contain mostly 99999999 values (useless).  These columns will be added appropriately after geocoding"
      ]
    },
    {
      "metadata": {
        "id": "sQAVICp7sSJ9",
        "colab_type": "code",
        "colab": {
          "base_uri": "https://localhost:8080/",
          "height": 374
        },
        "outputId": "24fe21be-72bb-4d5a-bf6d-708e0ceb9cb3"
      },
      "cell_type": "code",
      "source": [
        "df_cleanData.dtypes"
      ],
      "execution_count": 55,
      "outputs": [
        {
          "output_type": "execute_result",
          "data": {
            "text/plain": [
              "Ticket number             object\n",
              "Issue Date                object\n",
              "Issue time               float64\n",
              "RP State Plate            object\n",
              "Make                      object\n",
              "Body Style                object\n",
              "Color                     object\n",
              "Location                  object\n",
              "Route                     object\n",
              "Agency                   float64\n",
              "Violation code            object\n",
              "Violation Description     object\n",
              "Fine amount              float64\n",
              "Latitude                 float64\n",
              "Longitude                float64\n",
              "Issue_Hour               float64\n",
              "Issue_Year                 int64\n",
              "Issue_Month                int64\n",
              "Issue_Month_Year          object\n",
              "Issue_Weekday             object\n",
              "dtype: object"
            ]
          },
          "metadata": {
            "tags": []
          },
          "execution_count": 55
        }
      ]
    },
    {
      "metadata": {
        "id": "zVzxVQsGsnVC",
        "colab_type": "code",
        "colab": {
          "base_uri": "https://localhost:8080/",
          "height": 1071
        },
        "outputId": "1d975f4f-bddc-4105-8af6-70672c8973a2"
      },
      "cell_type": "code",
      "source": [
        "df_cleanData.Latitude.value_counts()"
      ],
      "execution_count": 56,
      "outputs": [
        {
          "output_type": "execute_result",
          "data": {
            "text/plain": [
              "9.999900e+04    1275470\n",
              "6.463690e+06       8371\n",
              "6.419829e+06       7084\n",
              "6.462121e+06       6851\n",
              "6.458312e+06       6421\n",
              "6.463690e+06       5643\n",
              "6.461454e+06       5640\n",
              "6.448999e+06       5081\n",
              "6.421106e+06       4870\n",
              "6.458312e+06       4715\n",
              "6.463690e+06       4428\n",
              "6.463690e+06       3739\n",
              "6.449301e+06       3737\n",
              "6.457731e+06       3668\n",
              "6.457731e+06       3528\n",
              "6.470141e+06       3491\n",
              "6.449000e+06       3367\n",
              "6.486945e+06       3339\n",
              "6.426798e+06       3319\n",
              "6.421786e+06       3110\n",
              "6.462121e+06       3089\n",
              "6.439920e+06       3084\n",
              "6.447001e+06       3060\n",
              "6.447001e+06       3056\n",
              "6.448999e+06       2997\n",
              "6.419538e+06       2980\n",
              "6.483074e+06       2957\n",
              "6.427372e+06       2929\n",
              "6.427693e+06       2918\n",
              "6.461452e+06       2913\n",
              "                 ...   \n",
              "6.475933e+06          1\n",
              "6.374763e+06          1\n",
              "6.454964e+06          1\n",
              "6.450719e+06          1\n",
              "6.454979e+06          1\n",
              "6.488474e+06          1\n",
              "6.457806e+06          1\n",
              "6.454994e+06          1\n",
              "6.474470e+06          1\n",
              "6.455026e+06          1\n",
              "6.484937e+06          1\n",
              "6.504014e+06          1\n",
              "6.454884e+06          1\n",
              "6.454874e+06          1\n",
              "6.451685e+06          1\n",
              "6.451591e+06          1\n",
              "6.454812e+06          1\n",
              "6.485881e+06          1\n",
              "6.454820e+06          1\n",
              "6.506515e+06          1\n",
              "6.454832e+06          1\n",
              "6.454842e+06          1\n",
              "6.451651e+06          1\n",
              "6.433654e+06          1\n",
              "6.454858e+06          1\n",
              "6.455494e+06          1\n",
              "6.454867e+06          1\n",
              "6.463621e+06          1\n",
              "6.474738e+06          1\n",
              "6.487769e+06          1\n",
              "Name: Latitude, Length: 986119, dtype: int64"
            ]
          },
          "metadata": {
            "tags": []
          },
          "execution_count": 56
        }
      ]
    },
    {
      "metadata": {
        "id": "Y57rq15Xst4L",
        "colab_type": "code",
        "colab": {
          "base_uri": "https://localhost:8080/",
          "height": 1071
        },
        "outputId": "d6a09828-b50b-4ff2-9eb6-393f65c51800"
      },
      "cell_type": "code",
      "source": [
        "df_cleanData.Longitude.value_counts()"
      ],
      "execution_count": 57,
      "outputs": [
        {
          "output_type": "execute_result",
          "data": {
            "text/plain": [
              "9.999900e+04    1275470\n",
              "1.819688e+06       7084\n",
              "1.859071e+06       6421\n",
              "1.882602e+06       5081\n",
              "1.849114e+06       5038\n",
              "1.859071e+06       4792\n",
              "1.849114e+06       4215\n",
              "1.836817e+06       3667\n",
              "1.864752e+06       3498\n",
              "1.819197e+06       3483\n",
              "1.883364e+06       3367\n",
              "1.845451e+06       3327\n",
              "1.837270e+06       3280\n",
              "1.858229e+06       3220\n",
              "1.857542e+06       3180\n",
              "1.840434e+06       3110\n",
              "1.857542e+06       3089\n",
              "1.845113e+06       3058\n",
              "1.845451e+06       3058\n",
              "1.876409e+06       3056\n",
              "1.848423e+06       3047\n",
              "1.882602e+06       2994\n",
              "1.852081e+06       2859\n",
              "1.882982e+06       2846\n",
              "1.743317e+06       2762\n",
              "1.859358e+06       2750\n",
              "1.848423e+06       2720\n",
              "1.845113e+06       2709\n",
              "1.849337e+06       2699\n",
              "1.859358e+06       2694\n",
              "                 ...   \n",
              "1.849769e+06          1\n",
              "1.849789e+06          1\n",
              "1.833999e+06          1\n",
              "1.849394e+06          1\n",
              "1.836669e+06          1\n",
              "1.896851e+06          1\n",
              "1.849737e+06          1\n",
              "1.896776e+06          1\n",
              "1.849746e+06          1\n",
              "1.894605e+06          1\n",
              "1.844966e+06          1\n",
              "1.841435e+06          1\n",
              "1.849795e+06          1\n",
              "1.893296e+06          1\n",
              "1.841442e+06          1\n",
              "1.840865e+06          1\n",
              "1.834409e+06          1\n",
              "1.844939e+06          1\n",
              "1.889966e+06          1\n",
              "1.822223e+06          1\n",
              "1.918622e+06          1\n",
              "1.892957e+06          1\n",
              "1.840553e+06          1\n",
              "1.836559e+06          1\n",
              "1.849843e+06          1\n",
              "1.836553e+06          1\n",
              "1.849853e+06          1\n",
              "1.727426e+06          1\n",
              "1.841432e+06          1\n",
              "1.829667e+06          1\n",
              "Name: Longitude, Length: 1024333, dtype: int64"
            ]
          },
          "metadata": {
            "tags": []
          },
          "execution_count": 57
        }
      ]
    },
    {
      "metadata": {
        "id": "Kn0fpIF0sxQJ",
        "colab_type": "code",
        "colab": {}
      },
      "cell_type": "code",
      "source": [
        "df_cleanData = df_cleanData.drop(['Longitude', 'Latitude'], axis='columns')"
      ],
      "execution_count": 0,
      "outputs": []
    },
    {
      "metadata": {
        "id": "mMX8xUvGs5g5",
        "colab_type": "code",
        "colab": {
          "base_uri": "https://localhost:8080/",
          "height": 340
        },
        "outputId": "23fbbdc8-cd92-4302-c90d-230f19fea2a1"
      },
      "cell_type": "code",
      "source": [
        "df_cleanData.dtypes"
      ],
      "execution_count": 61,
      "outputs": [
        {
          "output_type": "execute_result",
          "data": {
            "text/plain": [
              "Ticket number             object\n",
              "Issue Date                object\n",
              "Issue time               float64\n",
              "RP State Plate            object\n",
              "Make                      object\n",
              "Body Style                object\n",
              "Color                     object\n",
              "Location                  object\n",
              "Route                     object\n",
              "Agency                   float64\n",
              "Violation code            object\n",
              "Violation Description     object\n",
              "Fine amount              float64\n",
              "Issue_Hour               float64\n",
              "Issue_Year                 int64\n",
              "Issue_Month                int64\n",
              "Issue_Month_Year          object\n",
              "Issue_Weekday             object\n",
              "dtype: object"
            ]
          },
          "metadata": {
            "tags": []
          },
          "execution_count": 61
        }
      ]
    },
    {
      "metadata": {
        "id": "XagOhcyztK7d",
        "colab_type": "code",
        "colab": {
          "base_uri": "https://localhost:8080/",
          "height": 411
        },
        "outputId": "b33124e7-087c-4079-c284-01756f5f2fa0"
      },
      "cell_type": "code",
      "source": [
        "df_cleanData.head()"
      ],
      "execution_count": 62,
      "outputs": [
        {
          "output_type": "execute_result",
          "data": {
            "text/html": [
              "<div>\n",
              "<style scoped>\n",
              "    .dataframe tbody tr th:only-of-type {\n",
              "        vertical-align: middle;\n",
              "    }\n",
              "\n",
              "    .dataframe tbody tr th {\n",
              "        vertical-align: top;\n",
              "    }\n",
              "\n",
              "    .dataframe thead th {\n",
              "        text-align: right;\n",
              "    }\n",
              "</style>\n",
              "<table border=\"1\" class=\"dataframe\">\n",
              "  <thead>\n",
              "    <tr style=\"text-align: right;\">\n",
              "      <th></th>\n",
              "      <th>Ticket number</th>\n",
              "      <th>Issue Date</th>\n",
              "      <th>Issue time</th>\n",
              "      <th>RP State Plate</th>\n",
              "      <th>Make</th>\n",
              "      <th>Body Style</th>\n",
              "      <th>Color</th>\n",
              "      <th>Location</th>\n",
              "      <th>Route</th>\n",
              "      <th>Agency</th>\n",
              "      <th>Violation code</th>\n",
              "      <th>Violation Description</th>\n",
              "      <th>Fine amount</th>\n",
              "      <th>Issue_Hour</th>\n",
              "      <th>Issue_Year</th>\n",
              "      <th>Issue_Month</th>\n",
              "      <th>Issue_Month_Year</th>\n",
              "      <th>Issue_Weekday</th>\n",
              "    </tr>\n",
              "  </thead>\n",
              "  <tbody>\n",
              "    <tr>\n",
              "      <th>0</th>\n",
              "      <td>1103341116</td>\n",
              "      <td>2015-12-21T00:00:00</td>\n",
              "      <td>1251.0</td>\n",
              "      <td>CA</td>\n",
              "      <td>HOND</td>\n",
              "      <td>PA</td>\n",
              "      <td>GY</td>\n",
              "      <td>13147 WELBY WAY</td>\n",
              "      <td>01521</td>\n",
              "      <td>1.0</td>\n",
              "      <td>4000A1</td>\n",
              "      <td>NO EVIDENCE OF REG</td>\n",
              "      <td>50.0</td>\n",
              "      <td>12.0</td>\n",
              "      <td>2015</td>\n",
              "      <td>12</td>\n",
              "      <td>2015-12</td>\n",
              "      <td>Monday</td>\n",
              "    </tr>\n",
              "    <tr>\n",
              "      <th>1</th>\n",
              "      <td>1103700150</td>\n",
              "      <td>2015-12-21T00:00:00</td>\n",
              "      <td>1435.0</td>\n",
              "      <td>CA</td>\n",
              "      <td>GMC</td>\n",
              "      <td>VN</td>\n",
              "      <td>WH</td>\n",
              "      <td>525 S MAIN ST</td>\n",
              "      <td>1C51</td>\n",
              "      <td>1.0</td>\n",
              "      <td>4000A1</td>\n",
              "      <td>NO EVIDENCE OF REG</td>\n",
              "      <td>50.0</td>\n",
              "      <td>14.0</td>\n",
              "      <td>2015</td>\n",
              "      <td>12</td>\n",
              "      <td>2015-12</td>\n",
              "      <td>Monday</td>\n",
              "    </tr>\n",
              "    <tr>\n",
              "      <th>2</th>\n",
              "      <td>1104803000</td>\n",
              "      <td>2015-12-21T00:00:00</td>\n",
              "      <td>2055.0</td>\n",
              "      <td>CA</td>\n",
              "      <td>NISS</td>\n",
              "      <td>PA</td>\n",
              "      <td>BK</td>\n",
              "      <td>200 WORLD WAY</td>\n",
              "      <td>2R2</td>\n",
              "      <td>2.0</td>\n",
              "      <td>8939</td>\n",
              "      <td>WHITE CURB</td>\n",
              "      <td>58.0</td>\n",
              "      <td>20.0</td>\n",
              "      <td>2015</td>\n",
              "      <td>12</td>\n",
              "      <td>2015-12</td>\n",
              "      <td>Monday</td>\n",
              "    </tr>\n",
              "    <tr>\n",
              "      <th>3</th>\n",
              "      <td>1104820732</td>\n",
              "      <td>2015-12-26T00:00:00</td>\n",
              "      <td>1515.0</td>\n",
              "      <td>CA</td>\n",
              "      <td>ACUR</td>\n",
              "      <td>PA</td>\n",
              "      <td>WH</td>\n",
              "      <td>100 WORLD WAY</td>\n",
              "      <td>2F11</td>\n",
              "      <td>2.0</td>\n",
              "      <td>000</td>\n",
              "      <td>17104h</td>\n",
              "      <td>NaN</td>\n",
              "      <td>15.0</td>\n",
              "      <td>2015</td>\n",
              "      <td>12</td>\n",
              "      <td>2015-12</td>\n",
              "      <td>Saturday</td>\n",
              "    </tr>\n",
              "    <tr>\n",
              "      <th>4</th>\n",
              "      <td>1105461453</td>\n",
              "      <td>2015-09-15T00:00:00</td>\n",
              "      <td>115.0</td>\n",
              "      <td>CA</td>\n",
              "      <td>CHEV</td>\n",
              "      <td>PA</td>\n",
              "      <td>BK</td>\n",
              "      <td>GEORGIA ST OLYMPIC</td>\n",
              "      <td>1FB70</td>\n",
              "      <td>1.0</td>\n",
              "      <td>8069A</td>\n",
              "      <td>NO STOPPING/STANDING</td>\n",
              "      <td>93.0</td>\n",
              "      <td>1.0</td>\n",
              "      <td>2015</td>\n",
              "      <td>9</td>\n",
              "      <td>2015-09</td>\n",
              "      <td>Tuesday</td>\n",
              "    </tr>\n",
              "  </tbody>\n",
              "</table>\n",
              "</div>"
            ],
            "text/plain": [
              "  Ticket number           Issue Date  Issue time RP State Plate  Make  \\\n",
              "0    1103341116  2015-12-21T00:00:00      1251.0             CA  HOND   \n",
              "1    1103700150  2015-12-21T00:00:00      1435.0             CA   GMC   \n",
              "2    1104803000  2015-12-21T00:00:00      2055.0             CA  NISS   \n",
              "3    1104820732  2015-12-26T00:00:00      1515.0             CA  ACUR   \n",
              "4    1105461453  2015-09-15T00:00:00       115.0             CA  CHEV   \n",
              "\n",
              "  Body Style Color            Location  Route  Agency Violation code  \\\n",
              "0         PA    GY     13147 WELBY WAY  01521     1.0         4000A1   \n",
              "1         VN    WH       525 S MAIN ST   1C51     1.0         4000A1   \n",
              "2         PA    BK       200 WORLD WAY    2R2     2.0           8939   \n",
              "3         PA    WH       100 WORLD WAY   2F11     2.0            000   \n",
              "4         PA    BK  GEORGIA ST OLYMPIC  1FB70     1.0          8069A   \n",
              "\n",
              "  Violation Description  Fine amount  Issue_Hour  Issue_Year  Issue_Month  \\\n",
              "0    NO EVIDENCE OF REG         50.0        12.0        2015           12   \n",
              "1    NO EVIDENCE OF REG         50.0        14.0        2015           12   \n",
              "2            WHITE CURB         58.0        20.0        2015           12   \n",
              "3                17104h          NaN        15.0        2015           12   \n",
              "4  NO STOPPING/STANDING         93.0         1.0        2015            9   \n",
              "\n",
              "  Issue_Month_Year Issue_Weekday  \n",
              "0          2015-12        Monday  \n",
              "1          2015-12        Monday  \n",
              "2          2015-12        Monday  \n",
              "3          2015-12      Saturday  \n",
              "4          2015-09       Tuesday  "
            ]
          },
          "metadata": {
            "tags": []
          },
          "execution_count": 62
        }
      ]
    },
    {
      "metadata": {
        "id": "14guEwswtQkl",
        "colab_type": "text"
      },
      "cell_type": "markdown",
      "source": [
        "#  Step 7: Create new dataframe --> save this dataframe as a csv in gDrive"
      ]
    },
    {
      "metadata": {
        "id": "nPqQBpCatYGa",
        "colab_type": "code",
        "colab": {}
      },
      "cell_type": "code",
      "source": [
        "df_cleanData.to_csv(\"example.csv\")\n",
        "uploaded = drive.CreateFile({'title': 'cleanData.csv'})\n",
        "uploaded.SetContentFile(\"example.csv\")\n",
        "uploaded.Upload()"
      ],
      "execution_count": 0,
      "outputs": []
    },
    {
      "metadata": {
        "id": "3BJXmQ7euLX5",
        "colab_type": "code",
        "colab": {}
      },
      "cell_type": "code",
      "source": [
        ""
      ],
      "execution_count": 0,
      "outputs": []
    }
  ]
}