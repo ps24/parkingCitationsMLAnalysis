{
  "nbformat": 4,
  "nbformat_minor": 0,
  "metadata": {
    "colab": {
      "name": "Draft1.ipynb",
      "version": "0.3.2",
      "provenance": []
    },
    "kernelspec": {
      "name": "python3",
      "display_name": "Python 3"
    }
  },
  "cells": [
    {
      "metadata": {
        "id": "O2WikJ1FpxAU",
        "colab_type": "text"
      },
      "cell_type": "markdown",
      "source": [
        "#  Package Imports"
      ]
    },
    {
      "metadata": {
        "id": "PkzPItwRp6Fw",
        "colab_type": "code",
        "colab": {}
      },
      "cell_type": "code",
      "source": [
        "!pip install -U -q PyDrive\n",
        "\n",
        "from pydrive.auth import GoogleAuth\n",
        "from pydrive.drive import GoogleDrive\n",
        "from google.colab import auth\n",
        "from oauth2client.client import GoogleCredentials\n",
        "\n",
        "#  Data dependencies\n",
        "import pandas as pd\n",
        "import numpy as np\n",
        "import matplotlib.pyplot as plt\n",
        "plt.rcParams['figure.figsize'] = [16, 10]\n",
        "from sklearn.model_selection import train_test_split\n",
        "from sklearn.linear_model import LogisticRegression\n",
        "from sklearn.tree import DecisionTreeClassifier\n",
        "from sklearn.naive_bayes import GaussianNB\n",
        "from sklearn.metrics import accuracy_score, precision_score, recall_score, confusion_matrix, precision_recall_curve\n",
        "from collections import OrderedDict"
      ],
      "execution_count": 0,
      "outputs": []
    },
    {
      "metadata": {
        "id": "LyxsSK7sp77B",
        "colab_type": "text"
      },
      "cell_type": "markdown",
      "source": [
        "#  Load Data from GDrive"
      ]
    },
    {
      "metadata": {
        "id": "V86ZW3snqAbd",
        "colab_type": "code",
        "colab": {}
      },
      "cell_type": "code",
      "source": [
        "#  Authenticate Google Account for GDrive access (raw data is saved in GDrive)\n",
        "auth.authenticate_user()\n",
        "gauth = GoogleAuth()\n",
        "gauth.credentials = GoogleCredentials.get_application_default()\n",
        "drive = GoogleDrive(gauth)"
      ],
      "execution_count": 0,
      "outputs": []
    },
    {
      "metadata": {
        "id": "71Jq1OOTqCBN",
        "colab_type": "code",
        "colab": {}
      },
      "cell_type": "code",
      "source": [
        "# Raw data file gdrive location: 1-lFfUd86ebnu65YNmpgdKhwkedFB9dDg\n",
        "clean_data_downloaded = drive.CreateFile({'id': '1-lFfUd86ebnu65YNmpgdKhwkedFB9dDg'})\n",
        "clean_data_downloaded.GetContentFile('DataCleanUp.csv')\n",
        "\n",
        "df_parking = pd.read_csv('DataCleanUp.csv', dtype={'Ticket number': str})"
      ],
      "execution_count": 0,
      "outputs": []
    },
    {
      "metadata": {
        "id": "m3F6GXHnqTwC",
        "colab_type": "text"
      },
      "cell_type": "markdown",
      "source": [
        "#  Data Assessment"
      ]
    },
    {
      "metadata": {
        "id": "gkQBx6NIqlWt",
        "colab_type": "code",
        "outputId": "813c530b-c710-4e02-a37e-32549a0a4a22",
        "colab": {
          "base_uri": "https://localhost:8080/",
          "height": 437
        }
      },
      "cell_type": "code",
      "source": [
        "df_parking.head()"
      ],
      "execution_count": 4,
      "outputs": [
        {
          "output_type": "execute_result",
          "data": {
            "text/html": [
              "<div>\n",
              "<style scoped>\n",
              "    .dataframe tbody tr th:only-of-type {\n",
              "        vertical-align: middle;\n",
              "    }\n",
              "\n",
              "    .dataframe tbody tr th {\n",
              "        vertical-align: top;\n",
              "    }\n",
              "\n",
              "    .dataframe thead th {\n",
              "        text-align: right;\n",
              "    }\n",
              "</style>\n",
              "<table border=\"1\" class=\"dataframe\">\n",
              "  <thead>\n",
              "    <tr style=\"text-align: right;\">\n",
              "      <th></th>\n",
              "      <th>Unnamed: 0</th>\n",
              "      <th>Ticket number</th>\n",
              "      <th>Issue Date</th>\n",
              "      <th>Issue time</th>\n",
              "      <th>RP State Plate</th>\n",
              "      <th>Make</th>\n",
              "      <th>Body Style</th>\n",
              "      <th>Color</th>\n",
              "      <th>Location</th>\n",
              "      <th>Route</th>\n",
              "      <th>...</th>\n",
              "      <th>Fine amount</th>\n",
              "      <th>Issue_Hour</th>\n",
              "      <th>Issue_Year</th>\n",
              "      <th>Issue_Month</th>\n",
              "      <th>Issue_Month_Year</th>\n",
              "      <th>Issue_Weekday</th>\n",
              "      <th>Modified_Location</th>\n",
              "      <th>Modified_Location_Encode</th>\n",
              "      <th>Issue_Hour_Loc_Count</th>\n",
              "      <th>t_risk_level</th>\n",
              "    </tr>\n",
              "  </thead>\n",
              "  <tbody>\n",
              "    <tr>\n",
              "      <th>0</th>\n",
              "      <td>0</td>\n",
              "      <td>1103341116</td>\n",
              "      <td>2015-12-21T00:00:00</td>\n",
              "      <td>1251.0</td>\n",
              "      <td>CA</td>\n",
              "      <td>HOND</td>\n",
              "      <td>PA</td>\n",
              "      <td>GY</td>\n",
              "      <td>13147 WELBY WAY</td>\n",
              "      <td>01521</td>\n",
              "      <td>...</td>\n",
              "      <td>50.0</td>\n",
              "      <td>12.0</td>\n",
              "      <td>2015</td>\n",
              "      <td>12</td>\n",
              "      <td>2015-12</td>\n",
              "      <td>Monday</td>\n",
              "      <td>WELBY WAY</td>\n",
              "      <td>45303</td>\n",
              "      <td>505</td>\n",
              "      <td>1</td>\n",
              "    </tr>\n",
              "    <tr>\n",
              "      <th>1</th>\n",
              "      <td>1</td>\n",
              "      <td>1103700150</td>\n",
              "      <td>2015-12-21T00:00:00</td>\n",
              "      <td>1435.0</td>\n",
              "      <td>CA</td>\n",
              "      <td>GMC</td>\n",
              "      <td>VN</td>\n",
              "      <td>WH</td>\n",
              "      <td>525 S MAIN ST</td>\n",
              "      <td>1C51</td>\n",
              "      <td>...</td>\n",
              "      <td>50.0</td>\n",
              "      <td>14.0</td>\n",
              "      <td>2015</td>\n",
              "      <td>12</td>\n",
              "      <td>2015-12</td>\n",
              "      <td>Monday</td>\n",
              "      <td>S MAIN ST</td>\n",
              "      <td>36727</td>\n",
              "      <td>425</td>\n",
              "      <td>0</td>\n",
              "    </tr>\n",
              "    <tr>\n",
              "      <th>2</th>\n",
              "      <td>2</td>\n",
              "      <td>1104803000</td>\n",
              "      <td>2015-12-21T00:00:00</td>\n",
              "      <td>2055.0</td>\n",
              "      <td>CA</td>\n",
              "      <td>NISS</td>\n",
              "      <td>PA</td>\n",
              "      <td>BK</td>\n",
              "      <td>200 WORLD WAY</td>\n",
              "      <td>2R2</td>\n",
              "      <td>...</td>\n",
              "      <td>58.0</td>\n",
              "      <td>20.0</td>\n",
              "      <td>2015</td>\n",
              "      <td>12</td>\n",
              "      <td>2015-12</td>\n",
              "      <td>Monday</td>\n",
              "      <td>WORLD WAY</td>\n",
              "      <td>46336</td>\n",
              "      <td>347</td>\n",
              "      <td>0</td>\n",
              "    </tr>\n",
              "    <tr>\n",
              "      <th>3</th>\n",
              "      <td>3</td>\n",
              "      <td>1104820732</td>\n",
              "      <td>2015-12-26T00:00:00</td>\n",
              "      <td>1515.0</td>\n",
              "      <td>CA</td>\n",
              "      <td>ACUR</td>\n",
              "      <td>PA</td>\n",
              "      <td>WH</td>\n",
              "      <td>100 WORLD WAY</td>\n",
              "      <td>2F11</td>\n",
              "      <td>...</td>\n",
              "      <td>NaN</td>\n",
              "      <td>15.0</td>\n",
              "      <td>2015</td>\n",
              "      <td>12</td>\n",
              "      <td>2015-12</td>\n",
              "      <td>Saturday</td>\n",
              "      <td>WORLD WAY</td>\n",
              "      <td>46336</td>\n",
              "      <td>404</td>\n",
              "      <td>0</td>\n",
              "    </tr>\n",
              "    <tr>\n",
              "      <th>4</th>\n",
              "      <td>4</td>\n",
              "      <td>1105461453</td>\n",
              "      <td>2015-09-15T00:00:00</td>\n",
              "      <td>115.0</td>\n",
              "      <td>CA</td>\n",
              "      <td>CHEV</td>\n",
              "      <td>PA</td>\n",
              "      <td>BK</td>\n",
              "      <td>GEORGIA ST OLYMPIC</td>\n",
              "      <td>1FB70</td>\n",
              "      <td>...</td>\n",
              "      <td>93.0</td>\n",
              "      <td>1.0</td>\n",
              "      <td>2015</td>\n",
              "      <td>9</td>\n",
              "      <td>2015-09</td>\n",
              "      <td>Tuesday</td>\n",
              "      <td>GEORGIA ST OLYMPIC</td>\n",
              "      <td>63071</td>\n",
              "      <td>1332</td>\n",
              "      <td>1</td>\n",
              "    </tr>\n",
              "  </tbody>\n",
              "</table>\n",
              "<p>5 rows × 23 columns</p>\n",
              "</div>"
            ],
            "text/plain": [
              "   Unnamed: 0 Ticket number           Issue Date  Issue time RP State Plate  \\\n",
              "0           0    1103341116  2015-12-21T00:00:00      1251.0             CA   \n",
              "1           1    1103700150  2015-12-21T00:00:00      1435.0             CA   \n",
              "2           2    1104803000  2015-12-21T00:00:00      2055.0             CA   \n",
              "3           3    1104820732  2015-12-26T00:00:00      1515.0             CA   \n",
              "4           4    1105461453  2015-09-15T00:00:00       115.0             CA   \n",
              "\n",
              "   Make Body Style Color            Location  Route     ...       Fine amount  \\\n",
              "0  HOND         PA    GY     13147 WELBY WAY  01521     ...              50.0   \n",
              "1   GMC         VN    WH       525 S MAIN ST   1C51     ...              50.0   \n",
              "2  NISS         PA    BK       200 WORLD WAY    2R2     ...              58.0   \n",
              "3  ACUR         PA    WH       100 WORLD WAY   2F11     ...               NaN   \n",
              "4  CHEV         PA    BK  GEORGIA ST OLYMPIC  1FB70     ...              93.0   \n",
              "\n",
              "  Issue_Hour Issue_Year  Issue_Month  Issue_Month_Year  Issue_Weekday  \\\n",
              "0       12.0       2015           12           2015-12         Monday   \n",
              "1       14.0       2015           12           2015-12         Monday   \n",
              "2       20.0       2015           12           2015-12         Monday   \n",
              "3       15.0       2015           12           2015-12       Saturday   \n",
              "4        1.0       2015            9           2015-09        Tuesday   \n",
              "\n",
              "    Modified_Location Modified_Location_Encode Issue_Hour_Loc_Count  \\\n",
              "0           WELBY WAY                    45303                  505   \n",
              "1           S MAIN ST                    36727                  425   \n",
              "2           WORLD WAY                    46336                  347   \n",
              "3           WORLD WAY                    46336                  404   \n",
              "4  GEORGIA ST OLYMPIC                    63071                 1332   \n",
              "\n",
              "  t_risk_level  \n",
              "0            1  \n",
              "1            0  \n",
              "2            0  \n",
              "3            0  \n",
              "4            1  \n",
              "\n",
              "[5 rows x 23 columns]"
            ]
          },
          "metadata": {
            "tags": []
          },
          "execution_count": 4
        }
      ]
    },
    {
      "metadata": {
        "id": "XNlqpK7NrArc",
        "colab_type": "code",
        "outputId": "1238060a-0c45-45d2-bef5-218260b93233",
        "colab": {
          "base_uri": "https://localhost:8080/",
          "height": 35
        }
      },
      "cell_type": "code",
      "source": [
        "df_parking.shape"
      ],
      "execution_count": 5,
      "outputs": [
        {
          "output_type": "execute_result",
          "data": {
            "text/plain": [
              "(6751096, 23)"
            ]
          },
          "metadata": {
            "tags": []
          },
          "execution_count": 5
        }
      ]
    },
    {
      "metadata": {
        "id": "qsk5Mz1erCDO",
        "colab_type": "code",
        "outputId": "b5e5dfd0-7bb2-445a-a5d8-c85da052e8cd",
        "colab": {
          "base_uri": "https://localhost:8080/",
          "height": 432
        }
      },
      "cell_type": "code",
      "source": [
        "df_parking.dtypes"
      ],
      "execution_count": 6,
      "outputs": [
        {
          "output_type": "execute_result",
          "data": {
            "text/plain": [
              "Unnamed: 0                    int64\n",
              "Ticket number                object\n",
              "Issue Date                   object\n",
              "Issue time                  float64\n",
              "RP State Plate               object\n",
              "Make                         object\n",
              "Body Style                   object\n",
              "Color                        object\n",
              "Location                     object\n",
              "Route                        object\n",
              "Agency                      float64\n",
              "Violation code               object\n",
              "Violation Description        object\n",
              "Fine amount                 float64\n",
              "Issue_Hour                  float64\n",
              "Issue_Year                    int64\n",
              "Issue_Month                   int64\n",
              "Issue_Month_Year             object\n",
              "Issue_Weekday                object\n",
              "Modified_Location            object\n",
              "Modified_Location_Encode      int64\n",
              "Issue_Hour_Loc_Count          int64\n",
              "t_risk_level                  int64\n",
              "dtype: object"
            ]
          },
          "metadata": {
            "tags": []
          },
          "execution_count": 6
        }
      ]
    },
    {
      "metadata": {
        "id": "QZ-hKplHq4Kn",
        "colab_type": "code",
        "colab": {}
      },
      "cell_type": "code",
      "source": [
        "#  Remove 'Unnamed: 0' column\n",
        "df_parking.drop('Unnamed: 0', axis=1, inplace=True)"
      ],
      "execution_count": 0,
      "outputs": []
    },
    {
      "metadata": {
        "id": "vOuAYk86rLck",
        "colab_type": "code",
        "outputId": "0f9a78e5-1342-49b2-9b35-f2e82440e090",
        "colab": {
          "base_uri": "https://localhost:8080/",
          "height": 35
        }
      },
      "cell_type": "code",
      "source": [
        "df_parking.shape"
      ],
      "execution_count": 8,
      "outputs": [
        {
          "output_type": "execute_result",
          "data": {
            "text/plain": [
              "(6751096, 22)"
            ]
          },
          "metadata": {
            "tags": []
          },
          "execution_count": 8
        }
      ]
    },
    {
      "metadata": {
        "id": "6-egbaC-rOOV",
        "colab_type": "code",
        "outputId": "8fb46eb2-09b4-4489-fa33-4ca488b1fc7c",
        "colab": {
          "base_uri": "https://localhost:8080/",
          "height": 437
        }
      },
      "cell_type": "code",
      "source": [
        "df_parking.head()"
      ],
      "execution_count": 9,
      "outputs": [
        {
          "output_type": "execute_result",
          "data": {
            "text/html": [
              "<div>\n",
              "<style scoped>\n",
              "    .dataframe tbody tr th:only-of-type {\n",
              "        vertical-align: middle;\n",
              "    }\n",
              "\n",
              "    .dataframe tbody tr th {\n",
              "        vertical-align: top;\n",
              "    }\n",
              "\n",
              "    .dataframe thead th {\n",
              "        text-align: right;\n",
              "    }\n",
              "</style>\n",
              "<table border=\"1\" class=\"dataframe\">\n",
              "  <thead>\n",
              "    <tr style=\"text-align: right;\">\n",
              "      <th></th>\n",
              "      <th>Ticket number</th>\n",
              "      <th>Issue Date</th>\n",
              "      <th>Issue time</th>\n",
              "      <th>RP State Plate</th>\n",
              "      <th>Make</th>\n",
              "      <th>Body Style</th>\n",
              "      <th>Color</th>\n",
              "      <th>Location</th>\n",
              "      <th>Route</th>\n",
              "      <th>Agency</th>\n",
              "      <th>...</th>\n",
              "      <th>Fine amount</th>\n",
              "      <th>Issue_Hour</th>\n",
              "      <th>Issue_Year</th>\n",
              "      <th>Issue_Month</th>\n",
              "      <th>Issue_Month_Year</th>\n",
              "      <th>Issue_Weekday</th>\n",
              "      <th>Modified_Location</th>\n",
              "      <th>Modified_Location_Encode</th>\n",
              "      <th>Issue_Hour_Loc_Count</th>\n",
              "      <th>t_risk_level</th>\n",
              "    </tr>\n",
              "  </thead>\n",
              "  <tbody>\n",
              "    <tr>\n",
              "      <th>0</th>\n",
              "      <td>1103341116</td>\n",
              "      <td>2015-12-21T00:00:00</td>\n",
              "      <td>1251.0</td>\n",
              "      <td>CA</td>\n",
              "      <td>HOND</td>\n",
              "      <td>PA</td>\n",
              "      <td>GY</td>\n",
              "      <td>13147 WELBY WAY</td>\n",
              "      <td>01521</td>\n",
              "      <td>1.0</td>\n",
              "      <td>...</td>\n",
              "      <td>50.0</td>\n",
              "      <td>12.0</td>\n",
              "      <td>2015</td>\n",
              "      <td>12</td>\n",
              "      <td>2015-12</td>\n",
              "      <td>Monday</td>\n",
              "      <td>WELBY WAY</td>\n",
              "      <td>45303</td>\n",
              "      <td>505</td>\n",
              "      <td>1</td>\n",
              "    </tr>\n",
              "    <tr>\n",
              "      <th>1</th>\n",
              "      <td>1103700150</td>\n",
              "      <td>2015-12-21T00:00:00</td>\n",
              "      <td>1435.0</td>\n",
              "      <td>CA</td>\n",
              "      <td>GMC</td>\n",
              "      <td>VN</td>\n",
              "      <td>WH</td>\n",
              "      <td>525 S MAIN ST</td>\n",
              "      <td>1C51</td>\n",
              "      <td>1.0</td>\n",
              "      <td>...</td>\n",
              "      <td>50.0</td>\n",
              "      <td>14.0</td>\n",
              "      <td>2015</td>\n",
              "      <td>12</td>\n",
              "      <td>2015-12</td>\n",
              "      <td>Monday</td>\n",
              "      <td>S MAIN ST</td>\n",
              "      <td>36727</td>\n",
              "      <td>425</td>\n",
              "      <td>0</td>\n",
              "    </tr>\n",
              "    <tr>\n",
              "      <th>2</th>\n",
              "      <td>1104803000</td>\n",
              "      <td>2015-12-21T00:00:00</td>\n",
              "      <td>2055.0</td>\n",
              "      <td>CA</td>\n",
              "      <td>NISS</td>\n",
              "      <td>PA</td>\n",
              "      <td>BK</td>\n",
              "      <td>200 WORLD WAY</td>\n",
              "      <td>2R2</td>\n",
              "      <td>2.0</td>\n",
              "      <td>...</td>\n",
              "      <td>58.0</td>\n",
              "      <td>20.0</td>\n",
              "      <td>2015</td>\n",
              "      <td>12</td>\n",
              "      <td>2015-12</td>\n",
              "      <td>Monday</td>\n",
              "      <td>WORLD WAY</td>\n",
              "      <td>46336</td>\n",
              "      <td>347</td>\n",
              "      <td>0</td>\n",
              "    </tr>\n",
              "    <tr>\n",
              "      <th>3</th>\n",
              "      <td>1104820732</td>\n",
              "      <td>2015-12-26T00:00:00</td>\n",
              "      <td>1515.0</td>\n",
              "      <td>CA</td>\n",
              "      <td>ACUR</td>\n",
              "      <td>PA</td>\n",
              "      <td>WH</td>\n",
              "      <td>100 WORLD WAY</td>\n",
              "      <td>2F11</td>\n",
              "      <td>2.0</td>\n",
              "      <td>...</td>\n",
              "      <td>NaN</td>\n",
              "      <td>15.0</td>\n",
              "      <td>2015</td>\n",
              "      <td>12</td>\n",
              "      <td>2015-12</td>\n",
              "      <td>Saturday</td>\n",
              "      <td>WORLD WAY</td>\n",
              "      <td>46336</td>\n",
              "      <td>404</td>\n",
              "      <td>0</td>\n",
              "    </tr>\n",
              "    <tr>\n",
              "      <th>4</th>\n",
              "      <td>1105461453</td>\n",
              "      <td>2015-09-15T00:00:00</td>\n",
              "      <td>115.0</td>\n",
              "      <td>CA</td>\n",
              "      <td>CHEV</td>\n",
              "      <td>PA</td>\n",
              "      <td>BK</td>\n",
              "      <td>GEORGIA ST OLYMPIC</td>\n",
              "      <td>1FB70</td>\n",
              "      <td>1.0</td>\n",
              "      <td>...</td>\n",
              "      <td>93.0</td>\n",
              "      <td>1.0</td>\n",
              "      <td>2015</td>\n",
              "      <td>9</td>\n",
              "      <td>2015-09</td>\n",
              "      <td>Tuesday</td>\n",
              "      <td>GEORGIA ST OLYMPIC</td>\n",
              "      <td>63071</td>\n",
              "      <td>1332</td>\n",
              "      <td>1</td>\n",
              "    </tr>\n",
              "  </tbody>\n",
              "</table>\n",
              "<p>5 rows × 22 columns</p>\n",
              "</div>"
            ],
            "text/plain": [
              "  Ticket number           Issue Date  Issue time RP State Plate  Make  \\\n",
              "0    1103341116  2015-12-21T00:00:00      1251.0             CA  HOND   \n",
              "1    1103700150  2015-12-21T00:00:00      1435.0             CA   GMC   \n",
              "2    1104803000  2015-12-21T00:00:00      2055.0             CA  NISS   \n",
              "3    1104820732  2015-12-26T00:00:00      1515.0             CA  ACUR   \n",
              "4    1105461453  2015-09-15T00:00:00       115.0             CA  CHEV   \n",
              "\n",
              "  Body Style Color            Location  Route  Agency      ...       \\\n",
              "0         PA    GY     13147 WELBY WAY  01521     1.0      ...        \n",
              "1         VN    WH       525 S MAIN ST   1C51     1.0      ...        \n",
              "2         PA    BK       200 WORLD WAY    2R2     2.0      ...        \n",
              "3         PA    WH       100 WORLD WAY   2F11     2.0      ...        \n",
              "4         PA    BK  GEORGIA ST OLYMPIC  1FB70     1.0      ...        \n",
              "\n",
              "  Fine amount Issue_Hour  Issue_Year  Issue_Month  Issue_Month_Year  \\\n",
              "0        50.0       12.0        2015           12           2015-12   \n",
              "1        50.0       14.0        2015           12           2015-12   \n",
              "2        58.0       20.0        2015           12           2015-12   \n",
              "3         NaN       15.0        2015           12           2015-12   \n",
              "4        93.0        1.0        2015            9           2015-09   \n",
              "\n",
              "   Issue_Weekday   Modified_Location Modified_Location_Encode  \\\n",
              "0         Monday           WELBY WAY                    45303   \n",
              "1         Monday           S MAIN ST                    36727   \n",
              "2         Monday           WORLD WAY                    46336   \n",
              "3       Saturday           WORLD WAY                    46336   \n",
              "4        Tuesday  GEORGIA ST OLYMPIC                    63071   \n",
              "\n",
              "  Issue_Hour_Loc_Count  t_risk_level  \n",
              "0                  505             1  \n",
              "1                  425             0  \n",
              "2                  347             0  \n",
              "3                  404             0  \n",
              "4                 1332             1  \n",
              "\n",
              "[5 rows x 22 columns]"
            ]
          },
          "metadata": {
            "tags": []
          },
          "execution_count": 9
        }
      ]
    },
    {
      "metadata": {
        "id": "kEbyPPtPEPrV",
        "colab_type": "code",
        "colab": {
          "base_uri": "https://localhost:8080/",
          "height": 415
        },
        "outputId": "986ab1fd-684a-46c5-a7fb-faec35663ee3"
      },
      "cell_type": "code",
      "source": [
        "df_parking.isnull().sum()"
      ],
      "execution_count": 10,
      "outputs": [
        {
          "output_type": "execute_result",
          "data": {
            "text/plain": [
              "Ticket number                   0\n",
              "Issue Date                      0\n",
              "Issue time                      0\n",
              "RP State Plate                  0\n",
              "Make                         6360\n",
              "Body Style                   5998\n",
              "Color                        2630\n",
              "Location                        0\n",
              "Route                       51683\n",
              "Agency                          8\n",
              "Violation code                  0\n",
              "Violation Description           0\n",
              "Fine amount                  4627\n",
              "Issue_Hour                      0\n",
              "Issue_Year                      0\n",
              "Issue_Month                     0\n",
              "Issue_Month_Year                0\n",
              "Issue_Weekday                   0\n",
              "Modified_Location              54\n",
              "Modified_Location_Encode        0\n",
              "Issue_Hour_Loc_Count            0\n",
              "t_risk_level                    0\n",
              "dtype: int64"
            ]
          },
          "metadata": {
            "tags": []
          },
          "execution_count": 10
        }
      ]
    },
    {
      "metadata": {
        "id": "g9zc6727EUTA",
        "colab_type": "code",
        "colab": {
          "base_uri": "https://localhost:8080/",
          "height": 415
        },
        "outputId": "ee364306-2462-4cae-9812-7cb185a25f38"
      },
      "cell_type": "code",
      "source": [
        "df_parking = df_parking.dropna(subset=['Modified_Location'], how='any')\n",
        "df_parking.isnull().sum()"
      ],
      "execution_count": 11,
      "outputs": [
        {
          "output_type": "execute_result",
          "data": {
            "text/plain": [
              "Ticket number                   0\n",
              "Issue Date                      0\n",
              "Issue time                      0\n",
              "RP State Plate                  0\n",
              "Make                         6359\n",
              "Body Style                   5996\n",
              "Color                        2629\n",
              "Location                        0\n",
              "Route                       51675\n",
              "Agency                          8\n",
              "Violation code                  0\n",
              "Violation Description           0\n",
              "Fine amount                  4625\n",
              "Issue_Hour                      0\n",
              "Issue_Year                      0\n",
              "Issue_Month                     0\n",
              "Issue_Month_Year                0\n",
              "Issue_Weekday                   0\n",
              "Modified_Location               0\n",
              "Modified_Location_Encode        0\n",
              "Issue_Hour_Loc_Count            0\n",
              "t_risk_level                    0\n",
              "dtype: int64"
            ]
          },
          "metadata": {
            "tags": []
          },
          "execution_count": 11
        }
      ]
    },
    {
      "metadata": {
        "id": "u9-KoV7uEY0V",
        "colab_type": "code",
        "colab": {}
      },
      "cell_type": "code",
      "source": [
        "df_parking.Modified_Location = df_parking.Modified_Location.str.strip()"
      ],
      "execution_count": 0,
      "outputs": []
    },
    {
      "metadata": {
        "id": "fUmED-0sSUNL",
        "colab_type": "text"
      },
      "cell_type": "markdown",
      "source": [
        "#  Confusion Matrix"
      ]
    },
    {
      "metadata": {
        "id": "k0UbIWjlSWKq",
        "colab_type": "code",
        "colab": {}
      },
      "cell_type": "code",
      "source": [
        "def CMatrix(CM, labels=['No Citation', 'Citation']):\n",
        "  df = pd.DataFrame(data=CM, index=labels, columns=labels)\n",
        "  df.index.name='TRUE'\n",
        "  df.columns.name='PREDICTION'\n",
        "  df.loc['Total']=df.sum()\n",
        "  df['Total']=df.sum(axis=1)\n",
        "  return df"
      ],
      "execution_count": 0,
      "outputs": []
    },
    {
      "metadata": {
        "id": "3W4sClBdSyfj",
        "colab_type": "code",
        "colab": {}
      },
      "cell_type": "code",
      "source": [
        "#  Evaluation metrics' dataframe\n",
        "metrics = pd.DataFrame(index=['accuracy', 'precision', 'recall'],\n",
        "                      columns=['NULL', 'LogisticReg', 'ClassTree', 'NaiveBayes'])"
      ],
      "execution_count": 0,
      "outputs": []
    },
    {
      "metadata": {
        "id": "1jZHxswTrX7r",
        "colab_type": "code",
        "colab": {}
      },
      "cell_type": "code",
      "source": [
        "#  Define X and y\n",
        "feature_col = ['Issue_Hour', 'Modified_Location_Encode']\n",
        "X = df_parking[feature_col]\n",
        "y = df_parking.t_risk_level"
      ],
      "execution_count": 0,
      "outputs": []
    },
    {
      "metadata": {
        "id": "YBYWwWFerrQo",
        "colab_type": "code",
        "colab": {}
      },
      "cell_type": "code",
      "source": [
        "#  Split into training / testing sets\n",
        "from sklearn.model_selection import train_test_split\n",
        "X_train, X_test, y_train, y_test = train_test_split(X, y, test_size=0.2, random_state=42)"
      ],
      "execution_count": 0,
      "outputs": []
    },
    {
      "metadata": {
        "id": "Yaeda_qlmmV6",
        "colab_type": "code",
        "outputId": "3038f416-3d4f-42d7-f330-c3edc3eaa5e9",
        "colab": {
          "base_uri": "https://localhost:8080/",
          "height": 168
        }
      },
      "cell_type": "code",
      "source": [
        "y_pred_test = np.repeat(y_train.value_counts().idxmax(), y_test.size)\n",
        "metrics.loc['accuracy','NULL']=accuracy_score(y_pred=y_pred_test, y_true=y_test)\n",
        "metrics.loc['precision', 'NULL']=precision_score(y_pred=y_pred_test, y_true=y_test, average='micro')\n",
        "metrics.loc['recall', 'NULL']=recall_score(y_pred=y_pred_test, y_true=y_test, average='micro')\n",
        "\n",
        "CM=confusion_matrix(y_pred=y_pred_test, y_true=y_test)\n",
        "CMatrix(CM)"
      ],
      "execution_count": 17,
      "outputs": [
        {
          "output_type": "execute_result",
          "data": {
            "text/html": [
              "<div>\n",
              "<style scoped>\n",
              "    .dataframe tbody tr th:only-of-type {\n",
              "        vertical-align: middle;\n",
              "    }\n",
              "\n",
              "    .dataframe tbody tr th {\n",
              "        vertical-align: top;\n",
              "    }\n",
              "\n",
              "    .dataframe thead th {\n",
              "        text-align: right;\n",
              "    }\n",
              "</style>\n",
              "<table border=\"1\" class=\"dataframe\">\n",
              "  <thead>\n",
              "    <tr style=\"text-align: right;\">\n",
              "      <th>PREDICTION</th>\n",
              "      <th>No Citation</th>\n",
              "      <th>Citation</th>\n",
              "      <th>Total</th>\n",
              "    </tr>\n",
              "    <tr>\n",
              "      <th>TRUE</th>\n",
              "      <th></th>\n",
              "      <th></th>\n",
              "      <th></th>\n",
              "    </tr>\n",
              "  </thead>\n",
              "  <tbody>\n",
              "    <tr>\n",
              "      <th>No Citation</th>\n",
              "      <td>0</td>\n",
              "      <td>506939</td>\n",
              "      <td>506939</td>\n",
              "    </tr>\n",
              "    <tr>\n",
              "      <th>Citation</th>\n",
              "      <td>0</td>\n",
              "      <td>843270</td>\n",
              "      <td>843270</td>\n",
              "    </tr>\n",
              "    <tr>\n",
              "      <th>Total</th>\n",
              "      <td>0</td>\n",
              "      <td>1350209</td>\n",
              "      <td>1350209</td>\n",
              "    </tr>\n",
              "  </tbody>\n",
              "</table>\n",
              "</div>"
            ],
            "text/plain": [
              "PREDICTION   No Citation  Citation    Total\n",
              "TRUE                                       \n",
              "No Citation            0    506939   506939\n",
              "Citation               0    843270   843270\n",
              "Total                  0   1350209  1350209"
            ]
          },
          "metadata": {
            "tags": []
          },
          "execution_count": 17
        }
      ]
    },
    {
      "metadata": {
        "id": "NuipEy8LS9wU",
        "colab_type": "text"
      },
      "cell_type": "markdown",
      "source": [
        "**Key**\n",
        "*  Accuracy = Overall probability of model's prediction accuracy\n",
        "*  Precision = When 'Citation' is predicted, what is the probability that this is correct?\n",
        "* Recall = The probability of actual citation"
      ]
    },
    {
      "metadata": {
        "id": "4HbKEeBlrP5b",
        "colab_type": "text"
      },
      "cell_type": "markdown",
      "source": [
        "#  ML Algorithm 1:  Logistic Regression"
      ]
    },
    {
      "metadata": {
        "id": "JJtRWsNsrzkm",
        "colab_type": "code",
        "outputId": "6a74a3af-e9dd-4f49-e165-3f12d1cf9558",
        "colab": {
          "base_uri": "https://localhost:8080/",
          "height": 86
        }
      },
      "cell_type": "code",
      "source": [
        "# Train a logistic regression model on the training set\n",
        "from sklearn.linear_model import LogisticRegression\n",
        "logreg = LogisticRegression()\n",
        "logreg.fit(X_train, y_train)"
      ],
      "execution_count": 18,
      "outputs": [
        {
          "output_type": "execute_result",
          "data": {
            "text/plain": [
              "LogisticRegression(C=1.0, class_weight=None, dual=False, fit_intercept=True,\n",
              "          intercept_scaling=1, max_iter=100, multi_class='ovr', n_jobs=1,\n",
              "          penalty='l2', random_state=None, solver='liblinear', tol=0.0001,\n",
              "          verbose=0, warm_start=False)"
            ]
          },
          "metadata": {
            "tags": []
          },
          "execution_count": 18
        }
      ]
    },
    {
      "metadata": {
        "id": "chu7Riizr9md",
        "colab_type": "code",
        "colab": {}
      },
      "cell_type": "code",
      "source": [
        "# Create prediction class for the testing set\n",
        "y_pred_class = logreg.predict(X_test)"
      ],
      "execution_count": 0,
      "outputs": []
    },
    {
      "metadata": {
        "id": "J4eFqdBkrydI",
        "colab_type": "text"
      },
      "cell_type": "markdown",
      "source": [
        "#  Logistic Regression:  Accuracy Assessment"
      ]
    },
    {
      "metadata": {
        "id": "lEk-N1ONsS0y",
        "colab_type": "text"
      },
      "cell_type": "markdown",
      "source": [
        "** Classificiation accuracy: **\n",
        "Percentage of correct predictions"
      ]
    },
    {
      "metadata": {
        "id": "fP82r21usb48",
        "colab_type": "code",
        "colab": {}
      },
      "cell_type": "code",
      "source": [
        "# calculate accuracy\n",
        "from sklearn import metrics\n",
        "#print(metrics.accuracy_score(y_test, y_pred_class))"
      ],
      "execution_count": 0,
      "outputs": []
    },
    {
      "metadata": {
        "id": "4zIXnkvdsoyF",
        "colab_type": "code",
        "colab": {}
      },
      "cell_type": "code",
      "source": [
        "#  examine the class distribution of the testing set\n",
        "#y_test.value_counts()"
      ],
      "execution_count": 0,
      "outputs": []
    },
    {
      "metadata": {
        "id": "pXe1PnsAsqf-",
        "colab_type": "code",
        "colab": {}
      },
      "cell_type": "code",
      "source": [
        "#  calculate the percentage of 1s -->  we can just use mean because we only have two values\n",
        "#y_test.mean()"
      ],
      "execution_count": 0,
      "outputs": []
    },
    {
      "metadata": {
        "id": "aF02zNo7snaG",
        "colab_type": "code",
        "colab": {}
      },
      "cell_type": "code",
      "source": [
        "# calculate the percentage of 0s\n",
        "#1 - y_test.mean()"
      ],
      "execution_count": 0,
      "outputs": []
    },
    {
      "metadata": {
        "id": "G35n99QNtD4r",
        "colab_type": "code",
        "colab": {}
      },
      "cell_type": "code",
      "source": [
        "# calculate null accuracy (for binary classification problems coded as 0/1)\n",
        "#max(y_test.mean(), 1 - y_test.mean())"
      ],
      "execution_count": 0,
      "outputs": []
    },
    {
      "metadata": {
        "id": "Kmi9sKjAtHfi",
        "colab_type": "code",
        "colab": {}
      },
      "cell_type": "code",
      "source": [
        "# print the first 25 true and predicted responses\n",
        "#print('True:', y_test.values[0:25])\n",
        "#print('Pred:', y_pred_class[0:25])"
      ],
      "execution_count": 0,
      "outputs": []
    },
    {
      "metadata": {
        "id": "wGPleIlNxz8D",
        "colab_type": "text"
      },
      "cell_type": "markdown",
      "source": [
        "#  Confusion Matrix"
      ]
    },
    {
      "metadata": {
        "id": "Wvrh8RxJtOHS",
        "colab_type": "code",
        "colab": {}
      },
      "cell_type": "code",
      "source": [
        "# save confusion matrix and slice into four pieces\n",
        "confusion = metrics.confusion_matrix(y_test, y_pred_class)\n",
        "TP = confusion[1, 1]\n",
        "TN = confusion[0, 0]\n",
        "FP = confusion[0, 1]\n",
        "FN = confusion[1, 0]"
      ],
      "execution_count": 0,
      "outputs": []
    },
    {
      "metadata": {
        "id": "Swcb-DLdtJ35",
        "colab_type": "text"
      },
      "cell_type": "markdown",
      "source": [
        "**  Metric 1:  ** \n",
        "Classification Accuracy"
      ]
    },
    {
      "metadata": {
        "id": "ZV1EQFvfx7mX",
        "colab_type": "code",
        "colab": {}
      },
      "cell_type": "code",
      "source": [
        "#print((TP + TN) / float(TP + TN + FP + FN))\n",
        "#print(metrics.accuracy_score(y_test, y_pred_class))"
      ],
      "execution_count": 0,
      "outputs": []
    },
    {
      "metadata": {
        "id": "_Bk3YEBax9pP",
        "colab_type": "text"
      },
      "cell_type": "markdown",
      "source": [
        "** Metric 2:  **\n",
        "Classification Error"
      ]
    },
    {
      "metadata": {
        "id": "52fyCcmQsNzS",
        "colab_type": "code",
        "colab": {}
      },
      "cell_type": "code",
      "source": [
        "#print((FP + FN) / float(TP + TN + FP + FN))\n",
        "#print(1 - metrics.accuracy_score(y_test, y_pred_class))"
      ],
      "execution_count": 0,
      "outputs": []
    },
    {
      "metadata": {
        "id": "IgoAmxCPyH6R",
        "colab_type": "text"
      },
      "cell_type": "markdown",
      "source": [
        "** Metric 3: ** \n",
        "Sensitivity"
      ]
    },
    {
      "metadata": {
        "id": "8R7chPYUyME_",
        "colab_type": "code",
        "colab": {}
      },
      "cell_type": "code",
      "source": [
        "#print(TP / float(TP + FN))\n",
        "#print(metrics.recall_score(y_test, y_pred_class))"
      ],
      "execution_count": 0,
      "outputs": []
    },
    {
      "metadata": {
        "id": "Qbq_N97dyO7G",
        "colab_type": "text"
      },
      "cell_type": "markdown",
      "source": [
        "** Metric 4: **\n",
        "Specificity"
      ]
    },
    {
      "metadata": {
        "id": "wXUGqtnMyS7M",
        "colab_type": "code",
        "colab": {}
      },
      "cell_type": "code",
      "source": [
        "#print(TN / float(TN + FP))"
      ],
      "execution_count": 0,
      "outputs": []
    },
    {
      "metadata": {
        "id": "SbiP9l_vyVCM",
        "colab_type": "text"
      },
      "cell_type": "markdown",
      "source": [
        "**  Metric 5:**\n",
        "False Positive Rate\n"
      ]
    },
    {
      "metadata": {
        "id": "3gxps58WybsK",
        "colab_type": "code",
        "colab": {}
      },
      "cell_type": "code",
      "source": [
        "#print(FP / float(TN + FP))"
      ],
      "execution_count": 0,
      "outputs": []
    },
    {
      "metadata": {
        "id": "yR9a5Bxlyd8j",
        "colab_type": "text"
      },
      "cell_type": "markdown",
      "source": [
        "** Metric 6: **\n",
        "Precision"
      ]
    },
    {
      "metadata": {
        "id": "223xT6a3yiEi",
        "colab_type": "code",
        "colab": {}
      },
      "cell_type": "code",
      "source": [
        "#print(TP / float(TP + FP))\n",
        "#print(metrics.precision_score(y_test, y_pred_class))"
      ],
      "execution_count": 0,
      "outputs": []
    },
    {
      "metadata": {
        "id": "5bh4PWwqyj_b",
        "colab_type": "text"
      },
      "cell_type": "markdown",
      "source": [
        "#  Logistic Regression:  ROC Curve"
      ]
    },
    {
      "metadata": {
        "id": "tnyoBCmKLqFP",
        "colab_type": "code",
        "outputId": "200ddd73-8578-4c7d-ab88-1edd7b59b1ee",
        "colab": {
          "base_uri": "https://localhost:8080/",
          "height": 35
        }
      },
      "cell_type": "code",
      "source": [
        "# print the first 10 predicted responses\n",
        "logreg.predict(X_test)[0:10]"
      ],
      "execution_count": 33,
      "outputs": [
        {
          "output_type": "execute_result",
          "data": {
            "text/plain": [
              "array([0, 1, 1, 1, 0, 0, 0, 0, 1, 1])"
            ]
          },
          "metadata": {
            "tags": []
          },
          "execution_count": 33
        }
      ]
    },
    {
      "metadata": {
        "id": "s0pL_HcRL--v",
        "colab_type": "code",
        "outputId": "de4e8d3c-54c5-4457-cf97-cfe489ebf3dc",
        "colab": {
          "base_uri": "https://localhost:8080/",
          "height": 190
        }
      },
      "cell_type": "code",
      "source": [
        "# print the first 10 predicted probabilities of class membership\n",
        "logreg.predict_proba(X_test)[0:10, :]"
      ],
      "execution_count": 34,
      "outputs": [
        {
          "output_type": "execute_result",
          "data": {
            "text/plain": [
              "array([[0.56479843, 0.43520157],\n",
              "       [0.13330002, 0.86669998],\n",
              "       [0.42884433, 0.57115567],\n",
              "       [0.03276319, 0.96723681],\n",
              "       [0.70239802, 0.29760198],\n",
              "       [0.77823093, 0.22176907],\n",
              "       [0.60502234, 0.39497766],\n",
              "       [0.52334485, 0.47665515],\n",
              "       [0.20693382, 0.79306618],\n",
              "       [0.41029955, 0.58970045]])"
            ]
          },
          "metadata": {
            "tags": []
          },
          "execution_count": 34
        }
      ]
    },
    {
      "metadata": {
        "id": "G0Rx6W8gMA_9",
        "colab_type": "code",
        "outputId": "15ea4edf-d8dc-4462-aa4d-cd10d2b57ec0",
        "colab": {
          "base_uri": "https://localhost:8080/",
          "height": 52
        }
      },
      "cell_type": "code",
      "source": [
        "# print the first 10 predicted probabilities for class 1\n",
        "logreg.predict_proba(X_test)[0:10, 1]"
      ],
      "execution_count": 35,
      "outputs": [
        {
          "output_type": "execute_result",
          "data": {
            "text/plain": [
              "array([0.43520157, 0.86669998, 0.57115567, 0.96723681, 0.29760198,\n",
              "       0.22176907, 0.39497766, 0.47665515, 0.79306618, 0.58970045])"
            ]
          },
          "metadata": {
            "tags": []
          },
          "execution_count": 35
        }
      ]
    },
    {
      "metadata": {
        "id": "ys0vBvj3MD3H",
        "colab_type": "code",
        "colab": {}
      },
      "cell_type": "code",
      "source": [
        "# store the predicted probabilities for class 1\n",
        "y_pred_prob = logreg.predict_proba(X_test)[:, 1]"
      ],
      "execution_count": 0,
      "outputs": []
    },
    {
      "metadata": {
        "id": "CvSTi9MxMGRV",
        "colab_type": "code",
        "colab": {}
      },
      "cell_type": "code",
      "source": [
        "# plot predicted probabilities\n",
        "%matplotlib inline\n",
        "import matplotlib.pyplot as plt"
      ],
      "execution_count": 0,
      "outputs": []
    },
    {
      "metadata": {
        "id": "Yz_ub8xVMMSe",
        "colab_type": "code",
        "outputId": "68c4fdbe-2f97-441d-b4e6-a6e48ba109ad",
        "colab": {
          "base_uri": "https://localhost:8080/",
          "height": 312
        }
      },
      "cell_type": "code",
      "source": [
        "# histogram of predicted probabilities\n",
        "plt.hist(y_pred_prob, bins=8)\n",
        "plt.xlim(0, 1)\n",
        "plt.title('Histogram of predicted probabilities')\n",
        "plt.xlabel('Predicted probability of high risk citation areas')\n",
        "plt.ylabel('Frequency')"
      ],
      "execution_count": 38,
      "outputs": [
        {
          "output_type": "execute_result",
          "data": {
            "text/plain": [
              "Text(0,0.5,'Frequency')"
            ]
          },
          "metadata": {
            "tags": []
          },
          "execution_count": 38
        },
        {
          "output_type": "display_data",
          "data": {
            "image/png": "[encoded data removed]",
            "text/plain": [
              "<matplotlib.figure.Figure at 0x7faf4eaccb38>"
            ]
          },
          "metadata": {
            "tags": []
          }
        }
      ]
    },
    {
      "metadata": {
        "id": "HcQoMJwGMUNl",
        "colab_type": "text"
      },
      "cell_type": "markdown",
      "source": [
        "**Conclusion from the histogram **\n",
        "\n",
        "Large number of probability are < 0.5 classification threshold.  Solution:  Adjust the classifer to 0.4 so the classifier is more sensitive to postive instances."
      ]
    },
    {
      "metadata": {
        "id": "l7FMj0YINDth",
        "colab_type": "code",
        "colab": {}
      },
      "cell_type": "code",
      "source": [
        "#  Lower threshold to 0.4\n",
        "from sklearn.preprocessing import binarize\n",
        "y_pred_class = binarize([y_pred_prob], 0.4)[0]"
      ],
      "execution_count": 0,
      "outputs": []
    },
    {
      "metadata": {
        "id": "l-PESDHrNLDx",
        "colab_type": "code",
        "outputId": "ecb2e5be-5736-4547-f6c1-15160b1fe8ab",
        "colab": {
          "base_uri": "https://localhost:8080/",
          "height": 52
        }
      },
      "cell_type": "code",
      "source": [
        "# print the first 10 predicted probabilities\n",
        "y_pred_prob[0:10]"
      ],
      "execution_count": 40,
      "outputs": [
        {
          "output_type": "execute_result",
          "data": {
            "text/plain": [
              "array([0.43520157, 0.86669998, 0.57115567, 0.96723681, 0.29760198,\n",
              "       0.22176907, 0.39497766, 0.47665515, 0.79306618, 0.58970045])"
            ]
          },
          "metadata": {
            "tags": []
          },
          "execution_count": 40
        }
      ]
    },
    {
      "metadata": {
        "id": "zbPk2e9UNM7n",
        "colab_type": "code",
        "outputId": "55b05bab-5239-401a-aa99-9e111a68c35f",
        "colab": {
          "base_uri": "https://localhost:8080/",
          "height": 35
        }
      },
      "cell_type": "code",
      "source": [
        "# print the first 10 predicted classes with the lower threshold\n",
        "y_pred_class[0:10]"
      ],
      "execution_count": 41,
      "outputs": [
        {
          "output_type": "execute_result",
          "data": {
            "text/plain": [
              "array([1., 1., 1., 1., 0., 0., 0., 1., 1., 1.])"
            ]
          },
          "metadata": {
            "tags": []
          },
          "execution_count": 41
        }
      ]
    },
    {
      "metadata": {
        "id": "DSmX7kybNOvN",
        "colab_type": "code",
        "outputId": "8ca8d526-f267-4b26-fe68-bc133c6bbee2",
        "colab": {
          "base_uri": "https://localhost:8080/",
          "height": 52
        }
      },
      "cell_type": "code",
      "source": [
        "# previous confusion matrix (default threshold of 0.5)\n",
        "print(confusion)"
      ],
      "execution_count": 42,
      "outputs": [
        {
          "output_type": "stream",
          "text": [
            "[[361361 145578]\n",
            " [252390 590880]]\n"
          ],
          "name": "stdout"
        }
      ]
    },
    {
      "metadata": {
        "id": "A7_0ehajNRdm",
        "colab_type": "code",
        "outputId": "04401fce-b8c0-46c6-d15e-87e93164e280",
        "colab": {
          "base_uri": "https://localhost:8080/",
          "height": 52
        }
      },
      "cell_type": "code",
      "source": [
        "# new confusion matrix (threshold of 0.4)\n",
        "print(metrics.confusion_matrix(y_test, y_pred_class))"
      ],
      "execution_count": 43,
      "outputs": [
        {
          "output_type": "stream",
          "text": [
            "[[295165 211774]\n",
            " [137501 705769]]\n"
          ],
          "name": "stdout"
        }
      ]
    },
    {
      "metadata": {
        "id": "da5FTib8NTq3",
        "colab_type": "code",
        "outputId": "8781bfa5-091c-445b-b7bc-1a5b9ff8b93f",
        "colab": {
          "base_uri": "https://localhost:8080/",
          "height": 35
        }
      },
      "cell_type": "code",
      "source": [
        "# sensitivity has increased (used to be 0.70)\n",
        "print(706374 / float(706374 + 137263))"
      ],
      "execution_count": 44,
      "outputs": [
        {
          "output_type": "stream",
          "text": [
            "0.8372961356602425\n"
          ],
          "name": "stdout"
        }
      ]
    },
    {
      "metadata": {
        "id": "AAXVs3NnNrtr",
        "colab_type": "code",
        "outputId": "5be609be-aedb-4e92-f459-b0d4d4676d95",
        "colab": {
          "base_uri": "https://localhost:8080/",
          "height": 35
        }
      },
      "cell_type": "code",
      "source": [
        "# specificity has decreased (used to be 0.80)\n",
        "print(293610 / float(293610 + 212973))"
      ],
      "execution_count": 45,
      "outputs": [
        {
          "output_type": "stream",
          "text": [
            "0.57958912952073\n"
          ],
          "name": "stdout"
        }
      ]
    },
    {
      "metadata": {
        "id": "jZWrNBh-zHdO",
        "colab_type": "code",
        "outputId": "a83532ee-83a6-427a-ca39-bbb47ad7d0b5",
        "colab": {
          "base_uri": "https://localhost:8080/",
          "height": 295
        }
      },
      "cell_type": "code",
      "source": [
        "fpr, tpr, thresholds = metrics.roc_curve(y_test, y_pred_prob)\n",
        "plt.plot(fpr, tpr)\n",
        "plt.xlim([0.0, 1.0])\n",
        "plt.ylim([0.0, 1.0])\n",
        "plt.title('ROC curve for citation classifier')\n",
        "plt.xlabel('False Positive Rate (1 - Specificity)')\n",
        "plt.ylabel('True Positive Rate (Sensitivity)')\n",
        "plt.grid(True)"
      ],
      "execution_count": 46,
      "outputs": [
        {
          "output_type": "display_data",
          "data": {
            "image/png": "[encoded data removed]",
            "text/plain": [
              "<matplotlib.figure.Figure at 0x7fafc2db2940>"
            ]
          },
          "metadata": {
            "tags": []
          }
        }
      ]
    },
    {
      "metadata": {
        "id": "YzFwRT7Uro-B",
        "colab_type": "code",
        "colab": {}
      },
      "cell_type": "code",
      "source": [
        "# define a function that accepts a threshold and prints sensitivity and specificity\n",
        "def evaluate_threshold(threshold):\n",
        "    print('Sensitivity:', tpr[thresholds > threshold][-1])\n",
        "    print('Specificity:', 1 - fpr[thresholds > threshold][-1])"
      ],
      "execution_count": 0,
      "outputs": []
    },
    {
      "metadata": {
        "id": "duuVDiI8OLI5",
        "colab_type": "code",
        "outputId": "4c95aeac-9433-4abc-957a-e3ba4a8cb3cb",
        "colab": {
          "base_uri": "https://localhost:8080/",
          "height": 52
        }
      },
      "cell_type": "code",
      "source": [
        "evaluate_threshold(0.5)"
      ],
      "execution_count": 48,
      "outputs": [
        {
          "output_type": "stream",
          "text": [
            "Sensitivity: 0.7007008431463232\n",
            "Specificity: 0.7128293542221056\n"
          ],
          "name": "stdout"
        }
      ]
    },
    {
      "metadata": {
        "id": "fUkfmZPuOM0j",
        "colab_type": "code",
        "outputId": "eb89e0fc-4caa-4e12-e0ab-fbf5b4fd29b3",
        "colab": {
          "base_uri": "https://localhost:8080/",
          "height": 52
        }
      },
      "cell_type": "code",
      "source": [
        "evaluate_threshold(0.3)"
      ],
      "execution_count": 49,
      "outputs": [
        {
          "output_type": "stream",
          "text": [
            "Sensitivity: 0.9245710152145813\n",
            "Specificity: 0.4469314848532072\n"
          ],
          "name": "stdout"
        }
      ]
    },
    {
      "metadata": {
        "id": "1XrY6TFGOOjw",
        "colab_type": "code",
        "outputId": "37eacfba-5ccf-410b-ef14-e8d6993fc4ad",
        "colab": {
          "base_uri": "https://localhost:8080/",
          "height": 52
        }
      },
      "cell_type": "code",
      "source": [
        "evaluate_threshold(0.7)"
      ],
      "execution_count": 50,
      "outputs": [
        {
          "output_type": "stream",
          "text": [
            "Sensitivity: 0.42949944857518946\n",
            "Specificity: 0.9161516474368712\n"
          ],
          "name": "stdout"
        }
      ]
    },
    {
      "metadata": {
        "id": "z20JDhguOQew",
        "colab_type": "code",
        "outputId": "fb769aef-40c8-4d94-d33f-d8fb4a34fa83",
        "colab": {
          "base_uri": "https://localhost:8080/",
          "height": 35
        }
      },
      "cell_type": "code",
      "source": [
        "# calculate cross-validated AUC\n",
        "from sklearn.model_selection import cross_val_score\n",
        "cross_val_score(logreg, X, y, cv=10, scoring='roc_auc').mean()"
      ],
      "execution_count": 51,
      "outputs": [
        {
          "output_type": "execute_result",
          "data": {
            "text/plain": [
              "0.7980532042739445"
            ]
          },
          "metadata": {
            "tags": []
          },
          "execution_count": 51
        }
      ]
    },
    {
      "metadata": {
        "id": "Ic2yU8y-eZX2",
        "colab_type": "text"
      },
      "cell_type": "markdown",
      "source": [
        "**  Evaluate Logistic Regression Model **"
      ]
    },
    {
      "metadata": {
        "id": "ciOkUmZPqGsL",
        "colab_type": "code",
        "colab": {}
      },
      "cell_type": "code",
      "source": [
        "metrics = pd.DataFrame(index=['accuracy', 'precision', 'recall'],\n",
        "                      columns=['NULL', 'LogisticReg', 'ClassTree', 'NaiveBayes'])"
      ],
      "execution_count": 0,
      "outputs": []
    },
    {
      "metadata": {
        "id": "xtDMBzXxm4Gr",
        "colab_type": "code",
        "colab": {}
      },
      "cell_type": "code",
      "source": [
        "y_pred_test = logreg.predict(X_test)\n",
        "metrics.loc['accuracy', 'LogisticReg'] = accuracy_score(y_pred=y_pred_test, y_true=y_test)\n",
        "metrics.loc['precision', 'LogisticReg'] = precision_score(y_pred=y_pred_test, y_true=y_test)\n",
        "metrics.loc['recall', 'LogisticReg'] = recall_score(y_pred=y_pred_test, y_true=y_test)\n"
      ],
      "execution_count": 0,
      "outputs": []
    },
    {
      "metadata": {
        "id": "VdyjgoBDnBd6",
        "colab_type": "code",
        "outputId": "1d2e9dfd-91c5-438a-d27d-77b32f19a4ed",
        "colab": {
          "base_uri": "https://localhost:8080/",
          "height": 168
        }
      },
      "cell_type": "code",
      "source": [
        "#  Confusion matrix\n",
        "CM = confusion_matrix(y_pred=y_pred_test, y_true=y_test)\n",
        "CMatrix(CM)"
      ],
      "execution_count": 54,
      "outputs": [
        {
          "output_type": "execute_result",
          "data": {
            "text/html": [
              "<div>\n",
              "<style scoped>\n",
              "    .dataframe tbody tr th:only-of-type {\n",
              "        vertical-align: middle;\n",
              "    }\n",
              "\n",
              "    .dataframe tbody tr th {\n",
              "        vertical-align: top;\n",
              "    }\n",
              "\n",
              "    .dataframe thead th {\n",
              "        text-align: right;\n",
              "    }\n",
              "</style>\n",
              "<table border=\"1\" class=\"dataframe\">\n",
              "  <thead>\n",
              "    <tr style=\"text-align: right;\">\n",
              "      <th>PREDICTION</th>\n",
              "      <th>No Citation</th>\n",
              "      <th>Citation</th>\n",
              "      <th>Total</th>\n",
              "    </tr>\n",
              "    <tr>\n",
              "      <th>TRUE</th>\n",
              "      <th></th>\n",
              "      <th></th>\n",
              "      <th></th>\n",
              "    </tr>\n",
              "  </thead>\n",
              "  <tbody>\n",
              "    <tr>\n",
              "      <th>No Citation</th>\n",
              "      <td>361361</td>\n",
              "      <td>145578</td>\n",
              "      <td>506939</td>\n",
              "    </tr>\n",
              "    <tr>\n",
              "      <th>Citation</th>\n",
              "      <td>252390</td>\n",
              "      <td>590880</td>\n",
              "      <td>843270</td>\n",
              "    </tr>\n",
              "    <tr>\n",
              "      <th>Total</th>\n",
              "      <td>613751</td>\n",
              "      <td>736458</td>\n",
              "      <td>1350209</td>\n",
              "    </tr>\n",
              "  </tbody>\n",
              "</table>\n",
              "</div>"
            ],
            "text/plain": [
              "PREDICTION   No Citation  Citation    Total\n",
              "TRUE                                       \n",
              "No Citation       361361    145578   506939\n",
              "Citation          252390    590880   843270\n",
              "Total             613751    736458  1350209"
            ]
          },
          "metadata": {
            "tags": []
          },
          "execution_count": 54
        }
      ]
    },
    {
      "metadata": {
        "id": "BJKn5niVVWs7",
        "colab_type": "text"
      },
      "cell_type": "markdown",
      "source": [
        "#  ML Algorithm 2)  Classification Trees"
      ]
    },
    {
      "metadata": {
        "id": "_E52JBs1Vi5w",
        "colab_type": "code",
        "colab": {}
      },
      "cell_type": "code",
      "source": [
        "classTree = DecisionTreeClassifier(min_samples_split=30, min_samples_leaf=10, random_state=10)"
      ],
      "execution_count": 0,
      "outputs": []
    },
    {
      "metadata": {
        "id": "WNSyAlsyVubF",
        "colab_type": "code",
        "outputId": "08848b6b-ecd8-4f38-e87a-d5663ea09635",
        "colab": {
          "base_uri": "https://localhost:8080/",
          "height": 121
        }
      },
      "cell_type": "code",
      "source": [
        "classTree.fit(X_train, y_train)"
      ],
      "execution_count": 56,
      "outputs": [
        {
          "output_type": "execute_result",
          "data": {
            "text/plain": [
              "DecisionTreeClassifier(class_weight=None, criterion='gini', max_depth=None,\n",
              "            max_features=None, max_leaf_nodes=None,\n",
              "            min_impurity_decrease=0.0, min_impurity_split=None,\n",
              "            min_samples_leaf=10, min_samples_split=30,\n",
              "            min_weight_fraction_leaf=0.0, presort=False, random_state=10,\n",
              "            splitter='best')"
            ]
          },
          "metadata": {
            "tags": []
          },
          "execution_count": 56
        }
      ]
    },
    {
      "metadata": {
        "id": "TxMEgPCEVwVE",
        "colab_type": "code",
        "colab": {}
      },
      "cell_type": "code",
      "source": [
        "#  Evaluate the model\n",
        "y_pred_test = classTree.predict(X_test)\n",
        "metrics.loc['accuracy', 'ClassTree'] = accuracy_score(y_pred=y_pred_test, y_true=y_test)\n",
        "metrics.loc['precision', 'ClassTree'] = precision_score(y_pred=y_pred_test, y_true=y_test)\n",
        "metrics.loc['recall', 'ClassTree'] = recall_score(y_pred=y_pred_test, y_true=y_test)"
      ],
      "execution_count": 0,
      "outputs": []
    },
    {
      "metadata": {
        "id": "pUEk3Rv2V1xT",
        "colab_type": "code",
        "outputId": "43a68c95-fbab-4db4-fd9b-fca802923dcf",
        "colab": {
          "base_uri": "https://localhost:8080/",
          "height": 168
        }
      },
      "cell_type": "code",
      "source": [
        "CM = confusion_matrix(y_pred=y_pred_test, y_true=y_test)\n",
        "CMatrix(CM)"
      ],
      "execution_count": 58,
      "outputs": [
        {
          "output_type": "execute_result",
          "data": {
            "text/html": [
              "<div>\n",
              "<style scoped>\n",
              "    .dataframe tbody tr th:only-of-type {\n",
              "        vertical-align: middle;\n",
              "    }\n",
              "\n",
              "    .dataframe tbody tr th {\n",
              "        vertical-align: top;\n",
              "    }\n",
              "\n",
              "    .dataframe thead th {\n",
              "        text-align: right;\n",
              "    }\n",
              "</style>\n",
              "<table border=\"1\" class=\"dataframe\">\n",
              "  <thead>\n",
              "    <tr style=\"text-align: right;\">\n",
              "      <th>PREDICTION</th>\n",
              "      <th>No Citation</th>\n",
              "      <th>Citation</th>\n",
              "      <th>Total</th>\n",
              "    </tr>\n",
              "    <tr>\n",
              "      <th>TRUE</th>\n",
              "      <th></th>\n",
              "      <th></th>\n",
              "      <th></th>\n",
              "    </tr>\n",
              "  </thead>\n",
              "  <tbody>\n",
              "    <tr>\n",
              "      <th>No Citation</th>\n",
              "      <td>506939</td>\n",
              "      <td>0</td>\n",
              "      <td>506939</td>\n",
              "    </tr>\n",
              "    <tr>\n",
              "      <th>Citation</th>\n",
              "      <td>0</td>\n",
              "      <td>843270</td>\n",
              "      <td>843270</td>\n",
              "    </tr>\n",
              "    <tr>\n",
              "      <th>Total</th>\n",
              "      <td>506939</td>\n",
              "      <td>843270</td>\n",
              "      <td>1350209</td>\n",
              "    </tr>\n",
              "  </tbody>\n",
              "</table>\n",
              "</div>"
            ],
            "text/plain": [
              "PREDICTION   No Citation  Citation    Total\n",
              "TRUE                                       \n",
              "No Citation       506939         0   506939\n",
              "Citation               0    843270   843270\n",
              "Total             506939    843270  1350209"
            ]
          },
          "metadata": {
            "tags": []
          },
          "execution_count": 58
        }
      ]
    },
    {
      "metadata": {
        "id": "Esl51uorWRXw",
        "colab_type": "text"
      },
      "cell_type": "markdown",
      "source": [
        "#  ML Algorithm 3)  Naive Bayes Classifer"
      ]
    },
    {
      "metadata": {
        "id": "scPjSuDTWwfZ",
        "colab_type": "code",
        "colab": {}
      },
      "cell_type": "code",
      "source": [
        "from sklearn.naive_bayes import GaussianNB"
      ],
      "execution_count": 0,
      "outputs": []
    },
    {
      "metadata": {
        "id": "nd6jkEDAWyXf",
        "colab_type": "code",
        "colab": {}
      },
      "cell_type": "code",
      "source": [
        "naiveBayes = GaussianNB()"
      ],
      "execution_count": 0,
      "outputs": []
    },
    {
      "metadata": {
        "id": "txMtwCmLW1rO",
        "colab_type": "code",
        "outputId": "c491cb30-c0de-4b09-c80b-277373689c30",
        "colab": {
          "base_uri": "https://localhost:8080/",
          "height": 35
        }
      },
      "cell_type": "code",
      "source": [
        "naiveBayes.fit(X_train, y_train)"
      ],
      "execution_count": 61,
      "outputs": [
        {
          "output_type": "execute_result",
          "data": {
            "text/plain": [
              "GaussianNB(priors=None)"
            ]
          },
          "metadata": {
            "tags": []
          },
          "execution_count": 61
        }
      ]
    },
    {
      "metadata": {
        "id": "q0cJE-mtWBmK",
        "colab_type": "code",
        "colab": {}
      },
      "cell_type": "code",
      "source": [
        "#  Evaluate the model\n",
        "y_pred_test = naiveBayes.predict(X_test)\n",
        "metrics.loc['accuracy', 'NaiveBayes'] = accuracy_score(y_pred=y_pred_test, y_true=y_test)\n",
        "metrics.loc['precision', 'NaiveBayes'] = precision_score(y_pred=y_pred_test, y_true=y_test)\n",
        "metrics.loc['recall', 'NaiveBayes'] = recall_score(y_pred=y_pred_test, y_true=y_test)"
      ],
      "execution_count": 0,
      "outputs": []
    },
    {
      "metadata": {
        "id": "z3HIDlNUPO6U",
        "colab_type": "code",
        "outputId": "020a2248-da00-435b-8c5c-3194801f51c0",
        "colab": {
          "base_uri": "https://localhost:8080/",
          "height": 168
        }
      },
      "cell_type": "code",
      "source": [
        "CM = confusion_matrix(y_pred=y_pred_test, y_true=y_test)\n",
        "CMatrix(CM)"
      ],
      "execution_count": 63,
      "outputs": [
        {
          "output_type": "execute_result",
          "data": {
            "text/html": [
              "<div>\n",
              "<style scoped>\n",
              "    .dataframe tbody tr th:only-of-type {\n",
              "        vertical-align: middle;\n",
              "    }\n",
              "\n",
              "    .dataframe tbody tr th {\n",
              "        vertical-align: top;\n",
              "    }\n",
              "\n",
              "    .dataframe thead th {\n",
              "        text-align: right;\n",
              "    }\n",
              "</style>\n",
              "<table border=\"1\" class=\"dataframe\">\n",
              "  <thead>\n",
              "    <tr style=\"text-align: right;\">\n",
              "      <th>PREDICTION</th>\n",
              "      <th>No Citation</th>\n",
              "      <th>Citation</th>\n",
              "      <th>Total</th>\n",
              "    </tr>\n",
              "    <tr>\n",
              "      <th>TRUE</th>\n",
              "      <th></th>\n",
              "      <th></th>\n",
              "      <th></th>\n",
              "    </tr>\n",
              "  </thead>\n",
              "  <tbody>\n",
              "    <tr>\n",
              "      <th>No Citation</th>\n",
              "      <td>422688</td>\n",
              "      <td>84251</td>\n",
              "      <td>506939</td>\n",
              "    </tr>\n",
              "    <tr>\n",
              "      <th>Citation</th>\n",
              "      <td>649</td>\n",
              "      <td>842621</td>\n",
              "      <td>843270</td>\n",
              "    </tr>\n",
              "    <tr>\n",
              "      <th>Total</th>\n",
              "      <td>423337</td>\n",
              "      <td>926872</td>\n",
              "      <td>1350209</td>\n",
              "    </tr>\n",
              "  </tbody>\n",
              "</table>\n",
              "</div>"
            ],
            "text/plain": [
              "PREDICTION   No Citation  Citation    Total\n",
              "TRUE                                       \n",
              "No Citation       422688     84251   506939\n",
              "Citation             649    842621   843270\n",
              "Total             423337    926872  1350209"
            ]
          },
          "metadata": {
            "tags": []
          },
          "execution_count": 63
        }
      ]
    },
    {
      "metadata": {
        "id": "dmRcrHq2h739",
        "colab_type": "text"
      },
      "cell_type": "markdown",
      "source": [
        "#  Model Evaluation"
      ]
    },
    {
      "metadata": {
        "id": "KJosx-kch25E",
        "colab_type": "code",
        "outputId": "b33c607a-750c-4d58-fa63-8635dae8fcff",
        "colab": {
          "base_uri": "https://localhost:8080/",
          "height": 138
        }
      },
      "cell_type": "code",
      "source": [
        "100*metrics"
      ],
      "execution_count": 64,
      "outputs": [
        {
          "output_type": "execute_result",
          "data": {
            "text/html": [
              "<div>\n",
              "<style scoped>\n",
              "    .dataframe tbody tr th:only-of-type {\n",
              "        vertical-align: middle;\n",
              "    }\n",
              "\n",
              "    .dataframe tbody tr th {\n",
              "        vertical-align: top;\n",
              "    }\n",
              "\n",
              "    .dataframe thead th {\n",
              "        text-align: right;\n",
              "    }\n",
              "</style>\n",
              "<table border=\"1\" class=\"dataframe\">\n",
              "  <thead>\n",
              "    <tr style=\"text-align: right;\">\n",
              "      <th></th>\n",
              "      <th>NULL</th>\n",
              "      <th>LogisticReg</th>\n",
              "      <th>ClassTree</th>\n",
              "      <th>NaiveBayes</th>\n",
              "    </tr>\n",
              "  </thead>\n",
              "  <tbody>\n",
              "    <tr>\n",
              "      <th>accuracy</th>\n",
              "      <td>NaN</td>\n",
              "      <td>70.5255</td>\n",
              "      <td>100</td>\n",
              "      <td>93.7121</td>\n",
              "    </tr>\n",
              "    <tr>\n",
              "      <th>precision</th>\n",
              "      <td>NaN</td>\n",
              "      <td>80.2327</td>\n",
              "      <td>100</td>\n",
              "      <td>90.9102</td>\n",
              "    </tr>\n",
              "    <tr>\n",
              "      <th>recall</th>\n",
              "      <td>NaN</td>\n",
              "      <td>70.0701</td>\n",
              "      <td>100</td>\n",
              "      <td>99.923</td>\n",
              "    </tr>\n",
              "  </tbody>\n",
              "</table>\n",
              "</div>"
            ],
            "text/plain": [
              "          NULL LogisticReg ClassTree NaiveBayes\n",
              "accuracy   NaN     70.5255       100    93.7121\n",
              "precision  NaN     80.2327       100    90.9102\n",
              "recall     NaN     70.0701       100     99.923"
            ]
          },
          "metadata": {
            "tags": []
          },
          "execution_count": 64
        }
      ]
    },
    {
      "metadata": {
        "id": "M5d9LN2oh43p",
        "colab_type": "code",
        "outputId": "13eae6d5-ae56-46c7-fad1-f6326a13679d",
        "colab": {
          "base_uri": "https://localhost:8080/",
          "height": 593
        }
      },
      "cell_type": "code",
      "source": [
        "fig, ax = plt.subplots(figsize=(8,10))\n",
        "metrics.plot(kind='barh', ax=ax)\n",
        "ax.grid()"
      ],
      "execution_count": 65,
      "outputs": [
        {
          "output_type": "display_data",
          "data": {
            "image/png": "[encoded data removed]",
            "text/plain": [
              "<matplotlib.figure.Figure at 0x7faf4e990278>"
            ]
          },
          "metadata": {
            "tags": []
          }
        }
      ]
    },
    {
      "metadata": {
        "id": "ruSzTa-UzWkG",
        "colab_type": "text"
      },
      "cell_type": "markdown",
      "source": [
        "#  Conclusion:  Predictions"
      ]
    },
    {
      "metadata": {
        "id": "7Dez5Ybo1d7k",
        "colab_type": "code",
        "outputId": "3a2142e9-ec04-4e78-cac8-a4c466e8407d",
        "colab": {
          "base_uri": "https://localhost:8080/",
          "height": 2998
        }
      },
      "cell_type": "code",
      "source": [
        "df_parking[df_parking.Modified_Location_Encode == 36727]"
      ],
      "execution_count": 66,
      "outputs": [
        {
          "output_type": "execute_result",
          "data": {
            "text/html": [
              "<div>\n",
              "<style scoped>\n",
              "    .dataframe tbody tr th:only-of-type {\n",
              "        vertical-align: middle;\n",
              "    }\n",
              "\n",
              "    .dataframe tbody tr th {\n",
              "        vertical-align: top;\n",
              "    }\n",
              "\n",
              "    .dataframe thead th {\n",
              "        text-align: right;\n",
              "    }\n",
              "</style>\n",
              "<table border=\"1\" class=\"dataframe\">\n",
              "  <thead>\n",
              "    <tr style=\"text-align: right;\">\n",
              "      <th></th>\n",
              "      <th>Ticket number</th>\n",
              "      <th>Issue Date</th>\n",
              "      <th>Issue time</th>\n",
              "      <th>RP State Plate</th>\n",
              "      <th>Make</th>\n",
              "      <th>Body Style</th>\n",
              "      <th>Color</th>\n",
              "      <th>Location</th>\n",
              "      <th>Route</th>\n",
              "      <th>Agency</th>\n",
              "      <th>...</th>\n",
              "      <th>Fine amount</th>\n",
              "      <th>Issue_Hour</th>\n",
              "      <th>Issue_Year</th>\n",
              "      <th>Issue_Month</th>\n",
              "      <th>Issue_Month_Year</th>\n",
              "      <th>Issue_Weekday</th>\n",
              "      <th>Modified_Location</th>\n",
              "      <th>Modified_Location_Encode</th>\n",
              "      <th>Issue_Hour_Loc_Count</th>\n",
              "      <th>t_risk_level</th>\n",
              "    </tr>\n",
              "  </thead>\n",
              "  <tbody>\n",
              "    <tr>\n",
              "      <th>1</th>\n",
              "      <td>1103700150</td>\n",
              "      <td>2015-12-21T00:00:00</td>\n",
              "      <td>1435.0</td>\n",
              "      <td>CA</td>\n",
              "      <td>GMC</td>\n",
              "      <td>VN</td>\n",
              "      <td>WH</td>\n",
              "      <td>525 S MAIN ST</td>\n",
              "      <td>1C51</td>\n",
              "      <td>1.0</td>\n",
              "      <td>...</td>\n",
              "      <td>50.0</td>\n",
              "      <td>14.0</td>\n",
              "      <td>2015</td>\n",
              "      <td>12</td>\n",
              "      <td>2015-12</td>\n",
              "      <td>Monday</td>\n",
              "      <td>S MAIN ST</td>\n",
              "      <td>36727</td>\n",
              "      <td>425</td>\n",
              "      <td>0</td>\n",
              "    </tr>\n",
              "    <tr>\n",
              "      <th>47777</th>\n",
              "      <td>1111383416</td>\n",
              "      <td>2016-01-05T00:00:00</td>\n",
              "      <td>219.0</td>\n",
              "      <td>CA</td>\n",
              "      <td>MAZD</td>\n",
              "      <td>PA</td>\n",
              "      <td>GY</td>\n",
              "      <td>646 S MAIN ST</td>\n",
              "      <td>00601</td>\n",
              "      <td>56.0</td>\n",
              "      <td>...</td>\n",
              "      <td>73.0</td>\n",
              "      <td>2.0</td>\n",
              "      <td>2016</td>\n",
              "      <td>1</td>\n",
              "      <td>2016-01</td>\n",
              "      <td>Tuesday</td>\n",
              "      <td>S MAIN ST</td>\n",
              "      <td>36727</td>\n",
              "      <td>1127</td>\n",
              "      <td>1</td>\n",
              "    </tr>\n",
              "    <tr>\n",
              "      <th>55789</th>\n",
              "      <td>1112951770</td>\n",
              "      <td>2016-01-04T00:00:00</td>\n",
              "      <td>1957.0</td>\n",
              "      <td>CA</td>\n",
              "      <td>TOYO</td>\n",
              "      <td>PA</td>\n",
              "      <td>WH</td>\n",
              "      <td>1804 S MAIN ST</td>\n",
              "      <td>00195</td>\n",
              "      <td>1.0</td>\n",
              "      <td>...</td>\n",
              "      <td>50.0</td>\n",
              "      <td>19.0</td>\n",
              "      <td>2016</td>\n",
              "      <td>1</td>\n",
              "      <td>2016-01</td>\n",
              "      <td>Monday</td>\n",
              "      <td>S MAIN ST</td>\n",
              "      <td>36727</td>\n",
              "      <td>358</td>\n",
              "      <td>0</td>\n",
              "    </tr>\n",
              "    <tr>\n",
              "      <th>77420</th>\n",
              "      <td>1109572752</td>\n",
              "      <td>2016-01-13T00:00:00</td>\n",
              "      <td>742.0</td>\n",
              "      <td>CA</td>\n",
              "      <td>BMW</td>\n",
              "      <td>PA</td>\n",
              "      <td>BL</td>\n",
              "      <td>4166 S MAIN ST</td>\n",
              "      <td>00544</td>\n",
              "      <td>55.0</td>\n",
              "      <td>...</td>\n",
              "      <td>93.0</td>\n",
              "      <td>7.0</td>\n",
              "      <td>2016</td>\n",
              "      <td>1</td>\n",
              "      <td>2016-01</td>\n",
              "      <td>Wednesday</td>\n",
              "      <td>S MAIN ST</td>\n",
              "      <td>36727</td>\n",
              "      <td>612</td>\n",
              "      <td>1</td>\n",
              "    </tr>\n",
              "    <tr>\n",
              "      <th>77421</th>\n",
              "      <td>1109572763</td>\n",
              "      <td>2016-01-13T00:00:00</td>\n",
              "      <td>743.0</td>\n",
              "      <td>CA</td>\n",
              "      <td>BMW</td>\n",
              "      <td>PA</td>\n",
              "      <td>BL</td>\n",
              "      <td>4166 S MAIN ST</td>\n",
              "      <td>00544</td>\n",
              "      <td>55.0</td>\n",
              "      <td>...</td>\n",
              "      <td>25.0</td>\n",
              "      <td>7.0</td>\n",
              "      <td>2016</td>\n",
              "      <td>1</td>\n",
              "      <td>2016-01</td>\n",
              "      <td>Wednesday</td>\n",
              "      <td>S MAIN ST</td>\n",
              "      <td>36727</td>\n",
              "      <td>612</td>\n",
              "      <td>1</td>\n",
              "    </tr>\n",
              "    <tr>\n",
              "      <th>94817</th>\n",
              "      <td>1109574395</td>\n",
              "      <td>2016-01-15T00:00:00</td>\n",
              "      <td>755.0</td>\n",
              "      <td>CA</td>\n",
              "      <td>BMW</td>\n",
              "      <td>PA</td>\n",
              "      <td>BK</td>\n",
              "      <td>8324 S MAIN ST</td>\n",
              "      <td>549A</td>\n",
              "      <td>55.0</td>\n",
              "      <td>...</td>\n",
              "      <td>93.0</td>\n",
              "      <td>7.0</td>\n",
              "      <td>2016</td>\n",
              "      <td>1</td>\n",
              "      <td>2016-01</td>\n",
              "      <td>Friday</td>\n",
              "      <td>S MAIN ST</td>\n",
              "      <td>36727</td>\n",
              "      <td>612</td>\n",
              "      <td>1</td>\n",
              "    </tr>\n",
              "    <tr>\n",
              "      <th>108995</th>\n",
              "      <td>1113871441</td>\n",
              "      <td>2016-01-18T00:00:00</td>\n",
              "      <td>1410.0</td>\n",
              "      <td>CA</td>\n",
              "      <td>ACUR</td>\n",
              "      <td>PA</td>\n",
              "      <td>WH</td>\n",
              "      <td>1720 S MAIN ST</td>\n",
              "      <td>207W</td>\n",
              "      <td>51.0</td>\n",
              "      <td>...</td>\n",
              "      <td>63.0</td>\n",
              "      <td>14.0</td>\n",
              "      <td>2016</td>\n",
              "      <td>1</td>\n",
              "      <td>2016-01</td>\n",
              "      <td>Monday</td>\n",
              "      <td>S MAIN ST</td>\n",
              "      <td>36727</td>\n",
              "      <td>425</td>\n",
              "      <td>0</td>\n",
              "    </tr>\n",
              "    <tr>\n",
              "      <th>108996</th>\n",
              "      <td>1113871452</td>\n",
              "      <td>2016-01-18T00:00:00</td>\n",
              "      <td>1412.0</td>\n",
              "      <td>CA</td>\n",
              "      <td>JEEP</td>\n",
              "      <td>PA</td>\n",
              "      <td>WH</td>\n",
              "      <td>1720 S MAIN ST</td>\n",
              "      <td>207W</td>\n",
              "      <td>51.0</td>\n",
              "      <td>...</td>\n",
              "      <td>63.0</td>\n",
              "      <td>14.0</td>\n",
              "      <td>2016</td>\n",
              "      <td>1</td>\n",
              "      <td>2016-01</td>\n",
              "      <td>Monday</td>\n",
              "      <td>S MAIN ST</td>\n",
              "      <td>36727</td>\n",
              "      <td>425</td>\n",
              "      <td>0</td>\n",
              "    </tr>\n",
              "    <tr>\n",
              "      <th>117186</th>\n",
              "      <td>1111379006</td>\n",
              "      <td>2016-01-21T00:00:00</td>\n",
              "      <td>205.0</td>\n",
              "      <td>CA</td>\n",
              "      <td>HOND</td>\n",
              "      <td>PA</td>\n",
              "      <td>GY</td>\n",
              "      <td>807 S MAIN ST</td>\n",
              "      <td>00601</td>\n",
              "      <td>56.0</td>\n",
              "      <td>...</td>\n",
              "      <td>73.0</td>\n",
              "      <td>2.0</td>\n",
              "      <td>2016</td>\n",
              "      <td>1</td>\n",
              "      <td>2016-01</td>\n",
              "      <td>Thursday</td>\n",
              "      <td>S MAIN ST</td>\n",
              "      <td>36727</td>\n",
              "      <td>1127</td>\n",
              "      <td>1</td>\n",
              "    </tr>\n",
              "    <tr>\n",
              "      <th>124191</th>\n",
              "      <td>1109008014</td>\n",
              "      <td>2016-01-19T00:00:00</td>\n",
              "      <td>1715.0</td>\n",
              "      <td>CA</td>\n",
              "      <td>TOYO</td>\n",
              "      <td>PA</td>\n",
              "      <td>GR</td>\n",
              "      <td>525 S MAIN ST</td>\n",
              "      <td>1C51</td>\n",
              "      <td>1.0</td>\n",
              "      <td>...</td>\n",
              "      <td>50.0</td>\n",
              "      <td>17.0</td>\n",
              "      <td>2016</td>\n",
              "      <td>1</td>\n",
              "      <td>2016-01</td>\n",
              "      <td>Tuesday</td>\n",
              "      <td>S MAIN ST</td>\n",
              "      <td>36727</td>\n",
              "      <td>380</td>\n",
              "      <td>0</td>\n",
              "    </tr>\n",
              "    <tr>\n",
              "      <th>124265</th>\n",
              "      <td>1111379091</td>\n",
              "      <td>2016-01-22T00:00:00</td>\n",
              "      <td>305.0</td>\n",
              "      <td>CA</td>\n",
              "      <td>NISS</td>\n",
              "      <td>SU</td>\n",
              "      <td>GY</td>\n",
              "      <td>409 S MAIN ST</td>\n",
              "      <td>00601</td>\n",
              "      <td>56.0</td>\n",
              "      <td>...</td>\n",
              "      <td>73.0</td>\n",
              "      <td>3.0</td>\n",
              "      <td>2016</td>\n",
              "      <td>1</td>\n",
              "      <td>2016-01</td>\n",
              "      <td>Friday</td>\n",
              "      <td>S MAIN ST</td>\n",
              "      <td>36727</td>\n",
              "      <td>1118</td>\n",
              "      <td>1</td>\n",
              "    </tr>\n",
              "    <tr>\n",
              "      <th>124270</th>\n",
              "      <td>1111379146</td>\n",
              "      <td>2016-01-23T00:00:00</td>\n",
              "      <td>215.0</td>\n",
              "      <td>CA</td>\n",
              "      <td>BMW</td>\n",
              "      <td>PA</td>\n",
              "      <td>BK</td>\n",
              "      <td>700 S MAIN ST</td>\n",
              "      <td>00601</td>\n",
              "      <td>56.0</td>\n",
              "      <td>...</td>\n",
              "      <td>73.0</td>\n",
              "      <td>2.0</td>\n",
              "      <td>2016</td>\n",
              "      <td>1</td>\n",
              "      <td>2016-01</td>\n",
              "      <td>Saturday</td>\n",
              "      <td>S MAIN ST</td>\n",
              "      <td>36727</td>\n",
              "      <td>1127</td>\n",
              "      <td>1</td>\n",
              "    </tr>\n",
              "    <tr>\n",
              "      <th>124271</th>\n",
              "      <td>1111379150</td>\n",
              "      <td>2016-01-23T00:00:00</td>\n",
              "      <td>216.0</td>\n",
              "      <td>NV</td>\n",
              "      <td>NISS</td>\n",
              "      <td>PA</td>\n",
              "      <td>BK</td>\n",
              "      <td>700 S MAIN ST</td>\n",
              "      <td>00601</td>\n",
              "      <td>56.0</td>\n",
              "      <td>...</td>\n",
              "      <td>73.0</td>\n",
              "      <td>2.0</td>\n",
              "      <td>2016</td>\n",
              "      <td>1</td>\n",
              "      <td>2016-01</td>\n",
              "      <td>Saturday</td>\n",
              "      <td>S MAIN ST</td>\n",
              "      <td>36727</td>\n",
              "      <td>1127</td>\n",
              "      <td>1</td>\n",
              "    </tr>\n",
              "    <tr>\n",
              "      <th>124301</th>\n",
              "      <td>1111379695</td>\n",
              "      <td>2016-01-23T00:00:00</td>\n",
              "      <td>338.0</td>\n",
              "      <td>MT</td>\n",
              "      <td>PREV</td>\n",
              "      <td>BU</td>\n",
              "      <td>PU</td>\n",
              "      <td>450 S MAIN ST</td>\n",
              "      <td>00601</td>\n",
              "      <td>56.0</td>\n",
              "      <td>...</td>\n",
              "      <td>73.0</td>\n",
              "      <td>3.0</td>\n",
              "      <td>2016</td>\n",
              "      <td>1</td>\n",
              "      <td>2016-01</td>\n",
              "      <td>Saturday</td>\n",
              "      <td>S MAIN ST</td>\n",
              "      <td>36727</td>\n",
              "      <td>1118</td>\n",
              "      <td>1</td>\n",
              "    </tr>\n",
              "    <tr>\n",
              "      <th>124338</th>\n",
              "      <td>1112612944</td>\n",
              "      <td>2016-01-22T00:00:00</td>\n",
              "      <td>1303.0</td>\n",
              "      <td>CA</td>\n",
              "      <td>DAEW</td>\n",
              "      <td>PA</td>\n",
              "      <td>BL</td>\n",
              "      <td>4800 S MAIN ST</td>\n",
              "      <td>00547</td>\n",
              "      <td>55.0</td>\n",
              "      <td>...</td>\n",
              "      <td>58.0</td>\n",
              "      <td>13.0</td>\n",
              "      <td>2016</td>\n",
              "      <td>1</td>\n",
              "      <td>2016-01</td>\n",
              "      <td>Friday</td>\n",
              "      <td>S MAIN ST</td>\n",
              "      <td>36727</td>\n",
              "      <td>438</td>\n",
              "      <td>0</td>\n",
              "    </tr>\n",
              "    <tr>\n",
              "      <th>161644</th>\n",
              "      <td>1111382296</td>\n",
              "      <td>2016-01-30T00:00:00</td>\n",
              "      <td>217.0</td>\n",
              "      <td>CA</td>\n",
              "      <td>TOYO</td>\n",
              "      <td>PA</td>\n",
              "      <td>GY</td>\n",
              "      <td>818 S MAIN ST</td>\n",
              "      <td>00600</td>\n",
              "      <td>56.0</td>\n",
              "      <td>...</td>\n",
              "      <td>73.0</td>\n",
              "      <td>2.0</td>\n",
              "      <td>2016</td>\n",
              "      <td>1</td>\n",
              "      <td>2016-01</td>\n",
              "      <td>Saturday</td>\n",
              "      <td>S MAIN ST</td>\n",
              "      <td>36727</td>\n",
              "      <td>1127</td>\n",
              "      <td>1</td>\n",
              "    </tr>\n",
              "    <tr>\n",
              "      <th>161645</th>\n",
              "      <td>1111382300</td>\n",
              "      <td>2016-01-30T00:00:00</td>\n",
              "      <td>219.0</td>\n",
              "      <td>CA</td>\n",
              "      <td>MBNZ</td>\n",
              "      <td>PA</td>\n",
              "      <td>BK</td>\n",
              "      <td>756 S MAIN ST</td>\n",
              "      <td>00600</td>\n",
              "      <td>56.0</td>\n",
              "      <td>...</td>\n",
              "      <td>73.0</td>\n",
              "      <td>2.0</td>\n",
              "      <td>2016</td>\n",
              "      <td>1</td>\n",
              "      <td>2016-01</td>\n",
              "      <td>Saturday</td>\n",
              "      <td>S MAIN ST</td>\n",
              "      <td>36727</td>\n",
              "      <td>1127</td>\n",
              "      <td>1</td>\n",
              "    </tr>\n",
              "    <tr>\n",
              "      <th>161646</th>\n",
              "      <td>1111382311</td>\n",
              "      <td>2016-01-30T00:00:00</td>\n",
              "      <td>223.0</td>\n",
              "      <td>CA</td>\n",
              "      <td>TOYO</td>\n",
              "      <td>PA</td>\n",
              "      <td>WH</td>\n",
              "      <td>653 S MAIN ST</td>\n",
              "      <td>00600</td>\n",
              "      <td>56.0</td>\n",
              "      <td>...</td>\n",
              "      <td>73.0</td>\n",
              "      <td>2.0</td>\n",
              "      <td>2016</td>\n",
              "      <td>1</td>\n",
              "      <td>2016-01</td>\n",
              "      <td>Saturday</td>\n",
              "      <td>S MAIN ST</td>\n",
              "      <td>36727</td>\n",
              "      <td>1127</td>\n",
              "      <td>1</td>\n",
              "    </tr>\n",
              "    <tr>\n",
              "      <th>161647</th>\n",
              "      <td>1111382322</td>\n",
              "      <td>2016-01-30T00:00:00</td>\n",
              "      <td>226.0</td>\n",
              "      <td>CA</td>\n",
              "      <td>MINI</td>\n",
              "      <td>PA</td>\n",
              "      <td>BK</td>\n",
              "      <td>647 S MAIN ST</td>\n",
              "      <td>00600</td>\n",
              "      <td>56.0</td>\n",
              "      <td>...</td>\n",
              "      <td>73.0</td>\n",
              "      <td>2.0</td>\n",
              "      <td>2016</td>\n",
              "      <td>1</td>\n",
              "      <td>2016-01</td>\n",
              "      <td>Saturday</td>\n",
              "      <td>S MAIN ST</td>\n",
              "      <td>36727</td>\n",
              "      <td>1127</td>\n",
              "      <td>1</td>\n",
              "    </tr>\n",
              "    <tr>\n",
              "      <th>161649</th>\n",
              "      <td>1111382344</td>\n",
              "      <td>2016-01-30T00:00:00</td>\n",
              "      <td>229.0</td>\n",
              "      <td>CA</td>\n",
              "      <td>FORD</td>\n",
              "      <td>TR</td>\n",
              "      <td>GO</td>\n",
              "      <td>634 S MAIN ST</td>\n",
              "      <td>00600</td>\n",
              "      <td>56.0</td>\n",
              "      <td>...</td>\n",
              "      <td>73.0</td>\n",
              "      <td>2.0</td>\n",
              "      <td>2016</td>\n",
              "      <td>1</td>\n",
              "      <td>2016-01</td>\n",
              "      <td>Saturday</td>\n",
              "      <td>S MAIN ST</td>\n",
              "      <td>36727</td>\n",
              "      <td>1127</td>\n",
              "      <td>1</td>\n",
              "    </tr>\n",
              "    <tr>\n",
              "      <th>161650</th>\n",
              "      <td>1111382355</td>\n",
              "      <td>2016-01-30T00:00:00</td>\n",
              "      <td>230.0</td>\n",
              "      <td>CA</td>\n",
              "      <td>LEXU</td>\n",
              "      <td>PA</td>\n",
              "      <td>GY</td>\n",
              "      <td>620 S MAIN ST</td>\n",
              "      <td>00600</td>\n",
              "      <td>56.0</td>\n",
              "      <td>...</td>\n",
              "      <td>73.0</td>\n",
              "      <td>2.0</td>\n",
              "      <td>2016</td>\n",
              "      <td>1</td>\n",
              "      <td>2016-01</td>\n",
              "      <td>Saturday</td>\n",
              "      <td>S MAIN ST</td>\n",
              "      <td>36727</td>\n",
              "      <td>1127</td>\n",
              "      <td>1</td>\n",
              "    </tr>\n",
              "    <tr>\n",
              "      <th>161656</th>\n",
              "      <td>1111382451</td>\n",
              "      <td>2016-01-31T00:00:00</td>\n",
              "      <td>210.0</td>\n",
              "      <td>CA</td>\n",
              "      <td>LEXU</td>\n",
              "      <td>SU</td>\n",
              "      <td>SI</td>\n",
              "      <td>818 S MAIN ST</td>\n",
              "      <td>00600</td>\n",
              "      <td>56.0</td>\n",
              "      <td>...</td>\n",
              "      <td>73.0</td>\n",
              "      <td>2.0</td>\n",
              "      <td>2016</td>\n",
              "      <td>1</td>\n",
              "      <td>2016-01</td>\n",
              "      <td>Sunday</td>\n",
              "      <td>S MAIN ST</td>\n",
              "      <td>36727</td>\n",
              "      <td>1127</td>\n",
              "      <td>1</td>\n",
              "    </tr>\n",
              "    <tr>\n",
              "      <th>161660</th>\n",
              "      <td>1111382495</td>\n",
              "      <td>2016-01-31T00:00:00</td>\n",
              "      <td>219.0</td>\n",
              "      <td>CA</td>\n",
              "      <td>TOYO</td>\n",
              "      <td>PA</td>\n",
              "      <td>GY</td>\n",
              "      <td>757 S MAIN ST</td>\n",
              "      <td>00600</td>\n",
              "      <td>56.0</td>\n",
              "      <td>...</td>\n",
              "      <td>73.0</td>\n",
              "      <td>2.0</td>\n",
              "      <td>2016</td>\n",
              "      <td>1</td>\n",
              "      <td>2016-01</td>\n",
              "      <td>Sunday</td>\n",
              "      <td>S MAIN ST</td>\n",
              "      <td>36727</td>\n",
              "      <td>1127</td>\n",
              "      <td>1</td>\n",
              "    </tr>\n",
              "    <tr>\n",
              "      <th>161662</th>\n",
              "      <td>1111382532</td>\n",
              "      <td>2016-01-31T00:00:00</td>\n",
              "      <td>221.0</td>\n",
              "      <td>CA</td>\n",
              "      <td>HOND</td>\n",
              "      <td>PA</td>\n",
              "      <td>CH</td>\n",
              "      <td>756 S MAIN ST</td>\n",
              "      <td>00601</td>\n",
              "      <td>56.0</td>\n",
              "      <td>...</td>\n",
              "      <td>73.0</td>\n",
              "      <td>2.0</td>\n",
              "      <td>2016</td>\n",
              "      <td>1</td>\n",
              "      <td>2016-01</td>\n",
              "      <td>Sunday</td>\n",
              "      <td>S MAIN ST</td>\n",
              "      <td>36727</td>\n",
              "      <td>1127</td>\n",
              "      <td>1</td>\n",
              "    </tr>\n",
              "    <tr>\n",
              "      <th>161670</th>\n",
              "      <td>1111382613</td>\n",
              "      <td>2016-01-31T00:00:00</td>\n",
              "      <td>238.0</td>\n",
              "      <td>CA</td>\n",
              "      <td>HYUN</td>\n",
              "      <td>PA</td>\n",
              "      <td>CH</td>\n",
              "      <td>518 S MAIN ST</td>\n",
              "      <td>00601</td>\n",
              "      <td>56.0</td>\n",
              "      <td>...</td>\n",
              "      <td>73.0</td>\n",
              "      <td>2.0</td>\n",
              "      <td>2016</td>\n",
              "      <td>1</td>\n",
              "      <td>2016-01</td>\n",
              "      <td>Sunday</td>\n",
              "      <td>S MAIN ST</td>\n",
              "      <td>36727</td>\n",
              "      <td>1127</td>\n",
              "      <td>1</td>\n",
              "    </tr>\n",
              "    <tr>\n",
              "      <th>161674</th>\n",
              "      <td>1111382650</td>\n",
              "      <td>2016-01-31T00:00:00</td>\n",
              "      <td>305.0</td>\n",
              "      <td>CA</td>\n",
              "      <td>HOND</td>\n",
              "      <td>PA</td>\n",
              "      <td>SI</td>\n",
              "      <td>452 S MAIN ST</td>\n",
              "      <td>00601</td>\n",
              "      <td>56.0</td>\n",
              "      <td>...</td>\n",
              "      <td>73.0</td>\n",
              "      <td>3.0</td>\n",
              "      <td>2016</td>\n",
              "      <td>1</td>\n",
              "      <td>2016-01</td>\n",
              "      <td>Sunday</td>\n",
              "      <td>S MAIN ST</td>\n",
              "      <td>36727</td>\n",
              "      <td>1118</td>\n",
              "      <td>1</td>\n",
              "    </tr>\n",
              "    <tr>\n",
              "      <th>161675</th>\n",
              "      <td>1111382661</td>\n",
              "      <td>2016-01-31T00:00:00</td>\n",
              "      <td>307.0</td>\n",
              "      <td>CA</td>\n",
              "      <td>NISS</td>\n",
              "      <td>PA</td>\n",
              "      <td>BL</td>\n",
              "      <td>452 S MAIN ST</td>\n",
              "      <td>00601</td>\n",
              "      <td>56.0</td>\n",
              "      <td>...</td>\n",
              "      <td>73.0</td>\n",
              "      <td>3.0</td>\n",
              "      <td>2016</td>\n",
              "      <td>1</td>\n",
              "      <td>2016-01</td>\n",
              "      <td>Sunday</td>\n",
              "      <td>S MAIN ST</td>\n",
              "      <td>36727</td>\n",
              "      <td>1118</td>\n",
              "      <td>1</td>\n",
              "    </tr>\n",
              "    <tr>\n",
              "      <th>161677</th>\n",
              "      <td>1111382683</td>\n",
              "      <td>2016-01-31T00:00:00</td>\n",
              "      <td>319.0</td>\n",
              "      <td>CA</td>\n",
              "      <td>DODG</td>\n",
              "      <td>PA</td>\n",
              "      <td>BK</td>\n",
              "      <td>411 S MAIN ST</td>\n",
              "      <td>00601</td>\n",
              "      <td>56.0</td>\n",
              "      <td>...</td>\n",
              "      <td>73.0</td>\n",
              "      <td>3.0</td>\n",
              "      <td>2016</td>\n",
              "      <td>1</td>\n",
              "      <td>2016-01</td>\n",
              "      <td>Sunday</td>\n",
              "      <td>S MAIN ST</td>\n",
              "      <td>36727</td>\n",
              "      <td>1118</td>\n",
              "      <td>1</td>\n",
              "    </tr>\n",
              "    <tr>\n",
              "      <th>168954</th>\n",
              "      <td>1108172096</td>\n",
              "      <td>2016-02-01T00:00:00</td>\n",
              "      <td>1356.0</td>\n",
              "      <td>CA</td>\n",
              "      <td>TOYO</td>\n",
              "      <td>PA</td>\n",
              "      <td>SI</td>\n",
              "      <td>627 S MAIN ST</td>\n",
              "      <td>00681</td>\n",
              "      <td>56.0</td>\n",
              "      <td>...</td>\n",
              "      <td>63.0</td>\n",
              "      <td>13.0</td>\n",
              "      <td>2016</td>\n",
              "      <td>2</td>\n",
              "      <td>2016-02</td>\n",
              "      <td>Monday</td>\n",
              "      <td>S MAIN ST</td>\n",
              "      <td>36727</td>\n",
              "      <td>438</td>\n",
              "      <td>0</td>\n",
              "    </tr>\n",
              "    <tr>\n",
              "      <th>183555</th>\n",
              "      <td>1109336664</td>\n",
              "      <td>2016-01-27T00:00:00</td>\n",
              "      <td>1450.0</td>\n",
              "      <td>CA</td>\n",
              "      <td>FORD</td>\n",
              "      <td>SU</td>\n",
              "      <td>WH</td>\n",
              "      <td>9310 S MAIN ST</td>\n",
              "      <td>25MQ6</td>\n",
              "      <td>1.0</td>\n",
              "      <td>...</td>\n",
              "      <td>50.0</td>\n",
              "      <td>14.0</td>\n",
              "      <td>2016</td>\n",
              "      <td>1</td>\n",
              "      <td>2016-01</td>\n",
              "      <td>Wednesday</td>\n",
              "      <td>S MAIN ST</td>\n",
              "      <td>36727</td>\n",
              "      <td>425</td>\n",
              "      <td>0</td>\n",
              "    </tr>\n",
              "    <tr>\n",
              "      <th>...</th>\n",
              "      <td>...</td>\n",
              "      <td>...</td>\n",
              "      <td>...</td>\n",
              "      <td>...</td>\n",
              "      <td>...</td>\n",
              "      <td>...</td>\n",
              "      <td>...</td>\n",
              "      <td>...</td>\n",
              "      <td>...</td>\n",
              "      <td>...</td>\n",
              "      <td>...</td>\n",
              "      <td>...</td>\n",
              "      <td>...</td>\n",
              "      <td>...</td>\n",
              "      <td>...</td>\n",
              "      <td>...</td>\n",
              "      <td>...</td>\n",
              "      <td>...</td>\n",
              "      <td>...</td>\n",
              "      <td>...</td>\n",
              "      <td>...</td>\n",
              "    </tr>\n",
              "    <tr>\n",
              "      <th>6613361</th>\n",
              "      <td>4338401815</td>\n",
              "      <td>2018-10-22T00:00:00</td>\n",
              "      <td>1654.0</td>\n",
              "      <td>CA</td>\n",
              "      <td>HOND</td>\n",
              "      <td>PA</td>\n",
              "      <td>GO</td>\n",
              "      <td>4343 S MAIN ST</td>\n",
              "      <td>549B</td>\n",
              "      <td>55.0</td>\n",
              "      <td>...</td>\n",
              "      <td>93.0</td>\n",
              "      <td>16.0</td>\n",
              "      <td>2018</td>\n",
              "      <td>10</td>\n",
              "      <td>2018-10</td>\n",
              "      <td>Monday</td>\n",
              "      <td>S MAIN ST</td>\n",
              "      <td>36727</td>\n",
              "      <td>390</td>\n",
              "      <td>0</td>\n",
              "    </tr>\n",
              "    <tr>\n",
              "      <th>6613362</th>\n",
              "      <td>4338401826</td>\n",
              "      <td>2018-10-22T00:00:00</td>\n",
              "      <td>1658.0</td>\n",
              "      <td>CA</td>\n",
              "      <td>HOND</td>\n",
              "      <td>PA</td>\n",
              "      <td>GN</td>\n",
              "      <td>4607 S MAIN ST</td>\n",
              "      <td>549B</td>\n",
              "      <td>55.0</td>\n",
              "      <td>...</td>\n",
              "      <td>93.0</td>\n",
              "      <td>16.0</td>\n",
              "      <td>2018</td>\n",
              "      <td>10</td>\n",
              "      <td>2018-10</td>\n",
              "      <td>Monday</td>\n",
              "      <td>S MAIN ST</td>\n",
              "      <td>36727</td>\n",
              "      <td>390</td>\n",
              "      <td>0</td>\n",
              "    </tr>\n",
              "    <tr>\n",
              "      <th>6613363</th>\n",
              "      <td>4338401830</td>\n",
              "      <td>2018-10-22T00:00:00</td>\n",
              "      <td>1702.0</td>\n",
              "      <td>TN</td>\n",
              "      <td>HOND</td>\n",
              "      <td>PA</td>\n",
              "      <td>SL</td>\n",
              "      <td>5001 S MAIN ST</td>\n",
              "      <td>549B</td>\n",
              "      <td>55.0</td>\n",
              "      <td>...</td>\n",
              "      <td>93.0</td>\n",
              "      <td>17.0</td>\n",
              "      <td>2018</td>\n",
              "      <td>10</td>\n",
              "      <td>2018-10</td>\n",
              "      <td>Monday</td>\n",
              "      <td>S MAIN ST</td>\n",
              "      <td>36727</td>\n",
              "      <td>380</td>\n",
              "      <td>0</td>\n",
              "    </tr>\n",
              "    <tr>\n",
              "      <th>6637499</th>\n",
              "      <td>1126566420</td>\n",
              "      <td>2018-10-24T00:00:00</td>\n",
              "      <td>734.0</td>\n",
              "      <td>CA</td>\n",
              "      <td>NISS</td>\n",
              "      <td>PA</td>\n",
              "      <td>GY</td>\n",
              "      <td>7318 S MAIN ST</td>\n",
              "      <td>00500</td>\n",
              "      <td>55.0</td>\n",
              "      <td>...</td>\n",
              "      <td>93.0</td>\n",
              "      <td>7.0</td>\n",
              "      <td>2018</td>\n",
              "      <td>10</td>\n",
              "      <td>2018-10</td>\n",
              "      <td>Wednesday</td>\n",
              "      <td>S MAIN ST</td>\n",
              "      <td>36727</td>\n",
              "      <td>612</td>\n",
              "      <td>1</td>\n",
              "    </tr>\n",
              "    <tr>\n",
              "      <th>6637500</th>\n",
              "      <td>1126566431</td>\n",
              "      <td>2018-10-24T00:00:00</td>\n",
              "      <td>742.0</td>\n",
              "      <td>CA</td>\n",
              "      <td>MITS</td>\n",
              "      <td>PA</td>\n",
              "      <td>GY</td>\n",
              "      <td>5900 S MAIN ST</td>\n",
              "      <td>00500</td>\n",
              "      <td>55.0</td>\n",
              "      <td>...</td>\n",
              "      <td>93.0</td>\n",
              "      <td>7.0</td>\n",
              "      <td>2018</td>\n",
              "      <td>10</td>\n",
              "      <td>2018-10</td>\n",
              "      <td>Wednesday</td>\n",
              "      <td>S MAIN ST</td>\n",
              "      <td>36727</td>\n",
              "      <td>612</td>\n",
              "      <td>1</td>\n",
              "    </tr>\n",
              "    <tr>\n",
              "      <th>6650443</th>\n",
              "      <td>1126567621</td>\n",
              "      <td>2018-10-27T00:00:00</td>\n",
              "      <td>347.0</td>\n",
              "      <td>CA</td>\n",
              "      <td>NISS</td>\n",
              "      <td>PA</td>\n",
              "      <td>GY</td>\n",
              "      <td>4310 S MAIN ST</td>\n",
              "      <td>00500</td>\n",
              "      <td>55.0</td>\n",
              "      <td>...</td>\n",
              "      <td>93.0</td>\n",
              "      <td>3.0</td>\n",
              "      <td>2018</td>\n",
              "      <td>10</td>\n",
              "      <td>2018-10</td>\n",
              "      <td>Saturday</td>\n",
              "      <td>S MAIN ST</td>\n",
              "      <td>36727</td>\n",
              "      <td>1118</td>\n",
              "      <td>1</td>\n",
              "    </tr>\n",
              "    <tr>\n",
              "      <th>6650444</th>\n",
              "      <td>1126567632</td>\n",
              "      <td>2018-10-27T00:00:00</td>\n",
              "      <td>349.0</td>\n",
              "      <td>CA</td>\n",
              "      <td>BENZ</td>\n",
              "      <td>PA</td>\n",
              "      <td>GY</td>\n",
              "      <td>4200 S MAIN ST</td>\n",
              "      <td>00500</td>\n",
              "      <td>55.0</td>\n",
              "      <td>...</td>\n",
              "      <td>93.0</td>\n",
              "      <td>3.0</td>\n",
              "      <td>2018</td>\n",
              "      <td>10</td>\n",
              "      <td>2018-10</td>\n",
              "      <td>Saturday</td>\n",
              "      <td>S MAIN ST</td>\n",
              "      <td>36727</td>\n",
              "      <td>1118</td>\n",
              "      <td>1</td>\n",
              "    </tr>\n",
              "    <tr>\n",
              "      <th>6650447</th>\n",
              "      <td>1126567665</td>\n",
              "      <td>2018-10-27T00:00:00</td>\n",
              "      <td>354.0</td>\n",
              "      <td>CA</td>\n",
              "      <td>KIA</td>\n",
              "      <td>SU</td>\n",
              "      <td>RE</td>\n",
              "      <td>4301 S MAIN ST</td>\n",
              "      <td>00500</td>\n",
              "      <td>55.0</td>\n",
              "      <td>...</td>\n",
              "      <td>93.0</td>\n",
              "      <td>3.0</td>\n",
              "      <td>2018</td>\n",
              "      <td>10</td>\n",
              "      <td>2018-10</td>\n",
              "      <td>Saturday</td>\n",
              "      <td>S MAIN ST</td>\n",
              "      <td>36727</td>\n",
              "      <td>1118</td>\n",
              "      <td>1</td>\n",
              "    </tr>\n",
              "    <tr>\n",
              "      <th>6680172</th>\n",
              "      <td>1116480750</td>\n",
              "      <td>2018-09-12T00:00:00</td>\n",
              "      <td>958.0</td>\n",
              "      <td>CA</td>\n",
              "      <td>LROV</td>\n",
              "      <td>PA</td>\n",
              "      <td>BK</td>\n",
              "      <td>100 S MAIN ST</td>\n",
              "      <td>NaN</td>\n",
              "      <td>53.0</td>\n",
              "      <td>...</td>\n",
              "      <td>58.0</td>\n",
              "      <td>9.0</td>\n",
              "      <td>2018</td>\n",
              "      <td>9</td>\n",
              "      <td>2018-09</td>\n",
              "      <td>Wednesday</td>\n",
              "      <td>S MAIN ST</td>\n",
              "      <td>36727</td>\n",
              "      <td>531</td>\n",
              "      <td>1</td>\n",
              "    </tr>\n",
              "    <tr>\n",
              "      <th>6680174</th>\n",
              "      <td>1116480772</td>\n",
              "      <td>2018-09-12T00:00:00</td>\n",
              "      <td>959.0</td>\n",
              "      <td>CA</td>\n",
              "      <td>VOLK</td>\n",
              "      <td>PA</td>\n",
              "      <td>RE</td>\n",
              "      <td>100 S MAIN ST</td>\n",
              "      <td>NaN</td>\n",
              "      <td>53.0</td>\n",
              "      <td>...</td>\n",
              "      <td>25.0</td>\n",
              "      <td>9.0</td>\n",
              "      <td>2018</td>\n",
              "      <td>9</td>\n",
              "      <td>2018-09</td>\n",
              "      <td>Wednesday</td>\n",
              "      <td>S MAIN ST</td>\n",
              "      <td>36727</td>\n",
              "      <td>531</td>\n",
              "      <td>1</td>\n",
              "    </tr>\n",
              "    <tr>\n",
              "      <th>6680404</th>\n",
              "      <td>1126032681</td>\n",
              "      <td>2018-11-03T00:00:00</td>\n",
              "      <td>425.0</td>\n",
              "      <td>CA</td>\n",
              "      <td>TOYO</td>\n",
              "      <td>PA</td>\n",
              "      <td>TA</td>\n",
              "      <td>6001 S MAIN ST</td>\n",
              "      <td>00500</td>\n",
              "      <td>55.0</td>\n",
              "      <td>...</td>\n",
              "      <td>93.0</td>\n",
              "      <td>4.0</td>\n",
              "      <td>2018</td>\n",
              "      <td>11</td>\n",
              "      <td>2018-11</td>\n",
              "      <td>Saturday</td>\n",
              "      <td>S MAIN ST</td>\n",
              "      <td>36727</td>\n",
              "      <td>874</td>\n",
              "      <td>1</td>\n",
              "    </tr>\n",
              "    <tr>\n",
              "      <th>6705964</th>\n",
              "      <td>1114332111</td>\n",
              "      <td>2018-11-01T00:00:00</td>\n",
              "      <td>800.0</td>\n",
              "      <td>CA</td>\n",
              "      <td>TOYO</td>\n",
              "      <td>PA</td>\n",
              "      <td>NaN</td>\n",
              "      <td>7600 S MAIN ST</td>\n",
              "      <td>NaN</td>\n",
              "      <td>1.0</td>\n",
              "      <td>...</td>\n",
              "      <td>68.0</td>\n",
              "      <td>8.0</td>\n",
              "      <td>2018</td>\n",
              "      <td>11</td>\n",
              "      <td>2018-11</td>\n",
              "      <td>Thursday</td>\n",
              "      <td>S MAIN ST</td>\n",
              "      <td>36727</td>\n",
              "      <td>550</td>\n",
              "      <td>1</td>\n",
              "    </tr>\n",
              "    <tr>\n",
              "      <th>6705966</th>\n",
              "      <td>1114332133</td>\n",
              "      <td>2018-11-01T00:00:00</td>\n",
              "      <td>930.0</td>\n",
              "      <td>CA</td>\n",
              "      <td>GMC</td>\n",
              "      <td>SU</td>\n",
              "      <td>BK</td>\n",
              "      <td>7600 S MAIN ST</td>\n",
              "      <td>NaN</td>\n",
              "      <td>1.0</td>\n",
              "      <td>...</td>\n",
              "      <td>68.0</td>\n",
              "      <td>9.0</td>\n",
              "      <td>2018</td>\n",
              "      <td>11</td>\n",
              "      <td>2018-11</td>\n",
              "      <td>Thursday</td>\n",
              "      <td>S MAIN ST</td>\n",
              "      <td>36727</td>\n",
              "      <td>531</td>\n",
              "      <td>1</td>\n",
              "    </tr>\n",
              "    <tr>\n",
              "      <th>6705990</th>\n",
              "      <td>1114417356</td>\n",
              "      <td>2018-10-29T00:00:00</td>\n",
              "      <td>800.0</td>\n",
              "      <td>CA</td>\n",
              "      <td>FORD</td>\n",
              "      <td>PA</td>\n",
              "      <td>WH</td>\n",
              "      <td>10305 S MAIN ST</td>\n",
              "      <td>PT</td>\n",
              "      <td>1.0</td>\n",
              "      <td>...</td>\n",
              "      <td>93.0</td>\n",
              "      <td>8.0</td>\n",
              "      <td>2018</td>\n",
              "      <td>10</td>\n",
              "      <td>2018-10</td>\n",
              "      <td>Monday</td>\n",
              "      <td>S MAIN ST</td>\n",
              "      <td>36727</td>\n",
              "      <td>550</td>\n",
              "      <td>1</td>\n",
              "    </tr>\n",
              "    <tr>\n",
              "      <th>6711549</th>\n",
              "      <td>1111485443</td>\n",
              "      <td>2018-11-12T00:00:00</td>\n",
              "      <td>1025.0</td>\n",
              "      <td>CA</td>\n",
              "      <td>FORD</td>\n",
              "      <td>VN</td>\n",
              "      <td>RE</td>\n",
              "      <td>10921 S MAIN ST</td>\n",
              "      <td>NaN</td>\n",
              "      <td>55.0</td>\n",
              "      <td>...</td>\n",
              "      <td>93.0</td>\n",
              "      <td>10.0</td>\n",
              "      <td>2018</td>\n",
              "      <td>11</td>\n",
              "      <td>2018-11</td>\n",
              "      <td>Monday</td>\n",
              "      <td>S MAIN ST</td>\n",
              "      <td>36727</td>\n",
              "      <td>524</td>\n",
              "      <td>1</td>\n",
              "    </tr>\n",
              "    <tr>\n",
              "      <th>6711763</th>\n",
              "      <td>1126570583</td>\n",
              "      <td>2018-11-08T00:00:00</td>\n",
              "      <td>31.0</td>\n",
              "      <td>CA</td>\n",
              "      <td>KIA</td>\n",
              "      <td>PA</td>\n",
              "      <td>GY</td>\n",
              "      <td>7410 S MAIN ST</td>\n",
              "      <td>00500</td>\n",
              "      <td>55.0</td>\n",
              "      <td>...</td>\n",
              "      <td>93.0</td>\n",
              "      <td>0.0</td>\n",
              "      <td>2018</td>\n",
              "      <td>11</td>\n",
              "      <td>2018-11</td>\n",
              "      <td>Thursday</td>\n",
              "      <td>S MAIN ST</td>\n",
              "      <td>36727</td>\n",
              "      <td>1856</td>\n",
              "      <td>1</td>\n",
              "    </tr>\n",
              "    <tr>\n",
              "      <th>6711764</th>\n",
              "      <td>1126570594</td>\n",
              "      <td>2018-11-08T00:00:00</td>\n",
              "      <td>36.0</td>\n",
              "      <td>CA</td>\n",
              "      <td>BMW</td>\n",
              "      <td>PA</td>\n",
              "      <td>GY</td>\n",
              "      <td>7330 S MAIN ST</td>\n",
              "      <td>00500</td>\n",
              "      <td>55.0</td>\n",
              "      <td>...</td>\n",
              "      <td>93.0</td>\n",
              "      <td>0.0</td>\n",
              "      <td>2018</td>\n",
              "      <td>11</td>\n",
              "      <td>2018-11</td>\n",
              "      <td>Thursday</td>\n",
              "      <td>S MAIN ST</td>\n",
              "      <td>36727</td>\n",
              "      <td>1856</td>\n",
              "      <td>1</td>\n",
              "    </tr>\n",
              "    <tr>\n",
              "      <th>6711803</th>\n",
              "      <td>1126571423</td>\n",
              "      <td>2018-11-09T00:00:00</td>\n",
              "      <td>514.0</td>\n",
              "      <td>CA</td>\n",
              "      <td>DODG</td>\n",
              "      <td>PA</td>\n",
              "      <td>GY</td>\n",
              "      <td>4001 S MAIN ST</td>\n",
              "      <td>00500</td>\n",
              "      <td>55.0</td>\n",
              "      <td>...</td>\n",
              "      <td>68.0</td>\n",
              "      <td>5.0</td>\n",
              "      <td>2018</td>\n",
              "      <td>11</td>\n",
              "      <td>2018-11</td>\n",
              "      <td>Friday</td>\n",
              "      <td>S MAIN ST</td>\n",
              "      <td>36727</td>\n",
              "      <td>834</td>\n",
              "      <td>1</td>\n",
              "    </tr>\n",
              "    <tr>\n",
              "      <th>6723356</th>\n",
              "      <td>1120609840</td>\n",
              "      <td>2018-11-07T00:00:00</td>\n",
              "      <td>1240.0</td>\n",
              "      <td>CA</td>\n",
              "      <td>LEXS</td>\n",
              "      <td>PA</td>\n",
              "      <td>GY</td>\n",
              "      <td>550 S MAIN ST</td>\n",
              "      <td>00154</td>\n",
              "      <td>1.0</td>\n",
              "      <td>...</td>\n",
              "      <td>50.0</td>\n",
              "      <td>12.0</td>\n",
              "      <td>2018</td>\n",
              "      <td>11</td>\n",
              "      <td>2018-11</td>\n",
              "      <td>Wednesday</td>\n",
              "      <td>S MAIN ST</td>\n",
              "      <td>36727</td>\n",
              "      <td>505</td>\n",
              "      <td>1</td>\n",
              "    </tr>\n",
              "    <tr>\n",
              "      <th>6735773</th>\n",
              "      <td>1126556686</td>\n",
              "      <td>2018-11-18T00:00:00</td>\n",
              "      <td>402.0</td>\n",
              "      <td>CA</td>\n",
              "      <td>NISS</td>\n",
              "      <td>PA</td>\n",
              "      <td>SI</td>\n",
              "      <td>4306 S MAIN ST</td>\n",
              "      <td>00500</td>\n",
              "      <td>55.0</td>\n",
              "      <td>...</td>\n",
              "      <td>93.0</td>\n",
              "      <td>4.0</td>\n",
              "      <td>2018</td>\n",
              "      <td>11</td>\n",
              "      <td>2018-11</td>\n",
              "      <td>Sunday</td>\n",
              "      <td>S MAIN ST</td>\n",
              "      <td>36727</td>\n",
              "      <td>874</td>\n",
              "      <td>1</td>\n",
              "    </tr>\n",
              "    <tr>\n",
              "      <th>6735774</th>\n",
              "      <td>1126556690</td>\n",
              "      <td>2018-11-18T00:00:00</td>\n",
              "      <td>403.0</td>\n",
              "      <td>CA</td>\n",
              "      <td>CHEV</td>\n",
              "      <td>PA</td>\n",
              "      <td>BL</td>\n",
              "      <td>4272 S MAIN ST</td>\n",
              "      <td>00500</td>\n",
              "      <td>55.0</td>\n",
              "      <td>...</td>\n",
              "      <td>93.0</td>\n",
              "      <td>4.0</td>\n",
              "      <td>2018</td>\n",
              "      <td>11</td>\n",
              "      <td>2018-11</td>\n",
              "      <td>Sunday</td>\n",
              "      <td>S MAIN ST</td>\n",
              "      <td>36727</td>\n",
              "      <td>874</td>\n",
              "      <td>1</td>\n",
              "    </tr>\n",
              "    <tr>\n",
              "      <th>6735779</th>\n",
              "      <td>1126556815</td>\n",
              "      <td>2018-11-18T00:00:00</td>\n",
              "      <td>639.0</td>\n",
              "      <td>CA</td>\n",
              "      <td>HOND</td>\n",
              "      <td>PA</td>\n",
              "      <td>SI</td>\n",
              "      <td>5600 S MAIN ST</td>\n",
              "      <td>00500</td>\n",
              "      <td>55.0</td>\n",
              "      <td>...</td>\n",
              "      <td>93.0</td>\n",
              "      <td>6.0</td>\n",
              "      <td>2018</td>\n",
              "      <td>11</td>\n",
              "      <td>2018-11</td>\n",
              "      <td>Sunday</td>\n",
              "      <td>S MAIN ST</td>\n",
              "      <td>36727</td>\n",
              "      <td>664</td>\n",
              "      <td>1</td>\n",
              "    </tr>\n",
              "    <tr>\n",
              "      <th>6735780</th>\n",
              "      <td>1126556830</td>\n",
              "      <td>2018-11-18T00:00:00</td>\n",
              "      <td>645.0</td>\n",
              "      <td>CA</td>\n",
              "      <td>TOYO</td>\n",
              "      <td>PA</td>\n",
              "      <td>MA</td>\n",
              "      <td>5701 S MAIN ST</td>\n",
              "      <td>00500</td>\n",
              "      <td>55.0</td>\n",
              "      <td>...</td>\n",
              "      <td>93.0</td>\n",
              "      <td>6.0</td>\n",
              "      <td>2018</td>\n",
              "      <td>11</td>\n",
              "      <td>2018-11</td>\n",
              "      <td>Sunday</td>\n",
              "      <td>S MAIN ST</td>\n",
              "      <td>36727</td>\n",
              "      <td>664</td>\n",
              "      <td>1</td>\n",
              "    </tr>\n",
              "    <tr>\n",
              "      <th>6735781</th>\n",
              "      <td>1126556841</td>\n",
              "      <td>2018-11-18T00:00:00</td>\n",
              "      <td>647.0</td>\n",
              "      <td>CA</td>\n",
              "      <td>CHEV</td>\n",
              "      <td>TR</td>\n",
              "      <td>GY</td>\n",
              "      <td>5700 S MAIN ST</td>\n",
              "      <td>00500</td>\n",
              "      <td>55.0</td>\n",
              "      <td>...</td>\n",
              "      <td>93.0</td>\n",
              "      <td>6.0</td>\n",
              "      <td>2018</td>\n",
              "      <td>11</td>\n",
              "      <td>2018-11</td>\n",
              "      <td>Sunday</td>\n",
              "      <td>S MAIN ST</td>\n",
              "      <td>36727</td>\n",
              "      <td>664</td>\n",
              "      <td>1</td>\n",
              "    </tr>\n",
              "    <tr>\n",
              "      <th>6735782</th>\n",
              "      <td>1126556852</td>\n",
              "      <td>2018-11-18T00:00:00</td>\n",
              "      <td>649.0</td>\n",
              "      <td>CA</td>\n",
              "      <td>HOND</td>\n",
              "      <td>PA</td>\n",
              "      <td>BK</td>\n",
              "      <td>5700 S MAIN ST</td>\n",
              "      <td>00500</td>\n",
              "      <td>55.0</td>\n",
              "      <td>...</td>\n",
              "      <td>93.0</td>\n",
              "      <td>6.0</td>\n",
              "      <td>2018</td>\n",
              "      <td>11</td>\n",
              "      <td>2018-11</td>\n",
              "      <td>Sunday</td>\n",
              "      <td>S MAIN ST</td>\n",
              "      <td>36727</td>\n",
              "      <td>664</td>\n",
              "      <td>1</td>\n",
              "    </tr>\n",
              "    <tr>\n",
              "      <th>6741523</th>\n",
              "      <td>1114416004</td>\n",
              "      <td>2018-11-08T00:00:00</td>\n",
              "      <td>915.0</td>\n",
              "      <td>CA</td>\n",
              "      <td>CHEV</td>\n",
              "      <td>TR</td>\n",
              "      <td>GY</td>\n",
              "      <td>11308 S MAIN ST</td>\n",
              "      <td>01842</td>\n",
              "      <td>1.0</td>\n",
              "      <td>...</td>\n",
              "      <td>50.0</td>\n",
              "      <td>9.0</td>\n",
              "      <td>2018</td>\n",
              "      <td>11</td>\n",
              "      <td>2018-11</td>\n",
              "      <td>Thursday</td>\n",
              "      <td>S MAIN ST</td>\n",
              "      <td>36727</td>\n",
              "      <td>531</td>\n",
              "      <td>1</td>\n",
              "    </tr>\n",
              "    <tr>\n",
              "      <th>6741524</th>\n",
              "      <td>1114416553</td>\n",
              "      <td>2018-11-05T00:00:00</td>\n",
              "      <td>945.0</td>\n",
              "      <td>CA</td>\n",
              "      <td>LANC</td>\n",
              "      <td>MC</td>\n",
              "      <td>RE</td>\n",
              "      <td>11874 S MAIN ST</td>\n",
              "      <td>18SL6</td>\n",
              "      <td>1.0</td>\n",
              "      <td>...</td>\n",
              "      <td>68.0</td>\n",
              "      <td>9.0</td>\n",
              "      <td>2018</td>\n",
              "      <td>11</td>\n",
              "      <td>2018-11</td>\n",
              "      <td>Monday</td>\n",
              "      <td>S MAIN ST</td>\n",
              "      <td>36727</td>\n",
              "      <td>531</td>\n",
              "      <td>1</td>\n",
              "    </tr>\n",
              "    <tr>\n",
              "      <th>6741739</th>\n",
              "      <td>1126557950</td>\n",
              "      <td>2018-11-19T00:00:00</td>\n",
              "      <td>720.0</td>\n",
              "      <td>CA</td>\n",
              "      <td>NISS</td>\n",
              "      <td>SU</td>\n",
              "      <td>SI</td>\n",
              "      <td>6200 S MAIN ST</td>\n",
              "      <td>00500</td>\n",
              "      <td>55.0</td>\n",
              "      <td>...</td>\n",
              "      <td>93.0</td>\n",
              "      <td>7.0</td>\n",
              "      <td>2018</td>\n",
              "      <td>11</td>\n",
              "      <td>2018-11</td>\n",
              "      <td>Monday</td>\n",
              "      <td>S MAIN ST</td>\n",
              "      <td>36727</td>\n",
              "      <td>612</td>\n",
              "      <td>1</td>\n",
              "    </tr>\n",
              "    <tr>\n",
              "      <th>6741740</th>\n",
              "      <td>1126557961</td>\n",
              "      <td>2018-11-19T00:00:00</td>\n",
              "      <td>722.0</td>\n",
              "      <td>CA</td>\n",
              "      <td>VOLK</td>\n",
              "      <td>SU</td>\n",
              "      <td>BL</td>\n",
              "      <td>6122 S MAIN ST</td>\n",
              "      <td>00500</td>\n",
              "      <td>55.0</td>\n",
              "      <td>...</td>\n",
              "      <td>93.0</td>\n",
              "      <td>7.0</td>\n",
              "      <td>2018</td>\n",
              "      <td>11</td>\n",
              "      <td>2018-11</td>\n",
              "      <td>Monday</td>\n",
              "      <td>S MAIN ST</td>\n",
              "      <td>36727</td>\n",
              "      <td>612</td>\n",
              "      <td>1</td>\n",
              "    </tr>\n",
              "    <tr>\n",
              "      <th>6741741</th>\n",
              "      <td>1126557972</td>\n",
              "      <td>2018-11-19T00:00:00</td>\n",
              "      <td>723.0</td>\n",
              "      <td>CA</td>\n",
              "      <td>CHEV</td>\n",
              "      <td>PA</td>\n",
              "      <td>SI</td>\n",
              "      <td>5900 S MAIN ST</td>\n",
              "      <td>00500</td>\n",
              "      <td>55.0</td>\n",
              "      <td>...</td>\n",
              "      <td>93.0</td>\n",
              "      <td>7.0</td>\n",
              "      <td>2018</td>\n",
              "      <td>11</td>\n",
              "      <td>2018-11</td>\n",
              "      <td>Monday</td>\n",
              "      <td>S MAIN ST</td>\n",
              "      <td>36727</td>\n",
              "      <td>612</td>\n",
              "      <td>1</td>\n",
              "    </tr>\n",
              "  </tbody>\n",
              "</table>\n",
              "<p>957 rows × 22 columns</p>\n",
              "</div>"
            ],
            "text/plain": [
              "        Ticket number           Issue Date  Issue time RP State Plate  Make  \\\n",
              "1          1103700150  2015-12-21T00:00:00      1435.0             CA   GMC   \n",
              "47777      1111383416  2016-01-05T00:00:00       219.0             CA  MAZD   \n",
              "55789      1112951770  2016-01-04T00:00:00      1957.0             CA  TOYO   \n",
              "77420      1109572752  2016-01-13T00:00:00       742.0             CA   BMW   \n",
              "77421      1109572763  2016-01-13T00:00:00       743.0             CA   BMW   \n",
              "94817      1109574395  2016-01-15T00:00:00       755.0             CA   BMW   \n",
              "108995     1113871441  2016-01-18T00:00:00      1410.0             CA  ACUR   \n",
              "108996     1113871452  2016-01-18T00:00:00      1412.0             CA  JEEP   \n",
              "117186     1111379006  2016-01-21T00:00:00       205.0             CA  HOND   \n",
              "124191     1109008014  2016-01-19T00:00:00      1715.0             CA  TOYO   \n",
              "124265     1111379091  2016-01-22T00:00:00       305.0             CA  NISS   \n",
              "124270     1111379146  2016-01-23T00:00:00       215.0             CA   BMW   \n",
              "124271     1111379150  2016-01-23T00:00:00       216.0             NV  NISS   \n",
              "124301     1111379695  2016-01-23T00:00:00       338.0             MT  PREV   \n",
              "124338     1112612944  2016-01-22T00:00:00      1303.0             CA  DAEW   \n",
              "161644     1111382296  2016-01-30T00:00:00       217.0             CA  TOYO   \n",
              "161645     1111382300  2016-01-30T00:00:00       219.0             CA  MBNZ   \n",
              "161646     1111382311  2016-01-30T00:00:00       223.0             CA  TOYO   \n",
              "161647     1111382322  2016-01-30T00:00:00       226.0             CA  MINI   \n",
              "161649     1111382344  2016-01-30T00:00:00       229.0             CA  FORD   \n",
              "161650     1111382355  2016-01-30T00:00:00       230.0             CA  LEXU   \n",
              "161656     1111382451  2016-01-31T00:00:00       210.0             CA  LEXU   \n",
              "161660     1111382495  2016-01-31T00:00:00       219.0             CA  TOYO   \n",
              "161662     1111382532  2016-01-31T00:00:00       221.0             CA  HOND   \n",
              "161670     1111382613  2016-01-31T00:00:00       238.0             CA  HYUN   \n",
              "161674     1111382650  2016-01-31T00:00:00       305.0             CA  HOND   \n",
              "161675     1111382661  2016-01-31T00:00:00       307.0             CA  NISS   \n",
              "161677     1111382683  2016-01-31T00:00:00       319.0             CA  DODG   \n",
              "168954     1108172096  2016-02-01T00:00:00      1356.0             CA  TOYO   \n",
              "183555     1109336664  2016-01-27T00:00:00      1450.0             CA  FORD   \n",
              "...               ...                  ...         ...            ...   ...   \n",
              "6613361    4338401815  2018-10-22T00:00:00      1654.0             CA  HOND   \n",
              "6613362    4338401826  2018-10-22T00:00:00      1658.0             CA  HOND   \n",
              "6613363    4338401830  2018-10-22T00:00:00      1702.0             TN  HOND   \n",
              "6637499    1126566420  2018-10-24T00:00:00       734.0             CA  NISS   \n",
              "6637500    1126566431  2018-10-24T00:00:00       742.0             CA  MITS   \n",
              "6650443    1126567621  2018-10-27T00:00:00       347.0             CA  NISS   \n",
              "6650444    1126567632  2018-10-27T00:00:00       349.0             CA  BENZ   \n",
              "6650447    1126567665  2018-10-27T00:00:00       354.0             CA   KIA   \n",
              "6680172    1116480750  2018-09-12T00:00:00       958.0             CA  LROV   \n",
              "6680174    1116480772  2018-09-12T00:00:00       959.0             CA  VOLK   \n",
              "6680404    1126032681  2018-11-03T00:00:00       425.0             CA  TOYO   \n",
              "6705964    1114332111  2018-11-01T00:00:00       800.0             CA  TOYO   \n",
              "6705966    1114332133  2018-11-01T00:00:00       930.0             CA   GMC   \n",
              "6705990    1114417356  2018-10-29T00:00:00       800.0             CA  FORD   \n",
              "6711549    1111485443  2018-11-12T00:00:00      1025.0             CA  FORD   \n",
              "6711763    1126570583  2018-11-08T00:00:00        31.0             CA   KIA   \n",
              "6711764    1126570594  2018-11-08T00:00:00        36.0             CA   BMW   \n",
              "6711803    1126571423  2018-11-09T00:00:00       514.0             CA  DODG   \n",
              "6723356    1120609840  2018-11-07T00:00:00      1240.0             CA  LEXS   \n",
              "6735773    1126556686  2018-11-18T00:00:00       402.0             CA  NISS   \n",
              "6735774    1126556690  2018-11-18T00:00:00       403.0             CA  CHEV   \n",
              "6735779    1126556815  2018-11-18T00:00:00       639.0             CA  HOND   \n",
              "6735780    1126556830  2018-11-18T00:00:00       645.0             CA  TOYO   \n",
              "6735781    1126556841  2018-11-18T00:00:00       647.0             CA  CHEV   \n",
              "6735782    1126556852  2018-11-18T00:00:00       649.0             CA  HOND   \n",
              "6741523    1114416004  2018-11-08T00:00:00       915.0             CA  CHEV   \n",
              "6741524    1114416553  2018-11-05T00:00:00       945.0             CA  LANC   \n",
              "6741739    1126557950  2018-11-19T00:00:00       720.0             CA  NISS   \n",
              "6741740    1126557961  2018-11-19T00:00:00       722.0             CA  VOLK   \n",
              "6741741    1126557972  2018-11-19T00:00:00       723.0             CA  CHEV   \n",
              "\n",
              "        Body Style Color         Location  Route  Agency      ...       \\\n",
              "1               VN    WH    525 S MAIN ST   1C51     1.0      ...        \n",
              "47777           PA    GY    646 S MAIN ST  00601    56.0      ...        \n",
              "55789           PA    WH   1804 S MAIN ST  00195     1.0      ...        \n",
              "77420           PA    BL   4166 S MAIN ST  00544    55.0      ...        \n",
              "77421           PA    BL   4166 S MAIN ST  00544    55.0      ...        \n",
              "94817           PA    BK   8324 S MAIN ST   549A    55.0      ...        \n",
              "108995          PA    WH   1720 S MAIN ST   207W    51.0      ...        \n",
              "108996          PA    WH   1720 S MAIN ST   207W    51.0      ...        \n",
              "117186          PA    GY    807 S MAIN ST  00601    56.0      ...        \n",
              "124191          PA    GR    525 S MAIN ST   1C51     1.0      ...        \n",
              "124265          SU    GY    409 S MAIN ST  00601    56.0      ...        \n",
              "124270          PA    BK    700 S MAIN ST  00601    56.0      ...        \n",
              "124271          PA    BK    700 S MAIN ST  00601    56.0      ...        \n",
              "124301          BU    PU    450 S MAIN ST  00601    56.0      ...        \n",
              "124338          PA    BL   4800 S MAIN ST  00547    55.0      ...        \n",
              "161644          PA    GY    818 S MAIN ST  00600    56.0      ...        \n",
              "161645          PA    BK    756 S MAIN ST  00600    56.0      ...        \n",
              "161646          PA    WH    653 S MAIN ST  00600    56.0      ...        \n",
              "161647          PA    BK    647 S MAIN ST  00600    56.0      ...        \n",
              "161649          TR    GO    634 S MAIN ST  00600    56.0      ...        \n",
              "161650          PA    GY    620 S MAIN ST  00600    56.0      ...        \n",
              "161656          SU    SI    818 S MAIN ST  00600    56.0      ...        \n",
              "161660          PA    GY    757 S MAIN ST  00600    56.0      ...        \n",
              "161662          PA    CH    756 S MAIN ST  00601    56.0      ...        \n",
              "161670          PA    CH    518 S MAIN ST  00601    56.0      ...        \n",
              "161674          PA    SI    452 S MAIN ST  00601    56.0      ...        \n",
              "161675          PA    BL    452 S MAIN ST  00601    56.0      ...        \n",
              "161677          PA    BK    411 S MAIN ST  00601    56.0      ...        \n",
              "168954          PA    SI    627 S MAIN ST  00681    56.0      ...        \n",
              "183555          SU    WH   9310 S MAIN ST  25MQ6     1.0      ...        \n",
              "...            ...   ...              ...    ...     ...      ...        \n",
              "6613361         PA    GO   4343 S MAIN ST   549B    55.0      ...        \n",
              "6613362         PA    GN   4607 S MAIN ST   549B    55.0      ...        \n",
              "6613363         PA    SL   5001 S MAIN ST   549B    55.0      ...        \n",
              "6637499         PA    GY   7318 S MAIN ST  00500    55.0      ...        \n",
              "6637500         PA    GY   5900 S MAIN ST  00500    55.0      ...        \n",
              "6650443         PA    GY   4310 S MAIN ST  00500    55.0      ...        \n",
              "6650444         PA    GY   4200 S MAIN ST  00500    55.0      ...        \n",
              "6650447         SU    RE   4301 S MAIN ST  00500    55.0      ...        \n",
              "6680172         PA    BK    100 S MAIN ST    NaN    53.0      ...        \n",
              "6680174         PA    RE    100 S MAIN ST    NaN    53.0      ...        \n",
              "6680404         PA    TA   6001 S MAIN ST  00500    55.0      ...        \n",
              "6705964         PA   NaN   7600 S MAIN ST    NaN     1.0      ...        \n",
              "6705966         SU    BK   7600 S MAIN ST    NaN     1.0      ...        \n",
              "6705990         PA    WH  10305 S MAIN ST     PT     1.0      ...        \n",
              "6711549         VN    RE  10921 S MAIN ST    NaN    55.0      ...        \n",
              "6711763         PA    GY   7410 S MAIN ST  00500    55.0      ...        \n",
              "6711764         PA    GY   7330 S MAIN ST  00500    55.0      ...        \n",
              "6711803         PA    GY   4001 S MAIN ST  00500    55.0      ...        \n",
              "6723356         PA    GY    550 S MAIN ST  00154     1.0      ...        \n",
              "6735773         PA    SI   4306 S MAIN ST  00500    55.0      ...        \n",
              "6735774         PA    BL   4272 S MAIN ST  00500    55.0      ...        \n",
              "6735779         PA    SI   5600 S MAIN ST  00500    55.0      ...        \n",
              "6735780         PA    MA   5701 S MAIN ST  00500    55.0      ...        \n",
              "6735781         TR    GY   5700 S MAIN ST  00500    55.0      ...        \n",
              "6735782         PA    BK   5700 S MAIN ST  00500    55.0      ...        \n",
              "6741523         TR    GY  11308 S MAIN ST  01842     1.0      ...        \n",
              "6741524         MC    RE  11874 S MAIN ST  18SL6     1.0      ...        \n",
              "6741739         SU    SI   6200 S MAIN ST  00500    55.0      ...        \n",
              "6741740         SU    BL   6122 S MAIN ST  00500    55.0      ...        \n",
              "6741741         PA    SI   5900 S MAIN ST  00500    55.0      ...        \n",
              "\n",
              "        Fine amount Issue_Hour  Issue_Year  Issue_Month  Issue_Month_Year  \\\n",
              "1              50.0       14.0        2015           12           2015-12   \n",
              "47777          73.0        2.0        2016            1           2016-01   \n",
              "55789          50.0       19.0        2016            1           2016-01   \n",
              "77420          93.0        7.0        2016            1           2016-01   \n",
              "77421          25.0        7.0        2016            1           2016-01   \n",
              "94817          93.0        7.0        2016            1           2016-01   \n",
              "108995         63.0       14.0        2016            1           2016-01   \n",
              "108996         63.0       14.0        2016            1           2016-01   \n",
              "117186         73.0        2.0        2016            1           2016-01   \n",
              "124191         50.0       17.0        2016            1           2016-01   \n",
              "124265         73.0        3.0        2016            1           2016-01   \n",
              "124270         73.0        2.0        2016            1           2016-01   \n",
              "124271         73.0        2.0        2016            1           2016-01   \n",
              "124301         73.0        3.0        2016            1           2016-01   \n",
              "124338         58.0       13.0        2016            1           2016-01   \n",
              "161644         73.0        2.0        2016            1           2016-01   \n",
              "161645         73.0        2.0        2016            1           2016-01   \n",
              "161646         73.0        2.0        2016            1           2016-01   \n",
              "161647         73.0        2.0        2016            1           2016-01   \n",
              "161649         73.0        2.0        2016            1           2016-01   \n",
              "161650         73.0        2.0        2016            1           2016-01   \n",
              "161656         73.0        2.0        2016            1           2016-01   \n",
              "161660         73.0        2.0        2016            1           2016-01   \n",
              "161662         73.0        2.0        2016            1           2016-01   \n",
              "161670         73.0        2.0        2016            1           2016-01   \n",
              "161674         73.0        3.0        2016            1           2016-01   \n",
              "161675         73.0        3.0        2016            1           2016-01   \n",
              "161677         73.0        3.0        2016            1           2016-01   \n",
              "168954         63.0       13.0        2016            2           2016-02   \n",
              "183555         50.0       14.0        2016            1           2016-01   \n",
              "...             ...        ...         ...          ...               ...   \n",
              "6613361        93.0       16.0        2018           10           2018-10   \n",
              "6613362        93.0       16.0        2018           10           2018-10   \n",
              "6613363        93.0       17.0        2018           10           2018-10   \n",
              "6637499        93.0        7.0        2018           10           2018-10   \n",
              "6637500        93.0        7.0        2018           10           2018-10   \n",
              "6650443        93.0        3.0        2018           10           2018-10   \n",
              "6650444        93.0        3.0        2018           10           2018-10   \n",
              "6650447        93.0        3.0        2018           10           2018-10   \n",
              "6680172        58.0        9.0        2018            9           2018-09   \n",
              "6680174        25.0        9.0        2018            9           2018-09   \n",
              "6680404        93.0        4.0        2018           11           2018-11   \n",
              "6705964        68.0        8.0        2018           11           2018-11   \n",
              "6705966        68.0        9.0        2018           11           2018-11   \n",
              "6705990        93.0        8.0        2018           10           2018-10   \n",
              "6711549        93.0       10.0        2018           11           2018-11   \n",
              "6711763        93.0        0.0        2018           11           2018-11   \n",
              "6711764        93.0        0.0        2018           11           2018-11   \n",
              "6711803        68.0        5.0        2018           11           2018-11   \n",
              "6723356        50.0       12.0        2018           11           2018-11   \n",
              "6735773        93.0        4.0        2018           11           2018-11   \n",
              "6735774        93.0        4.0        2018           11           2018-11   \n",
              "6735779        93.0        6.0        2018           11           2018-11   \n",
              "6735780        93.0        6.0        2018           11           2018-11   \n",
              "6735781        93.0        6.0        2018           11           2018-11   \n",
              "6735782        93.0        6.0        2018           11           2018-11   \n",
              "6741523        50.0        9.0        2018           11           2018-11   \n",
              "6741524        68.0        9.0        2018           11           2018-11   \n",
              "6741739        93.0        7.0        2018           11           2018-11   \n",
              "6741740        93.0        7.0        2018           11           2018-11   \n",
              "6741741        93.0        7.0        2018           11           2018-11   \n",
              "\n",
              "         Issue_Weekday Modified_Location Modified_Location_Encode  \\\n",
              "1               Monday         S MAIN ST                    36727   \n",
              "47777          Tuesday         S MAIN ST                    36727   \n",
              "55789           Monday         S MAIN ST                    36727   \n",
              "77420        Wednesday         S MAIN ST                    36727   \n",
              "77421        Wednesday         S MAIN ST                    36727   \n",
              "94817           Friday         S MAIN ST                    36727   \n",
              "108995          Monday         S MAIN ST                    36727   \n",
              "108996          Monday         S MAIN ST                    36727   \n",
              "117186        Thursday         S MAIN ST                    36727   \n",
              "124191         Tuesday         S MAIN ST                    36727   \n",
              "124265          Friday         S MAIN ST                    36727   \n",
              "124270        Saturday         S MAIN ST                    36727   \n",
              "124271        Saturday         S MAIN ST                    36727   \n",
              "124301        Saturday         S MAIN ST                    36727   \n",
              "124338          Friday         S MAIN ST                    36727   \n",
              "161644        Saturday         S MAIN ST                    36727   \n",
              "161645        Saturday         S MAIN ST                    36727   \n",
              "161646        Saturday         S MAIN ST                    36727   \n",
              "161647        Saturday         S MAIN ST                    36727   \n",
              "161649        Saturday         S MAIN ST                    36727   \n",
              "161650        Saturday         S MAIN ST                    36727   \n",
              "161656          Sunday         S MAIN ST                    36727   \n",
              "161660          Sunday         S MAIN ST                    36727   \n",
              "161662          Sunday         S MAIN ST                    36727   \n",
              "161670          Sunday         S MAIN ST                    36727   \n",
              "161674          Sunday         S MAIN ST                    36727   \n",
              "161675          Sunday         S MAIN ST                    36727   \n",
              "161677          Sunday         S MAIN ST                    36727   \n",
              "168954          Monday         S MAIN ST                    36727   \n",
              "183555       Wednesday         S MAIN ST                    36727   \n",
              "...                ...               ...                      ...   \n",
              "6613361         Monday         S MAIN ST                    36727   \n",
              "6613362         Monday         S MAIN ST                    36727   \n",
              "6613363         Monday         S MAIN ST                    36727   \n",
              "6637499      Wednesday         S MAIN ST                    36727   \n",
              "6637500      Wednesday         S MAIN ST                    36727   \n",
              "6650443       Saturday         S MAIN ST                    36727   \n",
              "6650444       Saturday         S MAIN ST                    36727   \n",
              "6650447       Saturday         S MAIN ST                    36727   \n",
              "6680172      Wednesday         S MAIN ST                    36727   \n",
              "6680174      Wednesday         S MAIN ST                    36727   \n",
              "6680404       Saturday         S MAIN ST                    36727   \n",
              "6705964       Thursday         S MAIN ST                    36727   \n",
              "6705966       Thursday         S MAIN ST                    36727   \n",
              "6705990         Monday         S MAIN ST                    36727   \n",
              "6711549         Monday         S MAIN ST                    36727   \n",
              "6711763       Thursday         S MAIN ST                    36727   \n",
              "6711764       Thursday         S MAIN ST                    36727   \n",
              "6711803         Friday         S MAIN ST                    36727   \n",
              "6723356      Wednesday         S MAIN ST                    36727   \n",
              "6735773         Sunday         S MAIN ST                    36727   \n",
              "6735774         Sunday         S MAIN ST                    36727   \n",
              "6735779         Sunday         S MAIN ST                    36727   \n",
              "6735780         Sunday         S MAIN ST                    36727   \n",
              "6735781         Sunday         S MAIN ST                    36727   \n",
              "6735782         Sunday         S MAIN ST                    36727   \n",
              "6741523       Thursday         S MAIN ST                    36727   \n",
              "6741524         Monday         S MAIN ST                    36727   \n",
              "6741739         Monday         S MAIN ST                    36727   \n",
              "6741740         Monday         S MAIN ST                    36727   \n",
              "6741741         Monday         S MAIN ST                    36727   \n",
              "\n",
              "        Issue_Hour_Loc_Count  t_risk_level  \n",
              "1                        425             0  \n",
              "47777                   1127             1  \n",
              "55789                    358             0  \n",
              "77420                    612             1  \n",
              "77421                    612             1  \n",
              "94817                    612             1  \n",
              "108995                   425             0  \n",
              "108996                   425             0  \n",
              "117186                  1127             1  \n",
              "124191                   380             0  \n",
              "124265                  1118             1  \n",
              "124270                  1127             1  \n",
              "124271                  1127             1  \n",
              "124301                  1118             1  \n",
              "124338                   438             0  \n",
              "161644                  1127             1  \n",
              "161645                  1127             1  \n",
              "161646                  1127             1  \n",
              "161647                  1127             1  \n",
              "161649                  1127             1  \n",
              "161650                  1127             1  \n",
              "161656                  1127             1  \n",
              "161660                  1127             1  \n",
              "161662                  1127             1  \n",
              "161670                  1127             1  \n",
              "161674                  1118             1  \n",
              "161675                  1118             1  \n",
              "161677                  1118             1  \n",
              "168954                   438             0  \n",
              "183555                   425             0  \n",
              "...                      ...           ...  \n",
              "6613361                  390             0  \n",
              "6613362                  390             0  \n",
              "6613363                  380             0  \n",
              "6637499                  612             1  \n",
              "6637500                  612             1  \n",
              "6650443                 1118             1  \n",
              "6650444                 1118             1  \n",
              "6650447                 1118             1  \n",
              "6680172                  531             1  \n",
              "6680174                  531             1  \n",
              "6680404                  874             1  \n",
              "6705964                  550             1  \n",
              "6705966                  531             1  \n",
              "6705990                  550             1  \n",
              "6711549                  524             1  \n",
              "6711763                 1856             1  \n",
              "6711764                 1856             1  \n",
              "6711803                  834             1  \n",
              "6723356                  505             1  \n",
              "6735773                  874             1  \n",
              "6735774                  874             1  \n",
              "6735779                  664             1  \n",
              "6735780                  664             1  \n",
              "6735781                  664             1  \n",
              "6735782                  664             1  \n",
              "6741523                  531             1  \n",
              "6741524                  531             1  \n",
              "6741739                  612             1  \n",
              "6741740                  612             1  \n",
              "6741741                  612             1  \n",
              "\n",
              "[957 rows x 22 columns]"
            ]
          },
          "metadata": {
            "tags": []
          },
          "execution_count": 66
        }
      ]
    },
    {
      "metadata": {
        "id": "DEMYy2-s3VPr",
        "colab_type": "code",
        "outputId": "e1d39ff1-6fe6-48be-c444-1110273b6cc0",
        "colab": {
          "base_uri": "https://localhost:8080/",
          "height": 415
        }
      },
      "cell_type": "code",
      "source": [
        "df_parking.dtypes"
      ],
      "execution_count": 67,
      "outputs": [
        {
          "output_type": "execute_result",
          "data": {
            "text/plain": [
              "Ticket number                object\n",
              "Issue Date                   object\n",
              "Issue time                  float64\n",
              "RP State Plate               object\n",
              "Make                         object\n",
              "Body Style                   object\n",
              "Color                        object\n",
              "Location                     object\n",
              "Route                        object\n",
              "Agency                      float64\n",
              "Violation code               object\n",
              "Violation Description        object\n",
              "Fine amount                 float64\n",
              "Issue_Hour                  float64\n",
              "Issue_Year                    int64\n",
              "Issue_Month                   int64\n",
              "Issue_Month_Year             object\n",
              "Issue_Weekday                object\n",
              "Modified_Location            object\n",
              "Modified_Location_Encode      int64\n",
              "Issue_Hour_Loc_Count          int64\n",
              "t_risk_level                  int64\n",
              "dtype: object"
            ]
          },
          "metadata": {
            "tags": []
          },
          "execution_count": 67
        }
      ]
    },
    {
      "metadata": {
        "id": "Q6iEeCAdNJwX",
        "colab_type": "text"
      },
      "cell_type": "markdown",
      "source": [
        "#  Functions and User Input"
      ]
    },
    {
      "metadata": {
        "id": "ixqlQlUP0j3P",
        "colab_type": "code",
        "colab": {}
      },
      "cell_type": "code",
      "source": [
        "#  Function Definitions\n",
        "\n",
        "#  Function:  Applies logistic regression model with adjusted classification threshold >= 70\n",
        "def input_new_prediction(input_data):\n",
        "  data = input_data.values.reshape(1, -1)\n",
        "  prob = logreg.predict_proba(data)[0][1]\n",
        "  if prob >= 0.7:\n",
        "    return 'Do not park there!  There is a high risk of citation!'\n",
        "  else:\n",
        "    return 'Safe to park there! There is a low risk of citation'\n",
        "  \n",
        "# Function:  Displays instructions for the user\n",
        "def display_instructions():\n",
        "  print('Welcome to the Los Angeles Parking Citation Predictor Program!')\n",
        "  print('Instructions: ')\n",
        "  print('Enter street name in all capital letters.  If there is a cardinal direction, \\n please indicate it at the end of the street name. ')\n",
        "  print('Example:  MAIN ST S')\n",
        "  print('Enter hour in military time format.')\n",
        "  print('Example:  13')\n",
        "\n",
        "#  Function:  Processes user's inputs and encodes 'Modification_Location' to 'Modification_Location_Encode' value \n",
        "def user_input(a, b):\n",
        "  if (a in df_parking.Modified_Location.values) == 1:\n",
        "    encoded_input2 = df_parking.loc[df_parking['Modified_Location'] == a, 'Modified_Location_Encode'].iloc[0]\n",
        "    return(encoded_input2)\n",
        "  else:\n",
        "    print('Street is not found.  Please re-enter and check your spelling.')\n"
      ],
      "execution_count": 0,
      "outputs": []
    },
    {
      "metadata": {
        "id": "IZkjd2be5WRu",
        "colab_type": "code",
        "colab": {
          "base_uri": "https://localhost:8080/",
          "height": 190
        },
        "outputId": "dc29747a-8fb1-42b2-a8c5-4edbc2e740a1"
      },
      "cell_type": "code",
      "source": [
        "#def display_instructions():\n",
        "#  print('Welcome to the Los Angeles Parking Citation Predictor Program!')\n",
        "#  print('Instructions: ')\n",
        "#  print('Enter street name in all capital letters.  If there is a cardinal direction, \\n please indicate it at the end of the street name. ')\n",
        "#  print('Example:  MAIN ST S')\n",
        "#  print('Enter hour in military time format.')\n",
        "#  print('Example:  13')\n",
        "\n",
        "display_instructions()\n",
        "\n",
        "input_street = input('Enter street name:  ')\n",
        "input_hour = input('Enter hour:  ')\n",
        "\n",
        "#def user_input(a, b):\n",
        "#  if (a in df_parking.Modified_Location.values) == 1:\n",
        "#    encoded_input2 = df_parking.loc[df_parking['Modified_Location'] == a, 'Modified_Location_Encode'].iloc[0]\n",
        "#    return(encoded_input2)\n",
        "#  else:\n",
        "#    print('Street is not found.  Please re-enter and check your spelling.')\n",
        "    \n",
        "encoded_location = user_input(input_street, input_hour)\n",
        "\n",
        "from collections import OrderedDict\n",
        "new_data = OrderedDict([('Issue_Hour', input_hour),\n",
        "                       ('Modified_Location_Encode', encoded_location)])\n",
        "new_data = pd.Series(new_data)\n",
        "# new_data.head()\n",
        "input_new_prediction(new_data)\n",
        "  "
      ],
      "execution_count": 84,
      "outputs": [
        {
          "output_type": "stream",
          "text": [
            "Welcome to the Los Angeles Parking Citation Predictor Program!\n",
            "Instructions: \n",
            "Enter street name in all capital letters.  If there is a cardinal direction, \n",
            " please indicate it at the end of the street name. \n",
            "Example:  MAIN ST S\n",
            "Enter hour in military time format.\n",
            "Example:  13\n",
            "Enter street name:  WALL ST S\n",
            "Enter hour:  19\n"
          ],
          "name": "stdout"
        },
        {
          "output_type": "execute_result",
          "data": {
            "text/plain": [
              "'Safe to park there! There is a low risk of citation'"
            ]
          },
          "metadata": {
            "tags": []
          },
          "execution_count": 84
        }
      ]
    }
  ]
}