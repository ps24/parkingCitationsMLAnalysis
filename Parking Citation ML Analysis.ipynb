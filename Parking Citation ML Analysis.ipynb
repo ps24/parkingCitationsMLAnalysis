{
  "cells": [
    {
      "metadata": {
        "_uuid": "8f2839f25d086af736a60e9eeb907d3b93b6e0e5",
        "_cell_guid": "b1076dfc-b9ad-4769-8c92-a6c4dae69d19",
        "trusted": true
      },
      "cell_type": "code",
      "source": "import geopy\nfrom geopy.geocoders import Nominatim\n#import geocoder\n\n#from pygeocoder import Geocoder # wrapper for Google's geo-API (purpose: geocode and reverse geocode)\nimport numpy as np # linear algebra\nimport pandas as pd # data processing, CSV file I/O (e.g. pd.read_csv)\nimport datetime\n\n# Input data files are available in the \"../input/\" directory.\n# For example, running this (by clicking run or pressing Shift+Enter) will list the files in the input directory\n#from subprocess import check_output\n#print(check_output([\"ls\", \"../input\"]).decode(\"utf8\"))\nimport os\nprint(os.listdir(\"../input\"))",
      "execution_count": null,
      "outputs": []
    },
    {
      "metadata": {
        "trusted": true,
        "scrolled": true,
        "_uuid": "2a90b887e491d4c22bc63c7583371a497b92251b"
      },
      "cell_type": "code",
      "source": "geolocator = Nominatim(user_agent=\"specify_your_app_name_here\")\nlocation = geolocator.geocode(\"100 WORLD WAY\")\nprint(location.address)\nprint((location.latitude, location.longitude))",
      "execution_count": null,
      "outputs": []
    },
    {
      "metadata": {
        "_cell_guid": "79c7e3d0-c299-4dcb-8224-4455121ee9b0",
        "_uuid": "d629ff2d2480ee46fbb7e2d37f6b5fab8052498a",
        "trusted": true,
        "scrolled": true
      },
      "cell_type": "code",
      "source": "#  Upload parking citations data sest\ndata_train_file = \"../input/parking-citations.csv\"\n\ndf_train = pd.read_csv(data_train_file)",
      "execution_count": null,
      "outputs": []
    },
    {
      "metadata": {
        "trusted": true,
        "_uuid": "9c2f4a1249f929032d8709c72ee3393b030147c1",
        "scrolled": true
      },
      "cell_type": "code",
      "source": "df_train.head()",
      "execution_count": null,
      "outputs": []
    },
    {
      "metadata": {
        "trusted": true,
        "_uuid": "4dad769faf38f1a2ba3cc497df2bc086ea321224",
        "scrolled": false
      },
      "cell_type": "code",
      "source": "#  Add columns to break out 'Issue Date' into additional columns:  'Issue_Year', 'Issue_Month', 'Issue_Month_Year'\ndf_train['Issue_Year'] = pd.DatetimeIndex(df_train['Issue Date']).year\ndf_train['Issue_Month'] = pd.DatetimeIndex(df_train['Issue Date']).month\ndf_train['Issue_Month_Year'] = pd.to_datetime(df_train['Issue Date']).dt.to_period('M')\ndf_train.head()",
      "execution_count": null,
      "outputs": []
    },
    {
      "metadata": {
        "trusted": true,
        "_uuid": "d817f925095c7ea74a4687c70bc4274526e4edc0"
      },
      "cell_type": "code",
      "source": "#  add column:  zip_code\nimport pandas as pd\n\nfrom geopy.geocoders import Nominatim\ngeolocator = Nominatim(user_agent=\"specify_your_app_name_here\")\n\nfrom geopy.extra.rate_limiter import RateLimiter\ngeocode = RateLimiter(geolocator.geocode, min_delay_seconds=1)\ndf_train['zip_code'] = df_train['Location'].apply(geocode)\n\ndf_train['point'] = df_train['zip_code'].apply(lambda loc: tuple(loc.point) if loc else None)\ndf_train.head()\n",
      "execution_count": null,
      "outputs": []
    },
    {
      "metadata": {
        "trusted": true,
        "scrolled": false,
        "_uuid": "83af7e49cdccdae8fc8bb5e015b5064f84955c6e"
      },
      "cell_type": "code",
      "source": "#  Add column:  zip_code\n#Geocoder.geocode(\"4207 N Washington Ave, Douglas, AZ 85607\").valid_address\nresult = Geocoder.reverse_geocode(19.1334321,72.8882172)\n\nprint(result.coordinates)\nprint(result.country)\nprint(result.city)\nprint(result.administrative_area_level_1)\nprint(result.administrative_area_level_2)\n\n#results = Geocoder.reverse_geocode(df_train['Latitude'][2], df_train['Longitude'][2])\n#results.city",
      "execution_count": null,
      "outputs": []
    },
    {
      "metadata": {
        "trusted": true,
        "_uuid": "e63d66b0ba938b6ed11d2d4c30f9dac62148a1c5"
      },
      "cell_type": "code",
      "source": "df_train.describe()",
      "execution_count": null,
      "outputs": []
    },
    {
      "metadata": {
        "trusted": true,
        "scrolled": false,
        "_uuid": "76df78d52eff77d3c8724452aa7dc12751209b44"
      },
      "cell_type": "code",
      "source": "df_train.info()",
      "execution_count": null,
      "outputs": []
    },
    {
      "metadata": {
        "trusted": true,
        "scrolled": false,
        "_uuid": "315da24cb0cadf98ed247c7e3dd62efcb4befd05"
      },
      "cell_type": "code",
      "source": "df_train[\"RP State Plate\"].value_counts()\n#  majority of parking citations are for CA License plate holders",
      "execution_count": null,
      "outputs": []
    },
    {
      "metadata": {
        "trusted": true,
        "_uuid": "a591a7192feb758cec53088ec3c62c047e02df49"
      },
      "cell_type": "code",
      "source": "#  Create histograms of data fields\n%matplotlib inline\nimport matplotlib.pyplot as plt\ndf_train.hist(bins=50, figsize=(20,15))\nplt.show()",
      "execution_count": null,
      "outputs": []
    },
    {
      "metadata": {
        "trusted": true,
        "_uuid": "9efdb96211b0e339a49fc101d2f1270ccf139029"
      },
      "cell_type": "code",
      "source": "df_train[\"Latitude\"].value_counts()\n# most of 'Latitude' data field is unpopulated",
      "execution_count": null,
      "outputs": []
    },
    {
      "metadata": {
        "trusted": true,
        "_uuid": "3e9b3c02ebfb3619c73382a20fdb9956b337c5f6"
      },
      "cell_type": "code",
      "source": "df_train[\"Longitude\"].value_counts()",
      "execution_count": null,
      "outputs": []
    },
    {
      "metadata": {
        "trusted": true,
        "_uuid": "e6f1e0422a85695e61592ee1ebefc32d0cea3130"
      },
      "cell_type": "code",
      "source": "df_train[\"Violation Description\"].value_counts()",
      "execution_count": null,
      "outputs": []
    }
  ],
  "metadata": {
    "kernelspec": {
      "display_name": "Python 3",
      "language": "python",
      "name": "python3"
    },
    "language_info": {
      "name": "python",
      "version": "3.6.6",
      "mimetype": "text/x-python",
      "codemirror_mode": {
        "name": "ipython",
        "version": 3
      },
      "pygments_lexer": "ipython3",
      "nbconvert_exporter": "python",
      "file_extension": ".py"
    }
  },
  "nbformat": 4,
  "nbformat_minor": 1
}