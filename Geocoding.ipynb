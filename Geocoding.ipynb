{
  "nbformat": 4,
  "nbformat_minor": 0,
  "metadata": {
    "colab": {
      "name": "Geocoding.ipynb",
      "version": "0.3.2",
      "provenance": []
    },
    "kernelspec": {
      "name": "python3",
      "display_name": "Python 3"
    }
  },
  "cells": [
    {
      "metadata": {
        "id": "IOdaqlf6vvCY",
        "colab_type": "text"
      },
      "cell_type": "markdown",
      "source": [
        "#  Geocode Clean Data File\n",
        "Step 8:  Run Geocode API\n",
        "* Add series: create 'Zip_Code' column from 'Location'\n",
        "* Add series: create 'Latitude', 'Longitude' columns from 'Location'\n",
        "\n",
        "Step 9: Create new dataframe --> Save this dataframe as a csv in gDrive"
      ]
    },
    {
      "metadata": {
        "id": "byAceRnbv2zl",
        "colab_type": "code",
        "colab": {}
      },
      "cell_type": "code",
      "source": [
        ""
      ],
      "execution_count": 0,
      "outputs": []
    }
  ]
}